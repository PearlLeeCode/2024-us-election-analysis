{
  "nbformat": 4,
  "nbformat_minor": 0,
  "metadata": {
    "colab": {
      "provenance": []
    },
    "kernelspec": {
      "name": "python3",
      "display_name": "Python 3"
    },
    "language_info": {
      "name": "python"
    }
  },
  "cells": [
    {
      "cell_type": "code",
      "execution_count": 1,
      "metadata": {
        "id": "pCZVmJkMWa8A",
        "colab": {
          "base_uri": "https://localhost:8080/"
        },
        "outputId": "235a1c83-31ec-47d6-bb26-b6356669c04f"
      },
      "outputs": [
        {
          "output_type": "stream",
          "name": "stdout",
          "text": [
            "Mounted at /content/drive\n"
          ]
        }
      ],
      "source": [
        "from google.colab import drive\n",
        "drive.mount('/content/drive')"
      ]
    },
    {
      "cell_type": "markdown",
      "source": [
        "### 라이브러리"
      ],
      "metadata": {
        "id": "T0IjMPTLdh09"
      }
    },
    {
      "cell_type": "code",
      "source": [
        "import requests\n",
        "from bs4 import BeautifulSoup\n",
        "import json\n",
        "import time\n",
        "import os\n",
        "import re"
      ],
      "metadata": {
        "id": "n8DfNmGTWvY6"
      },
      "execution_count": 10,
      "outputs": []
    },
    {
      "cell_type": "markdown",
      "source": [
        "### HTTP 요청 헤더에 사용할 User-Agent 설정"
      ],
      "metadata": {
        "id": "FFKXC3y_dggU"
      }
    },
    {
      "cell_type": "code",
      "source": [
        "USER_AGENT = \"Mozilla/5.0 (Windows NT 10.0; Win64; x64) AppleWebKit/537.36 (KHTML, like Gecko) Chrome/131.0.0.0 Safari/537.36\"\n",
        "HEADERS = {\"User-Agent\": USER_AGENT}"
      ],
      "metadata": {
        "id": "xxkeSewKWvbI"
      },
      "execution_count": 3,
      "outputs": []
    },
    {
      "cell_type": "markdown",
      "source": [
        "### 입력 파일 디렉토리 경로 설정"
      ],
      "metadata": {
        "id": "DeGWpiCfdpRt"
      }
    },
    {
      "cell_type": "code",
      "source": [
        "input_file_path = '/content/drive/MyDrive/[인공지능기초]데이터크롤링/news/fox/fox_news_url_title.json'\n",
        "input_dir = os.path.dirname(input_file_path)"
      ],
      "metadata": {
        "id": "4XmU-6X_cX4z"
      },
      "execution_count": 4,
      "outputs": []
    },
    {
      "cell_type": "markdown",
      "source": [
        "### 출력 파일 경로 설정"
      ],
      "metadata": {
        "id": "zTVncSOAduIN"
      }
    },
    {
      "cell_type": "code",
      "source": [
        "partial_output_file_path = os.path.join(input_dir, 'fox_news_content.json')\n",
        "final_output_file_path = os.path.join(input_dir, 'fox_news_articles_content.json')"
      ],
      "metadata": {
        "id": "Ap36XZhHcX7J"
      },
      "execution_count": 5,
      "outputs": []
    },
    {
      "cell_type": "markdown",
      "source": [
        "### JSON 파일 로드"
      ],
      "metadata": {
        "id": "BENkLHD2dy0R"
      }
    },
    {
      "cell_type": "code",
      "source": [
        "with open(input_file_path, 'r', encoding='utf-8') as f:\n",
        "    articles = json.load(f)"
      ],
      "metadata": {
        "id": "82PaYuGQcX93"
      },
      "execution_count": 6,
      "outputs": []
    },
    {
      "cell_type": "markdown",
      "source": [
        "### 이미 수집한 데이터 로드 or 초기화"
      ],
      "metadata": {
        "id": "2lc9l6nad3FS"
      }
    },
    {
      "cell_type": "code",
      "source": [
        "if os.path.exists(partial_output_file_path):\n",
        "    with open(partial_output_file_path, 'r', encoding='utf-8') as f_out:\n",
        "        results = json.load(f_out)\n",
        "    # 이미 처리된 URL의 집합 생성\n",
        "    processed_urls = set(article['url'] for article in results)\n",
        "    print(f\"이미 처리된 기사 수: {len(processed_urls)}\")\n",
        "else:\n",
        "    results = []\n",
        "    processed_urls = set()"
      ],
      "metadata": {
        "id": "zDwskQsscYAb"
      },
      "execution_count": 13,
      "outputs": []
    },
    {
      "cell_type": "markdown",
      "source": [
        "### 뉴스 content 수집"
      ],
      "metadata": {
        "id": "16Gxi0OZd8Ui"
      }
    },
    {
      "cell_type": "code",
      "source": [
        "for idx, article in enumerate(articles):\n",
        "    url = article['url']\n",
        "    # 이미 처리된 기사라면 스킵\n",
        "    if url in processed_urls:\n",
        "        continue\n",
        "\n",
        "    try:\n",
        "        # HTTP GET 요청\n",
        "        response = requests.get(url, headers=HEADERS)\n",
        "        if response.status_code == 200:\n",
        "            html = response.text\n",
        "            # BeautifulSoup을 사용하여 HTML 파싱\n",
        "            soup = BeautifulSoup(html, 'html.parser')\n",
        "\n",
        "            # URL이 비디오 페이지인지 확인\n",
        "            if '/video/' in url:\n",
        "                # 비디오 페이지 처리\n",
        "                info_div = soup.find('div', class_='info')\n",
        "                if info_div:\n",
        "                    content_section = info_div.select_one('span.dek-text.is-hidden')\n",
        "                    if content_section:\n",
        "                        content = content_section.get_text(separator=' ', strip=True)\n",
        "                    else:\n",
        "                        print(f\"URL에서 비디오 컨텐츠를 찾을 수 없습니다: {url}\")\n",
        "                        content = ''\n",
        "                else:\n",
        "                    print(f\"URL에서 비디오 정보 섹션을 찾을 수 없습니다: {url}\")\n",
        "                    content = ''\n",
        "            else:\n",
        "                # 일반 기사 처리\n",
        "                # <div class=\"article-body\"> 태그 찾기\n",
        "                content_section = soup.find('div', class_='article-body')\n",
        "                if content_section:\n",
        "                    # 콘텐츠 섹션 전체에서 텍스트 추출\n",
        "                    content = content_section.get_text(separator=' ', strip=True)\n",
        "                else:\n",
        "                    print(f\"URL에서 컨텐츠 섹션을 찾을 수 없습니다: {url}\")\n",
        "                    content = ''\n",
        "            # 콘텐츠 정리: 모든 \\n을 공백으로 변환하고, 다중 공백을 단일 공백으로 변환\n",
        "            content = content.replace('\\n', ' ')\n",
        "            content = re.sub(r'\\s+', ' ', content)\n",
        "            # 기사 딕셔너리에 'content' 키 추가\n",
        "            article['content'] = content.strip()\n",
        "            results.append(article)\n",
        "            processed_urls.add(url)\n",
        "        else:\n",
        "            print(f\"요청 실패 ({response.status_code}): {url}\")\n",
        "    except Exception as e:\n",
        "        print(f\"오류 발생: {url} - {e}\")\n",
        "    # 서버에 과부하를 주지 않기 위해 1초 대기\n",
        "    time.sleep(1)\n",
        "    # 진행 상황을 주기적으로 저장\n",
        "    if (len(results)) % 10 == 0:\n",
        "        print(f\"({len(results)}/{len(articles)})개 뉴스 기사 저장 완료\")\n",
        "        with open(partial_output_file_path, 'w', encoding='utf-8') as f_out:\n",
        "            json.dump(results, f_out, ensure_ascii=False, indent=2)\n",
        "\n",
        "# 최종 결과를 JSON 파일로 저장\n",
        "with open(final_output_file_path, 'w', encoding='utf-8') as f_out:\n",
        "    json.dump(results, f_out, ensure_ascii=False, indent=2)"
      ],
      "metadata": {
        "colab": {
          "base_uri": "https://localhost:8080/"
        },
        "id": "ab7-8puGcYC7",
        "outputId": "535017f4-a703-4927-8434-27c63a6f0e9c"
      },
      "execution_count": 14,
      "outputs": [
        {
          "output_type": "stream",
          "name": "stdout",
          "text": [
            "(10/2201)개 뉴스 기사 저장 완료\n",
            "(20/2201)개 뉴스 기사 저장 완료\n",
            "(30/2201)개 뉴스 기사 저장 완료\n",
            "(40/2201)개 뉴스 기사 저장 완료\n",
            "(50/2201)개 뉴스 기사 저장 완료\n",
            "(60/2201)개 뉴스 기사 저장 완료\n",
            "(70/2201)개 뉴스 기사 저장 완료\n",
            "(80/2201)개 뉴스 기사 저장 완료\n",
            "(90/2201)개 뉴스 기사 저장 완료\n",
            "(100/2201)개 뉴스 기사 저장 완료\n",
            "(110/2201)개 뉴스 기사 저장 완료\n",
            "(120/2201)개 뉴스 기사 저장 완료\n",
            "(130/2201)개 뉴스 기사 저장 완료\n",
            "(140/2201)개 뉴스 기사 저장 완료\n",
            "(150/2201)개 뉴스 기사 저장 완료\n",
            "(160/2201)개 뉴스 기사 저장 완료\n",
            "(170/2201)개 뉴스 기사 저장 완료\n",
            "(180/2201)개 뉴스 기사 저장 완료\n",
            "(190/2201)개 뉴스 기사 저장 완료\n",
            "(200/2201)개 뉴스 기사 저장 완료\n",
            "(210/2201)개 뉴스 기사 저장 완료\n",
            "(220/2201)개 뉴스 기사 저장 완료\n",
            "(230/2201)개 뉴스 기사 저장 완료\n",
            "(240/2201)개 뉴스 기사 저장 완료\n",
            "(250/2201)개 뉴스 기사 저장 완료\n",
            "(260/2201)개 뉴스 기사 저장 완료\n",
            "(270/2201)개 뉴스 기사 저장 완료\n",
            "(280/2201)개 뉴스 기사 저장 완료\n",
            "(290/2201)개 뉴스 기사 저장 완료\n",
            "(300/2201)개 뉴스 기사 저장 완료\n",
            "(310/2201)개 뉴스 기사 저장 완료\n",
            "(320/2201)개 뉴스 기사 저장 완료\n",
            "(330/2201)개 뉴스 기사 저장 완료\n",
            "(340/2201)개 뉴스 기사 저장 완료\n",
            "(350/2201)개 뉴스 기사 저장 완료\n",
            "(360/2201)개 뉴스 기사 저장 완료\n",
            "(370/2201)개 뉴스 기사 저장 완료\n",
            "(380/2201)개 뉴스 기사 저장 완료\n",
            "(390/2201)개 뉴스 기사 저장 완료\n",
            "(400/2201)개 뉴스 기사 저장 완료\n",
            "(410/2201)개 뉴스 기사 저장 완료\n",
            "(420/2201)개 뉴스 기사 저장 완료\n",
            "(430/2201)개 뉴스 기사 저장 완료\n",
            "(440/2201)개 뉴스 기사 저장 완료\n",
            "(450/2201)개 뉴스 기사 저장 완료\n",
            "(460/2201)개 뉴스 기사 저장 완료\n",
            "(470/2201)개 뉴스 기사 저장 완료\n",
            "(480/2201)개 뉴스 기사 저장 완료\n",
            "(490/2201)개 뉴스 기사 저장 완료\n",
            "(500/2201)개 뉴스 기사 저장 완료\n",
            "(510/2201)개 뉴스 기사 저장 완료\n",
            "(520/2201)개 뉴스 기사 저장 완료\n",
            "(530/2201)개 뉴스 기사 저장 완료\n",
            "(540/2201)개 뉴스 기사 저장 완료\n",
            "(550/2201)개 뉴스 기사 저장 완료\n",
            "(560/2201)개 뉴스 기사 저장 완료\n",
            "(570/2201)개 뉴스 기사 저장 완료\n",
            "(580/2201)개 뉴스 기사 저장 완료\n",
            "(590/2201)개 뉴스 기사 저장 완료\n",
            "(600/2201)개 뉴스 기사 저장 완료\n",
            "(610/2201)개 뉴스 기사 저장 완료\n",
            "(620/2201)개 뉴스 기사 저장 완료\n",
            "(630/2201)개 뉴스 기사 저장 완료\n",
            "(640/2201)개 뉴스 기사 저장 완료\n",
            "(650/2201)개 뉴스 기사 저장 완료\n",
            "(660/2201)개 뉴스 기사 저장 완료\n",
            "(670/2201)개 뉴스 기사 저장 완료\n",
            "(680/2201)개 뉴스 기사 저장 완료\n",
            "(690/2201)개 뉴스 기사 저장 완료\n",
            "(700/2201)개 뉴스 기사 저장 완료\n",
            "(710/2201)개 뉴스 기사 저장 완료\n",
            "(720/2201)개 뉴스 기사 저장 완료\n",
            "(730/2201)개 뉴스 기사 저장 완료\n",
            "(740/2201)개 뉴스 기사 저장 완료\n",
            "(750/2201)개 뉴스 기사 저장 완료\n",
            "(760/2201)개 뉴스 기사 저장 완료\n",
            "(770/2201)개 뉴스 기사 저장 완료\n",
            "(780/2201)개 뉴스 기사 저장 완료\n",
            "(790/2201)개 뉴스 기사 저장 완료\n",
            "(800/2201)개 뉴스 기사 저장 완료\n",
            "(810/2201)개 뉴스 기사 저장 완료\n",
            "(820/2201)개 뉴스 기사 저장 완료\n",
            "(830/2201)개 뉴스 기사 저장 완료\n",
            "(840/2201)개 뉴스 기사 저장 완료\n",
            "(850/2201)개 뉴스 기사 저장 완료\n",
            "(860/2201)개 뉴스 기사 저장 완료\n",
            "(870/2201)개 뉴스 기사 저장 완료\n",
            "(880/2201)개 뉴스 기사 저장 완료\n",
            "(890/2201)개 뉴스 기사 저장 완료\n",
            "(900/2201)개 뉴스 기사 저장 완료\n",
            "(910/2201)개 뉴스 기사 저장 완료\n",
            "(920/2201)개 뉴스 기사 저장 완료\n",
            "(930/2201)개 뉴스 기사 저장 완료\n",
            "(940/2201)개 뉴스 기사 저장 완료\n",
            "(950/2201)개 뉴스 기사 저장 완료\n",
            "(960/2201)개 뉴스 기사 저장 완료\n",
            "(970/2201)개 뉴스 기사 저장 완료\n",
            "(980/2201)개 뉴스 기사 저장 완료\n",
            "(990/2201)개 뉴스 기사 저장 완료\n",
            "(1000/2201)개 뉴스 기사 저장 완료\n",
            "(1010/2201)개 뉴스 기사 저장 완료\n",
            "(1020/2201)개 뉴스 기사 저장 완료\n",
            "(1030/2201)개 뉴스 기사 저장 완료\n",
            "(1040/2201)개 뉴스 기사 저장 완료\n",
            "(1050/2201)개 뉴스 기사 저장 완료\n",
            "(1060/2201)개 뉴스 기사 저장 완료\n",
            "(1070/2201)개 뉴스 기사 저장 완료\n",
            "(1080/2201)개 뉴스 기사 저장 완료\n",
            "(1090/2201)개 뉴스 기사 저장 완료\n",
            "(1100/2201)개 뉴스 기사 저장 완료\n",
            "(1110/2201)개 뉴스 기사 저장 완료\n",
            "(1120/2201)개 뉴스 기사 저장 완료\n",
            "(1130/2201)개 뉴스 기사 저장 완료\n",
            "(1140/2201)개 뉴스 기사 저장 완료\n",
            "(1150/2201)개 뉴스 기사 저장 완료\n",
            "(1160/2201)개 뉴스 기사 저장 완료\n",
            "(1170/2201)개 뉴스 기사 저장 완료\n",
            "(1180/2201)개 뉴스 기사 저장 완료\n",
            "(1190/2201)개 뉴스 기사 저장 완료\n",
            "(1200/2201)개 뉴스 기사 저장 완료\n",
            "(1210/2201)개 뉴스 기사 저장 완료\n",
            "(1220/2201)개 뉴스 기사 저장 완료\n",
            "(1230/2201)개 뉴스 기사 저장 완료\n",
            "(1240/2201)개 뉴스 기사 저장 완료\n",
            "(1250/2201)개 뉴스 기사 저장 완료\n",
            "(1260/2201)개 뉴스 기사 저장 완료\n",
            "(1270/2201)개 뉴스 기사 저장 완료\n",
            "(1280/2201)개 뉴스 기사 저장 완료\n",
            "(1290/2201)개 뉴스 기사 저장 완료\n",
            "(1300/2201)개 뉴스 기사 저장 완료\n",
            "(1310/2201)개 뉴스 기사 저장 완료\n",
            "(1320/2201)개 뉴스 기사 저장 완료\n",
            "(1330/2201)개 뉴스 기사 저장 완료\n",
            "(1340/2201)개 뉴스 기사 저장 완료\n",
            "(1350/2201)개 뉴스 기사 저장 완료\n",
            "(1360/2201)개 뉴스 기사 저장 완료\n",
            "(1370/2201)개 뉴스 기사 저장 완료\n",
            "(1380/2201)개 뉴스 기사 저장 완료\n",
            "(1390/2201)개 뉴스 기사 저장 완료\n",
            "(1400/2201)개 뉴스 기사 저장 완료\n",
            "(1410/2201)개 뉴스 기사 저장 완료\n",
            "(1420/2201)개 뉴스 기사 저장 완료\n",
            "(1430/2201)개 뉴스 기사 저장 완료\n",
            "(1440/2201)개 뉴스 기사 저장 완료\n",
            "(1450/2201)개 뉴스 기사 저장 완료\n",
            "(1460/2201)개 뉴스 기사 저장 완료\n",
            "(1470/2201)개 뉴스 기사 저장 완료\n",
            "(1480/2201)개 뉴스 기사 저장 완료\n",
            "(1490/2201)개 뉴스 기사 저장 완료\n",
            "(1500/2201)개 뉴스 기사 저장 완료\n",
            "(1510/2201)개 뉴스 기사 저장 완료\n",
            "(1520/2201)개 뉴스 기사 저장 완료\n",
            "(1530/2201)개 뉴스 기사 저장 완료\n",
            "(1540/2201)개 뉴스 기사 저장 완료\n",
            "(1550/2201)개 뉴스 기사 저장 완료\n",
            "(1560/2201)개 뉴스 기사 저장 완료\n",
            "(1570/2201)개 뉴스 기사 저장 완료\n",
            "(1580/2201)개 뉴스 기사 저장 완료\n",
            "(1590/2201)개 뉴스 기사 저장 완료\n",
            "(1600/2201)개 뉴스 기사 저장 완료\n",
            "(1610/2201)개 뉴스 기사 저장 완료\n",
            "(1620/2201)개 뉴스 기사 저장 완료\n",
            "(1630/2201)개 뉴스 기사 저장 완료\n",
            "(1640/2201)개 뉴스 기사 저장 완료\n",
            "(1650/2201)개 뉴스 기사 저장 완료\n",
            "(1660/2201)개 뉴스 기사 저장 완료\n",
            "(1670/2201)개 뉴스 기사 저장 완료\n",
            "(1680/2201)개 뉴스 기사 저장 완료\n",
            "(1690/2201)개 뉴스 기사 저장 완료\n",
            "(1700/2201)개 뉴스 기사 저장 완료\n",
            "(1710/2201)개 뉴스 기사 저장 완료\n",
            "(1720/2201)개 뉴스 기사 저장 완료\n",
            "(1730/2201)개 뉴스 기사 저장 완료\n",
            "(1740/2201)개 뉴스 기사 저장 완료\n",
            "(1750/2201)개 뉴스 기사 저장 완료\n",
            "(1760/2201)개 뉴스 기사 저장 완료\n",
            "(1770/2201)개 뉴스 기사 저장 완료\n",
            "(1780/2201)개 뉴스 기사 저장 완료\n",
            "(1790/2201)개 뉴스 기사 저장 완료\n",
            "(1800/2201)개 뉴스 기사 저장 완료\n",
            "(1810/2201)개 뉴스 기사 저장 완료\n",
            "(1820/2201)개 뉴스 기사 저장 완료\n",
            "(1830/2201)개 뉴스 기사 저장 완료\n",
            "(1840/2201)개 뉴스 기사 저장 완료\n",
            "(1850/2201)개 뉴스 기사 저장 완료\n",
            "(1860/2201)개 뉴스 기사 저장 완료\n",
            "(1870/2201)개 뉴스 기사 저장 완료\n",
            "(1880/2201)개 뉴스 기사 저장 완료\n",
            "(1890/2201)개 뉴스 기사 저장 완료\n",
            "(1900/2201)개 뉴스 기사 저장 완료\n",
            "(1910/2201)개 뉴스 기사 저장 완료\n",
            "(1920/2201)개 뉴스 기사 저장 완료\n",
            "(1930/2201)개 뉴스 기사 저장 완료\n",
            "(1940/2201)개 뉴스 기사 저장 완료\n",
            "(1950/2201)개 뉴스 기사 저장 완료\n",
            "(1960/2201)개 뉴스 기사 저장 완료\n",
            "(1970/2201)개 뉴스 기사 저장 완료\n",
            "(1980/2201)개 뉴스 기사 저장 완료\n",
            "(1990/2201)개 뉴스 기사 저장 완료\n",
            "(2000/2201)개 뉴스 기사 저장 완료\n",
            "(2010/2201)개 뉴스 기사 저장 완료\n",
            "(2020/2201)개 뉴스 기사 저장 완료\n",
            "(2030/2201)개 뉴스 기사 저장 완료\n",
            "(2040/2201)개 뉴스 기사 저장 완료\n",
            "(2050/2201)개 뉴스 기사 저장 완료\n",
            "(2060/2201)개 뉴스 기사 저장 완료\n",
            "(2070/2201)개 뉴스 기사 저장 완료\n",
            "(2080/2201)개 뉴스 기사 저장 완료\n",
            "(2090/2201)개 뉴스 기사 저장 완료\n",
            "(2100/2201)개 뉴스 기사 저장 완료\n",
            "(2110/2201)개 뉴스 기사 저장 완료\n",
            "(2120/2201)개 뉴스 기사 저장 완료\n",
            "(2130/2201)개 뉴스 기사 저장 완료\n",
            "(2140/2201)개 뉴스 기사 저장 완료\n",
            "(2150/2201)개 뉴스 기사 저장 완료\n",
            "(2160/2201)개 뉴스 기사 저장 완료\n",
            "(2170/2201)개 뉴스 기사 저장 완료\n",
            "(2180/2201)개 뉴스 기사 저장 완료\n",
            "(2190/2201)개 뉴스 기사 저장 완료\n",
            "(2200/2201)개 뉴스 기사 저장 완료\n"
          ]
        }
      ]
    },
    {
      "cell_type": "code",
      "source": [
        "with open(final_output_file_path, 'r', encoding='utf-8') as f:\n",
        "    final_test = json.load(f)\n",
        "\n",
        "len(final_test)"
      ],
      "metadata": {
        "colab": {
          "base_uri": "https://localhost:8080/"
        },
        "id": "XVP0aU9vlLBl",
        "outputId": "eb716e0b-ef1b-4ead-a542-055b463a58c4"
      },
      "execution_count": 15,
      "outputs": [
        {
          "output_type": "execute_result",
          "data": {
            "text/plain": [
              "2201"
            ]
          },
          "metadata": {},
          "execution_count": 15
        }
      ]
    },
    {
      "cell_type": "code",
      "source": [
        "p = 2196\n",
        "\n",
        "print(\"TITLE: \", final_test[p].get('title'), \"\\n\")\n",
        "print(\"URL: \", final_test[p].get('url'), \"\\n\")\n",
        "print(\"DATE: \", final_test[p].get('date'), \"\\n\")\n",
        "print(\"CONTENT: \", final_test[p].get('content'), \"\\n\")"
      ],
      "metadata": {
        "colab": {
          "base_uri": "https://localhost:8080/"
        },
        "id": "Dhg1M_JbmiBy",
        "outputId": "787834ac-06b6-4c6c-bff7-44269d838ede"
      },
      "execution_count": 44,
      "outputs": [
        {
          "output_type": "stream",
          "name": "stdout",
          "text": [
            "TITLE:  Anti-Israel agitators invade Capitol Hill building on eve of Netanyahu address \n",
            "\n",
            "URL:  https://www.foxnews.com/us/anti-israel-agitators-invade-capitol-hill-building-eve-netanyahu-address \n",
            "\n",
            "DATE:  2024-07-23 \n",
            "\n",
            "CONTENT:  close Video Activists gather inside Cannon building in DC to protest Netanyahu's visit A large group of anti-Israel protesters organized in the Cannon Rotunda during Israeli Prime Minister Benjamin Netanyahu's visit to D.C. Approximately 200 people were arrested after anti-Israel agitators gathered in the Cannon Rotunda on Tuesday afternoon to protest the Israeli government. Video shows a large group of protesters wearing red shirts sitting in circles in the Cannon House Office Building's rotunda. Demonstrators clapped and chanted as police officers were seen apprehending fellow protesters, who were escorted away. The protesters appeared to be part of a Jewish group, with several of them wearing kippahs. Some of the shirts read \"Jews Say Stop Arming Israel.\" Other shirts read \"Stop Arming Israel\" and \"Not in Our Name.\" A source from the office of Rep. Dan Kildee, a Democrat from Michigan, told Fox News that staff and interns barricaded themselves in their offices, which were close to the demonstration. The protesters were nearby, and the source said the protesters were \"violently beating on all three of the doors.\" NETANYAHU'S MEETING AT WHITE HOUSE MOVED AMID BIDEN'S COVID RECOVERY, HARRIS CAMPAIGNING Video \"Hundreds of protesters outside the office became disruptive, violently beating on the office doors, shouting loudly, and attempting to force entry into the office,\" Kildee’s chief of staff told Fox in a statement. \"U.S. Capitol Police and Sergeant at Arms responded immediately to the incident and have made several arrests.\" \"Congressman Kildee is safe and his staff are all accounted for,\" the statement added. The United States Capitol Police told Fox News Digital that the protest involved \"peaceful demonstrators.\" Police reported at around 4:30 p.m. that the rotunda has been cleared. \"The Cannon Rotunda is now clear of demonstrators,\" the police's X post read. \"We will provide [the] number of arrests tonight when we get the final number.\" DOCTORS EXPRESS CONCERN ABOUT BIDEN’S APPARENT COGNITIVE ISSUES DURING DEBATE: 'TROUBLING INDICATORS' A large group of anti-Israeli protesters organized in the Cannon Rotunda during Israeli Prime Minister Benjamin Netanyahu's visit to D.C. (Fox News) Protesters were arrested for crowding, obstructing, or incommoding, according to Capitol Police. The gathering comes the same week that Israeli Prime Minister Benjamin Netanyahu is visiting the U.S. He plans to speak with President Biden and Vice President Kamala Harris in the coming days. The Israeli leader will also address a joint session of Congress on Wednesday night. Harris, who is running for president, declined to preside over the address. Senate President pro tempore Patty Murray, D-Wash., was expected to preside over the speech in Harris' absence, but she reportedly refused to be present and opted to boycott the Israeli leader. Sen. Ben Cardin, D-Md., will preside over the address instead. Several anti-Israeli protesters were arrested during the demonstration. (Fox News) Netanyahu's meeting with Biden will come days after Biden dropped out of the 2024 race. Before departing Israel for D.C., Netanyahu told reporters that his country would stand by the U.S. \"regardless [of] who the American people choose as their next president.\" CLICK HERE TO GET THE FOX NEWS APP \"In this time of war and uncertainty, it’s important that Israel’s enemies know that America and Israel stand together,\" the leader said. Fox News Digital's Julia Johnson contributed to this report. Andrea Vacchiano is a breaking news writer for Fox News Digital and Fox Business. Readers can send story tips to andrea.vacchiano@fox.com . \n",
            "\n"
          ]
        }
      ]
    },
    {
      "cell_type": "code",
      "source": [],
      "metadata": {
        "id": "iljgtPkRl6xV"
      },
      "execution_count": null,
      "outputs": []
    }
  ]
}