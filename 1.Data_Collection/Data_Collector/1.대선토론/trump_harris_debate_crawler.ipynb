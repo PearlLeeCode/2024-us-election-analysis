{
  "nbformat": 4,
  "nbformat_minor": 0,
  "metadata": {
    "colab": {
      "provenance": []
    },
    "kernelspec": {
      "name": "python3",
      "display_name": "Python 3"
    },
    "language_info": {
      "name": "python"
    }
  },
  "cells": [
    {
      "cell_type": "code",
      "execution_count": 1,
      "metadata": {
        "colab": {
          "base_uri": "https://localhost:8080/"
        },
        "id": "F4_zx_QqIbX9",
        "outputId": "c3e39890-3b71-4bd3-cab9-45429f7c5e42"
      },
      "outputs": [
        {
          "output_type": "stream",
          "name": "stdout",
          "text": [
            "Requirement already satisfied: requests in /usr/local/lib/python3.10/dist-packages (2.32.3)\n",
            "Requirement already satisfied: beautifulsoup4 in /usr/local/lib/python3.10/dist-packages (4.12.3)\n",
            "Requirement already satisfied: charset-normalizer<4,>=2 in /usr/local/lib/python3.10/dist-packages (from requests) (3.3.2)\n",
            "Requirement already satisfied: idna<4,>=2.5 in /usr/local/lib/python3.10/dist-packages (from requests) (3.10)\n",
            "Requirement already satisfied: urllib3<3,>=1.21.1 in /usr/local/lib/python3.10/dist-packages (from requests) (2.2.3)\n",
            "Requirement already satisfied: certifi>=2017.4.17 in /usr/local/lib/python3.10/dist-packages (from requests) (2024.8.30)\n",
            "Requirement already satisfied: soupsieve>1.2 in /usr/local/lib/python3.10/dist-packages (from beautifulsoup4) (2.6)\n"
          ]
        }
      ],
      "source": [
        "pip install requests beautifulsoup4"
      ]
    },
    {
      "cell_type": "code",
      "source": [
        "import requests\n",
        "from bs4 import BeautifulSoup\n",
        "import json\n",
        "import os\n",
        "\n",
        "# 웹페이지 URL\n",
        "url = \"https://rollcall.com/factbase/trump/transcript/donald-trump-debate-first-presidential-kamala-harris-philadelphia-september-10-2024/\"\n",
        "\n",
        "# JSON 파일 저장 경로\n",
        "save_directory = \"/content/drive/MyDrive/인공지능 기초\"\n",
        "os.makedirs(save_directory, exist_ok=True)  # 디렉토리가 없으면 생성\n",
        "json_filename = os.path.join(save_directory, \"scraped_results.json\")\n",
        "\n",
        "# HTTP GET 요청\n",
        "response = requests.get(url)\n",
        "\n",
        "# 응답 상태 확인\n",
        "if response.status_code == 200:\n",
        "    # HTML 파싱\n",
        "    soup = BeautifulSoup(response.text, 'html.parser')\n",
        "\n",
        "    # <div class=\"w-full\"> 내에서 <h2 class=\"text-md inline\">와 <div class=\"flex-auto text-md text-gray-600 leading-loose\">를 찾기\n",
        "    data = []\n",
        "    divs = soup.find_all('div', class_='w-full')\n",
        "    for div in divs:\n",
        "        speaker_tag = div.find('h2', class_='text-md inline')\n",
        "        script_tag = div.find('div', class_='flex-auto text-md text-gray-600 leading-loose')\n",
        "        if speaker_tag and script_tag:\n",
        "            speaker = speaker_tag.text.strip()\n",
        "            script = script_tag.text.strip()\n",
        "            data.append({'Speaker': speaker, 'Script': script})\n",
        "\n",
        "    # JSON 파일로 저장\n",
        "    with open(json_filename, 'w', encoding='utf-8') as json_file:\n",
        "        json.dump(data, json_file, ensure_ascii=False, indent=4)\n",
        "\n",
        "    print(f\"Data has been scraped and saved to {json_filename}\")\n",
        "else:\n",
        "    print(f\"Failed to retrieve the webpage. Status code: {response.status_code}\")\n"
      ],
      "metadata": {
        "colab": {
          "base_uri": "https://localhost:8080/"
        },
        "id": "0Fh8wziuIhKQ",
        "outputId": "96e5aac7-6745-4de3-e0b2-180ef329a98e"
      },
      "execution_count": 2,
      "outputs": [
        {
          "output_type": "stream",
          "name": "stdout",
          "text": [
            "Data has been scraped and saved to /content/drive/MyDrive/인공지능 기초/scraped_results.json\n"
          ]
        }
      ]
    }
  ]
}