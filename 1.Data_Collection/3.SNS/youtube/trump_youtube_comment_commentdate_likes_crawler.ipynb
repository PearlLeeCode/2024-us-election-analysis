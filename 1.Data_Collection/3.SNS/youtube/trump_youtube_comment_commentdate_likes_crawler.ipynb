{
  "cells": [
    {
      "cell_type": "code",
      "execution_count": 2,
      "metadata": {
        "colab": {
          "base_uri": "https://localhost:8080/"
        },
        "id": "1UDQ8pk8vzB4",
        "outputId": "cf2f9483-0ee6-4302-eea8-92033ea1087c"
      },
      "outputs": [
        {
          "output_type": "stream",
          "name": "stdout",
          "text": [
            "Mounted at /content/drive\n"
          ]
        }
      ],
      "source": [
        "from google.colab import drive\n",
        "drive.mount('/content/drive')"
      ]
    },
    {
      "cell_type": "code",
      "execution_count": null,
      "metadata": {
        "colab": {
          "base_uri": "https://localhost:8080/"
        },
        "id": "jpkR4ti7wLEp",
        "outputId": "e8b4c70a-2275-4678-f142-7a93efd243a6"
      },
      "outputs": [
        {
          "output_type": "stream",
          "name": "stdout",
          "text": [
            "\r0% [Working]\r            \rGet:1 https://cloud.r-project.org/bin/linux/ubuntu jammy-cran40/ InRelease [3,626 B]\n",
            "Get:2 https://developer.download.nvidia.com/compute/cuda/repos/ubuntu2204/x86_64  InRelease [1,581 B]\n",
            "Hit:3 http://archive.ubuntu.com/ubuntu jammy InRelease\n",
            "Get:4 https://r2u.stat.illinois.edu/ubuntu jammy InRelease [6,555 B]\n",
            "Get:5 https://developer.download.nvidia.com/compute/cuda/repos/ubuntu2204/x86_64  Packages [1,172 kB]\n",
            "Get:6 http://archive.ubuntu.com/ubuntu jammy-updates InRelease [128 kB]\n",
            "Get:7 http://security.ubuntu.com/ubuntu jammy-security InRelease [129 kB]\n",
            "Hit:8 https://ppa.launchpadcontent.net/deadsnakes/ppa/ubuntu jammy InRelease\n",
            "Hit:9 https://ppa.launchpadcontent.net/graphics-drivers/ppa/ubuntu jammy InRelease\n",
            "Get:10 https://r2u.stat.illinois.edu/ubuntu jammy/main all Packages [8,502 kB]\n",
            "Hit:11 https://ppa.launchpadcontent.net/ubuntugis/ppa/ubuntu jammy InRelease\n",
            "Get:12 http://archive.ubuntu.com/ubuntu jammy-backports InRelease [127 kB]\n",
            "Get:13 http://archive.ubuntu.com/ubuntu jammy-updates/universe amd64 Packages [1,512 kB]\n",
            "Get:14 https://r2u.stat.illinois.edu/ubuntu jammy/main amd64 Packages [2,618 kB]\n",
            "Get:15 http://security.ubuntu.com/ubuntu jammy-security/restricted amd64 Packages [3,323 kB]\n",
            "Get:16 http://archive.ubuntu.com/ubuntu jammy-updates/main amd64 Packages [2,734 kB]\n",
            "Get:17 http://security.ubuntu.com/ubuntu jammy-security/main amd64 Packages [2,452 kB]\n",
            "Get:18 http://security.ubuntu.com/ubuntu jammy-security/universe amd64 Packages [1,223 kB]\n",
            "Fetched 23.9 MB in 3s (8,321 kB/s)\n",
            "Reading package lists... Done\n",
            "W: Skipping acquire of configured file 'main/source/Sources' as repository 'https://r2u.stat.illinois.edu/ubuntu jammy InRelease' does not seem to provide it (sources.list entry misspelt?)\n",
            "Reading package lists... Done\n",
            "Building dependency tree... Done\n",
            "Reading state information... Done\n",
            "The following additional packages will be installed:\n",
            "  apparmor chromium-browser libfuse3-3 liblzo2-2 libudev1 snapd squashfs-tools systemd-hwe-hwdb\n",
            "  udev\n",
            "Suggested packages:\n",
            "  apparmor-profiles-extra apparmor-utils fuse3 zenity | kdialog\n",
            "The following NEW packages will be installed:\n",
            "  apparmor chromium-browser chromium-chromedriver libfuse3-3 liblzo2-2 snapd squashfs-tools\n",
            "  systemd-hwe-hwdb udev\n",
            "The following packages will be upgraded:\n",
            "  libudev1\n",
            "1 upgraded, 9 newly installed, 0 to remove and 48 not upgraded.\n",
            "Need to get 29.0 MB of archives.\n",
            "After this operation, 120 MB of additional disk space will be used.\n",
            "Get:1 http://archive.ubuntu.com/ubuntu jammy-updates/main amd64 apparmor amd64 3.0.4-2ubuntu2.4 [598 kB]\n",
            "Get:2 http://archive.ubuntu.com/ubuntu jammy/main amd64 liblzo2-2 amd64 2.10-2build3 [53.7 kB]\n",
            "Get:3 http://archive.ubuntu.com/ubuntu jammy/main amd64 squashfs-tools amd64 1:4.5-3build1 [159 kB]\n",
            "Get:4 http://archive.ubuntu.com/ubuntu jammy-updates/main amd64 libudev1 amd64 249.11-0ubuntu3.12 [78.2 kB]\n",
            "Get:5 http://archive.ubuntu.com/ubuntu jammy-updates/main amd64 udev amd64 249.11-0ubuntu3.12 [1,557 kB]\n",
            "Get:6 http://archive.ubuntu.com/ubuntu jammy/main amd64 libfuse3-3 amd64 3.10.5-1build1 [81.2 kB]\n",
            "Get:7 http://archive.ubuntu.com/ubuntu jammy-updates/main amd64 snapd amd64 2.65.3+22.04 [26.4 MB]\n",
            "Get:8 http://archive.ubuntu.com/ubuntu jammy-updates/universe amd64 chromium-browser amd64 1:85.0.4183.83-0ubuntu2.22.04.1 [49.2 kB]\n",
            "Get:9 http://archive.ubuntu.com/ubuntu jammy-updates/universe amd64 chromium-chromedriver amd64 1:85.0.4183.83-0ubuntu2.22.04.1 [2,308 B]\n",
            "Get:10 http://archive.ubuntu.com/ubuntu jammy-updates/main amd64 systemd-hwe-hwdb all 249.11.5 [3,228 B]\n",
            "Fetched 29.0 MB in 3s (11.5 MB/s)\n",
            "Preconfiguring packages ...\n",
            "Selecting previously unselected package apparmor.\n",
            "(Reading database ... 123630 files and directories currently installed.)\n",
            "Preparing to unpack .../apparmor_3.0.4-2ubuntu2.4_amd64.deb ...\n",
            "Unpacking apparmor (3.0.4-2ubuntu2.4) ...\n",
            "Selecting previously unselected package liblzo2-2:amd64.\n",
            "Preparing to unpack .../liblzo2-2_2.10-2build3_amd64.deb ...\n",
            "Unpacking liblzo2-2:amd64 (2.10-2build3) ...\n",
            "Selecting previously unselected package squashfs-tools.\n",
            "Preparing to unpack .../squashfs-tools_1%3a4.5-3build1_amd64.deb ...\n",
            "Unpacking squashfs-tools (1:4.5-3build1) ...\n",
            "Preparing to unpack .../libudev1_249.11-0ubuntu3.12_amd64.deb ...\n",
            "Unpacking libudev1:amd64 (249.11-0ubuntu3.12) over (249.11-0ubuntu3.10) ...\n",
            "Setting up libudev1:amd64 (249.11-0ubuntu3.12) ...\n",
            "Selecting previously unselected package udev.\n",
            "(Reading database ... 123838 files and directories currently installed.)\n",
            "Preparing to unpack .../udev_249.11-0ubuntu3.12_amd64.deb ...\n",
            "Unpacking udev (249.11-0ubuntu3.12) ...\n",
            "Selecting previously unselected package libfuse3-3:amd64.\n",
            "Preparing to unpack .../libfuse3-3_3.10.5-1build1_amd64.deb ...\n",
            "Unpacking libfuse3-3:amd64 (3.10.5-1build1) ...\n",
            "Selecting previously unselected package snapd.\n",
            "Preparing to unpack .../snapd_2.65.3+22.04_amd64.deb ...\n",
            "Unpacking snapd (2.65.3+22.04) ...\n",
            "Setting up apparmor (3.0.4-2ubuntu2.4) ...\n",
            "Created symlink /etc/systemd/system/sysinit.target.wants/apparmor.service → /lib/systemd/system/apparmor.service.\n",
            "Setting up liblzo2-2:amd64 (2.10-2build3) ...\n",
            "Setting up squashfs-tools (1:4.5-3build1) ...\n",
            "Setting up udev (249.11-0ubuntu3.12) ...\n",
            "invoke-rc.d: could not determine current runlevel\n",
            "invoke-rc.d: policy-rc.d denied execution of start.\n",
            "Setting up libfuse3-3:amd64 (3.10.5-1build1) ...\n",
            "Setting up snapd (2.65.3+22.04) ...\n",
            "Created symlink /etc/systemd/system/multi-user.target.wants/snapd.apparmor.service → /lib/systemd/system/snapd.apparmor.service.\n",
            "Created symlink /etc/systemd/system/multi-user.target.wants/snapd.autoimport.service → /lib/systemd/system/snapd.autoimport.service.\n",
            "Created symlink /etc/systemd/system/multi-user.target.wants/snapd.core-fixup.service → /lib/systemd/system/snapd.core-fixup.service.\n",
            "Created symlink /etc/systemd/system/multi-user.target.wants/snapd.recovery-chooser-trigger.service → /lib/systemd/system/snapd.recovery-chooser-trigger.service.\n",
            "Created symlink /etc/systemd/system/multi-user.target.wants/snapd.seeded.service → /lib/systemd/system/snapd.seeded.service.\n",
            "Created symlink /etc/systemd/system/cloud-final.service.wants/snapd.seeded.service → /lib/systemd/system/snapd.seeded.service.\n",
            "Unit /lib/systemd/system/snapd.seeded.service is added as a dependency to a non-existent unit cloud-final.service.\n",
            "Created symlink /etc/systemd/system/multi-user.target.wants/snapd.service → /lib/systemd/system/snapd.service.\n",
            "Created symlink /etc/systemd/system/timers.target.wants/snapd.snap-repair.timer → /lib/systemd/system/snapd.snap-repair.timer.\n",
            "Created symlink /etc/systemd/system/sockets.target.wants/snapd.socket → /lib/systemd/system/snapd.socket.\n",
            "Created symlink /etc/systemd/system/final.target.wants/snapd.system-shutdown.service → /lib/systemd/system/snapd.system-shutdown.service.\n",
            "Selecting previously unselected package chromium-browser.\n",
            "(Reading database ... 124067 files and directories currently installed.)\n",
            "Preparing to unpack .../chromium-browser_1%3a85.0.4183.83-0ubuntu2.22.04.1_amd64.deb ...\n",
            "=> Installing the chromium snap\n",
            "==> Checking connectivity with the snap store\n",
            "===> System doesn't have a working snapd, skipping\n",
            "Unpacking chromium-browser (1:85.0.4183.83-0ubuntu2.22.04.1) ...\n",
            "Selecting previously unselected package chromium-chromedriver.\n",
            "Preparing to unpack .../chromium-chromedriver_1%3a85.0.4183.83-0ubuntu2.22.04.1_amd64.deb ...\n",
            "Unpacking chromium-chromedriver (1:85.0.4183.83-0ubuntu2.22.04.1) ...\n",
            "Selecting previously unselected package systemd-hwe-hwdb.\n",
            "Preparing to unpack .../systemd-hwe-hwdb_249.11.5_all.deb ...\n",
            "Unpacking systemd-hwe-hwdb (249.11.5) ...\n",
            "Setting up systemd-hwe-hwdb (249.11.5) ...\n",
            "Setting up chromium-browser (1:85.0.4183.83-0ubuntu2.22.04.1) ...\n",
            "update-alternatives: using /usr/bin/chromium-browser to provide /usr/bin/x-www-browser (x-www-browser) in auto mode\n",
            "update-alternatives: using /usr/bin/chromium-browser to provide /usr/bin/gnome-www-browser (gnome-www-browser) in auto mode\n",
            "Setting up chromium-chromedriver (1:85.0.4183.83-0ubuntu2.22.04.1) ...\n",
            "Processing triggers for udev (249.11-0ubuntu3.12) ...\n",
            "Processing triggers for hicolor-icon-theme (0.17-2) ...\n",
            "Processing triggers for libc-bin (2.35-0ubuntu3.4) ...\n",
            "/sbin/ldconfig.real: /usr/local/lib/libtbbmalloc_proxy.so.2 is not a symbolic link\n",
            "\n",
            "/sbin/ldconfig.real: /usr/local/lib/libhwloc.so.15 is not a symbolic link\n",
            "\n",
            "/sbin/ldconfig.real: /usr/local/lib/libtcm.so.1 is not a symbolic link\n",
            "\n",
            "/sbin/ldconfig.real: /usr/local/lib/libtbbbind.so.3 is not a symbolic link\n",
            "\n",
            "/sbin/ldconfig.real: /usr/local/lib/libumf.so.0 is not a symbolic link\n",
            "\n",
            "/sbin/ldconfig.real: /usr/local/lib/libtbb.so.12 is not a symbolic link\n",
            "\n",
            "/sbin/ldconfig.real: /usr/local/lib/libur_loader.so.0 is not a symbolic link\n",
            "\n",
            "/sbin/ldconfig.real: /usr/local/lib/libur_adapter_level_zero.so.0 is not a symbolic link\n",
            "\n",
            "/sbin/ldconfig.real: /usr/local/lib/libtbbbind_2_0.so.3 is not a symbolic link\n",
            "\n",
            "/sbin/ldconfig.real: /usr/local/lib/libtbbbind_2_5.so.3 is not a symbolic link\n",
            "\n",
            "/sbin/ldconfig.real: /usr/local/lib/libur_adapter_opencl.so.0 is not a symbolic link\n",
            "\n",
            "/sbin/ldconfig.real: /usr/local/lib/libtbbmalloc.so.2 is not a symbolic link\n",
            "\n",
            "/sbin/ldconfig.real: /usr/local/lib/libtcm_debug.so.1 is not a symbolic link\n",
            "\n",
            "Processing triggers for man-db (2.10.2-1) ...\n",
            "Processing triggers for dbus (1.12.20-2ubuntu4.1) ...\n",
            "Collecting selenium==4.26.1\n",
            "  Downloading selenium-4.26.1-py3-none-any.whl.metadata (7.1 kB)\n",
            "Requirement already satisfied: urllib3<3,>=1.26 in /usr/local/lib/python3.10/dist-packages (from urllib3[socks]<3,>=1.26->selenium==4.26.1) (2.2.3)\n",
            "Collecting trio~=0.17 (from selenium==4.26.1)\n",
            "  Downloading trio-0.27.0-py3-none-any.whl.metadata (8.6 kB)\n",
            "Collecting trio-websocket~=0.9 (from selenium==4.26.1)\n",
            "  Downloading trio_websocket-0.11.1-py3-none-any.whl.metadata (4.7 kB)\n",
            "Requirement already satisfied: certifi>=2021.10.8 in /usr/local/lib/python3.10/dist-packages (from selenium==4.26.1) (2024.8.30)\n",
            "Requirement already satisfied: typing_extensions~=4.9 in /usr/local/lib/python3.10/dist-packages (from selenium==4.26.1) (4.12.2)\n",
            "Requirement already satisfied: websocket-client~=1.8 in /usr/local/lib/python3.10/dist-packages (from selenium==4.26.1) (1.8.0)\n",
            "Requirement already satisfied: attrs>=23.2.0 in /usr/local/lib/python3.10/dist-packages (from trio~=0.17->selenium==4.26.1) (24.2.0)\n",
            "Collecting sortedcontainers (from trio~=0.17->selenium==4.26.1)\n",
            "  Downloading sortedcontainers-2.4.0-py2.py3-none-any.whl.metadata (10 kB)\n",
            "Requirement already satisfied: idna in /usr/local/lib/python3.10/dist-packages (from trio~=0.17->selenium==4.26.1) (3.10)\n",
            "Collecting outcome (from trio~=0.17->selenium==4.26.1)\n",
            "  Downloading outcome-1.3.0.post0-py2.py3-none-any.whl.metadata (2.6 kB)\n",
            "Requirement already satisfied: sniffio>=1.3.0 in /usr/local/lib/python3.10/dist-packages (from trio~=0.17->selenium==4.26.1) (1.3.1)\n",
            "Requirement already satisfied: exceptiongroup in /usr/local/lib/python3.10/dist-packages (from trio~=0.17->selenium==4.26.1) (1.2.2)\n",
            "Collecting wsproto>=0.14 (from trio-websocket~=0.9->selenium==4.26.1)\n",
            "  Downloading wsproto-1.2.0-py3-none-any.whl.metadata (5.6 kB)\n",
            "Requirement already satisfied: pysocks!=1.5.7,<2.0,>=1.5.6 in /usr/local/lib/python3.10/dist-packages (from urllib3[socks]<3,>=1.26->selenium==4.26.1) (1.7.1)\n",
            "Requirement already satisfied: h11<1,>=0.9.0 in /usr/local/lib/python3.10/dist-packages (from wsproto>=0.14->trio-websocket~=0.9->selenium==4.26.1) (0.14.0)\n",
            "Downloading selenium-4.26.1-py3-none-any.whl (9.7 MB)\n",
            "\u001b[2K   \u001b[90m━━━━━━━━━━━━━━━━━━━━━━━━━━━━━━━━━━━━━━━━\u001b[0m \u001b[32m9.7/9.7 MB\u001b[0m \u001b[31m52.5 MB/s\u001b[0m eta \u001b[36m0:00:00\u001b[0m\n",
            "\u001b[?25hDownloading trio-0.27.0-py3-none-any.whl (481 kB)\n",
            "\u001b[2K   \u001b[90m━━━━━━━━━━━━━━━━━━━━━━━━━━━━━━━━━━━━━━━━\u001b[0m \u001b[32m481.7/481.7 kB\u001b[0m \u001b[31m33.9 MB/s\u001b[0m eta \u001b[36m0:00:00\u001b[0m\n",
            "\u001b[?25hDownloading trio_websocket-0.11.1-py3-none-any.whl (17 kB)\n",
            "Downloading wsproto-1.2.0-py3-none-any.whl (24 kB)\n",
            "Downloading outcome-1.3.0.post0-py2.py3-none-any.whl (10 kB)\n",
            "Downloading sortedcontainers-2.4.0-py2.py3-none-any.whl (29 kB)\n",
            "Installing collected packages: sortedcontainers, wsproto, outcome, trio, trio-websocket, selenium\n",
            "Successfully installed outcome-1.3.0.post0 selenium-4.26.1 sortedcontainers-2.4.0 trio-0.27.0 trio-websocket-0.11.1 wsproto-1.2.0\n"
          ]
        }
      ],
      "source": [
        "!apt-get update\n",
        "!apt install chromium-chromedriver\n",
        "!pip install selenium==4.26.1"
      ]
    },
    {
      "cell_type": "code",
      "execution_count": null,
      "metadata": {
        "colab": {
          "base_uri": "https://localhost:8080/"
        },
        "id": "S7ZKVcd9wLaK",
        "outputId": "5a4838c8-acee-415e-c765-76d637c9e86d"
      },
      "outputs": [
        {
          "output_type": "stream",
          "name": "stdout",
          "text": [
            "Reading package lists... Done\n",
            "Building dependency tree... Done\n",
            "Reading state information... Done\n",
            "chromium-chromedriver is already the newest version (1:85.0.4183.83-0ubuntu2.22.04.1).\n",
            "0 upgraded, 0 newly installed, 0 to remove and 48 not upgraded.\n",
            "Collecting chromedriver-autoinstaller\n",
            "  Downloading chromedriver_autoinstaller-0.6.4-py3-none-any.whl.metadata (2.1 kB)\n",
            "Requirement already satisfied: packaging>=23.1 in /usr/local/lib/python3.10/dist-packages (from chromedriver-autoinstaller) (24.2)\n",
            "Downloading chromedriver_autoinstaller-0.6.4-py3-none-any.whl (7.6 kB)\n",
            "Installing collected packages: chromedriver-autoinstaller\n",
            "Successfully installed chromedriver-autoinstaller-0.6.4\n"
          ]
        }
      ],
      "source": [
        "# (최초 1회)\n",
        "!apt install chromium-chromedriver\n",
        "!cp /usr/lib/chromium-browser/chromedriver '/content/drive/MyDrive/Colab Notebooks' #\n",
        "!pip install chromedriver-autoinstaller"
      ]
    },
    {
      "cell_type": "code",
      "execution_count": null,
      "metadata": {
        "id": "hjIt3ESHwLez"
      },
      "outputs": [],
      "source": [
        "# Import modules\n",
        "import chromedriver_autoinstaller\n",
        "from selenium import webdriver\n",
        "from selenium.webdriver.chrome.options import Options\n",
        "from selenium.webdriver.common.by import By\n",
        "from selenium.webdriver.support.ui import WebDriverWait\n",
        "from selenium.webdriver.support import expected_conditions as EC\n",
        "import time\n",
        "from google.colab import drive\n",
        "import os\n",
        "import json"
      ]
    },
    {
      "cell_type": "code",
      "execution_count": null,
      "metadata": {
        "id": "AByVTHwWwLhZ"
      },
      "outputs": [],
      "source": [
        "# Install the correct version of chromedriver\n",
        "chromedriver_autoinstaller.install()"
      ]
    },
    {
      "cell_type": "code",
      "execution_count": null,
      "metadata": {
        "id": "rR7M5WXGwLj8"
      },
      "outputs": [],
      "source": [
        "# Set up the Chrome driver\n",
        "options = Options()\n",
        "options.add_argument('--headless')  # Run in headless mode\n",
        "options.add_argument('--no-sandbox')\n",
        "options.add_argument('--disable-dev-shm-usage')"
      ]
    },
    {
      "cell_type": "code",
      "execution_count": null,
      "metadata": {
        "id": "bJDjCPPrwX9i"
      },
      "outputs": [],
      "source": [
        "driver = webdriver.Chrome(options=options)"
      ]
    },
    {
      "cell_type": "code",
      "execution_count": null,
      "metadata": {
        "id": "GyXDwcg7wX_9"
      },
      "outputs": [],
      "source": [
        "# JSON 파일 로드\n",
        "with open('/content/drive/MyDrive/[인공지능기초]/sns/youtube/comment/trump_youtube_url_title_date.json', 'r') as f:\n",
        "    video_data = json.load(f)"
      ]
    },
    {
      "cell_type": "code",
      "execution_count": null,
      "metadata": {
        "id": "ZDMCF16nwYE-"
      },
      "outputs": [],
      "source": [
        "# 결과를 저장할 리스트와 파일 경로 설정\n",
        "output_data = []\n",
        "output_file_path = '/content/drive/MyDrive/[인공지능기초]/sns/youtube/comment/comments_data.jsonl'\n",
        "processed_videos_path = '/content/drive/MyDrive/[인공지능기초]/sns/youtube/comment/processed_videos.json'"
      ]
    },
    {
      "cell_type": "code",
      "execution_count": null,
      "metadata": {
        "id": "xgdh4m3lwYHf"
      },
      "outputs": [],
      "source": [
        "# 이미 처리된 비디오 URL 로드\n",
        "if os.path.exists(processed_videos_path):\n",
        "    with open(processed_videos_path, 'r', encoding='utf-8') as f:\n",
        "        processed_videos = set(json.load(f))\n",
        "else:\n",
        "    processed_videos = set()"
      ]
    },
    {
      "cell_type": "code",
      "execution_count": null,
      "metadata": {
        "colab": {
          "base_uri": "https://localhost:8080/",
          "height": 1000
        },
        "id": "eVO84JZ6wYKG",
        "outputId": "ac15977c-787a-4d8c-e444-36e93c2158e4"
      },
      "outputs": [
        {
          "name": "stdout",
          "output_type": "stream",
          "text": [
            "Processing video 1/113: Together.\n",
            "Found 1113 comments\n",
            "Finished processing video 1/113\n",
            "Processing video 2/113: Tomorrow.\n",
            "Found 1111 comments\n",
            "Finished processing video 2/113\n",
            "Processing video 3/113: A Special Message from President Donald J. Trump\n",
            "Found 1088 comments\n",
            "Finished processing video 3/113\n",
            "Processing video 4/113: We Fight\n",
            "Found 870 comments\n",
            "Finished processing video 4/113\n",
            "Processing video 5/113: Trump Force 47 - Weekly Recap\n",
            "Found 773 comments\n",
            "Finished processing video 5/113\n",
            "Processing video 6/113: MAGA Women Respond to Kamala Surrogate Mark Cuban\n",
            "Found 708 comments\n",
            "Finished processing video 6/113\n",
            "Processing video 7/113: I'm Not With Her\n",
            "Found 866 comments\n",
            "Finished processing video 7/113\n",
            "Processing video 8/113: President Trump Tells the Hilarious Story of How the Garbage Truck and the Orange Vest Came To Be\n",
            "Found 760 comments\n",
            "Finished processing video 8/113\n",
            "Processing video 9/113: Kamala and Joe call us all garbage. I call you the heart and soul of America.\n",
            "Found 739 comments\n",
            "Finished processing video 9/113\n",
            "Processing video 10/113: \"How Do You Like My Garbage Truck? This Truck is in Honor of Kamala and Joe Biden.\"\n",
            "Found 981 comments\n",
            "Finished processing video 10/113\n",
            "Processing video 11/113: Hall of Fame Quarterback Brett Favre Speaks at President Trump's Rally in Green Bay, Wisconsin\n",
            "Found 432 comments\n",
            "Finished processing video 11/113\n",
            "Processing video 12/113: My Response to Kamala & Biden: You can’t LEAD America if you don’t LOVE Americans.\n",
            "Found 592 comments\n",
            "Finished processing video 12/113\n",
            "Processing video 13/113: Fix It\n",
            "Found 499 comments\n",
            "Finished processing video 13/113\n",
            "Processing video 14/113: 6 days.\n",
            "Found 920 comments\n",
            "Finished processing video 14/113\n",
            "Processing video 15/113: Kamala Harris Refused To Protect Jocelyn Nungaray\n",
            "Found 813 comments\n",
            "Finished processing video 15/113\n",
            "Processing video 16/113: Never Quit\n",
            "Found 927 comments\n",
            "Finished processing video 16/113\n",
            "Processing video 17/113: Imam Belal Alzuhairi's Powerful Endorsement of President Trump\n",
            "Found 931 comments\n",
            "Finished processing video 17/113\n",
            "Processing video 18/113: Holocaust Survivor: Kamala Comparing President Trump to Hitler \"Worst Thing I Ever Heard In U.S.\"\n",
            "Found 830 comments\n",
            "Finished processing video 18/113\n",
            "Processing video 19/113: SHE BROKE IT — AND I PROMISE YOU, I WILL FIX IT!\n",
            "Found 603 comments\n",
            "Finished processing video 19/113\n",
            "Processing video 20/113: We aren't running against Kamala. We're running against a massive, crooked, radical left machine.\n",
            "Found 719 comments\n",
            "Finished processing video 20/113\n",
            "Processing video 21/113: Philadelphia Voters Are Not Happy with Barack Hussein Obama Talking Down to Them!\n",
            "Found 262 comments\n",
            "Finished processing video 21/113\n",
            "Processing video 22/113: President Trump's 20 Promises\n",
            "Found 878 comments\n",
            "Finished processing video 22/113\n",
            "Processing video 23/113: Trump Always\n",
            "Found 1036 comments\n",
            "Finished processing video 23/113\n",
            "Processing video 24/113: Four More\n",
            "Found 542 comments\n",
            "Finished processing video 24/113\n",
            "Processing video 25/113: President Trump’s Vow to the American People\n",
            "Found 689 comments\n",
            "Finished processing video 25/113\n",
            "Processing video 26/113: President Trump Explains Why He Will Never Stop Fighting for the American People in 4 Minutes\n",
            "Found 688 comments\n",
            "Finished processing video 26/113\n",
            "Processing video 27/113: FULL: President Trump's Interview with MediaBuzz\n",
            "Found 777 comments\n",
            "Finished processing video 27/113\n",
            "Processing video 28/113: MICHIGAN — GET OUT AND VOTE!\n",
            "Found 824 comments\n",
            "Finished processing video 28/113\n",
            "Processing video 29/113: Broken Record\n",
            "Found 739 comments\n",
            "Finished processing video 29/113\n",
            "Processing video 30/113: Democratic Muslim Mayor Amer Ghalib of Hamtramck, Michigan Endorses President Trump!\n",
            "Found 328 comments\n",
            "Finished processing video 30/113\n",
            "Processing video 31/113: President Trump Speaks to Reporters in Michigan Under the Wing of Trump Force One\n",
            "Found 853 comments\n",
            "Finished processing video 31/113\n",
            "Processing video 32/113: GEORGIA — GET OUT AND VOTE!\n",
            "Found 584 comments\n",
            "Finished processing video 32/113\n",
            "Processing video 33/113: FULL SPEECH: President Trump's Speech at the Alfred E. Smith Memorial Foundation Dinner\n",
            "Found 1105 comments\n",
            "Finished processing video 33/113\n",
            "Processing video 34/113: Global Chaos\n",
            "Found 730 comments\n",
            "Finished processing video 34/113\n",
            "Processing video 35/113: MUST WATCH: Kamala Harris' Disastrous Interview with Fox News\n",
            "Found 1034 comments\n",
            "Finished processing video 35/113\n",
            "Processing video 36/113: Kamala MALFUNCTIONS When Asked How She Can \"Turn The Page\" When She's Been in Office for 4 Years!\n",
            "Found 889 comments\n",
            "Finished processing video 36/113\n",
            "Processing video 37/113: Kamala REFUSED to Apologize to the Families of Jocelyn Nungaray, Rachel Morin, and Laken Riley\n",
            "Found 674 comments\n",
            "Finished processing video 37/113\n",
            "Processing video 38/113: Border Czar Kamala Doesn't Know How Many Illegal Aliens She's Released Into Our Country!\n",
            "Found 784 comments\n",
            "Finished processing video 38/113\n",
            "Processing video 39/113: President Trump's Interview with Bloomberg at The Economic Club of Chicago\n",
            "Found 944 comments\n",
            "Finished processing video 39/113\n",
            "Processing video 40/113: I Don't Want\n",
            "Found 770 comments\n",
            "Finished processing video 40/113\n",
            "Processing video 41/113: ARE YOU BETTER OFF NOW THAN FOUR YEARS AGO?\n",
            "Found 865 comments\n",
            "Finished processing video 41/113\n",
            "Processing video 42/113: MUST WATCH: National Border Patrol Council ENDORSES President Donald J. Trump\n",
            "Found 341 comments\n",
            "Finished processing video 42/113\n",
            "Processing video 43/113: Believers for Trump\n",
            "Found 485 comments\n",
            "Finished processing video 43/113\n",
            "Processing video 44/113: Join Lara Trump & Trump Force Captains for a Weekend of Action!\n",
            "Found 119 comments\n",
            "Finished processing video 44/113\n",
            "Processing video 45/113: ABC POLL: 59% of Americans Say the Economy is Getting WORSE Under Lyin' Kamala\n",
            "Found 221 comments\n",
            "Finished processing video 45/113\n",
            "Processing video 46/113: 65% of Americans Say Kamala Will Be NO DIFFERENT Than Biden! It's TRUE!\n",
            "Found 458 comments\n",
            "Finished processing video 46/113\n",
            "Processing video 47/113: I WILL END DOUBLE TAXATION...\n",
            "Found 1073 comments\n",
            "Finished processing video 47/113\n",
            "Processing video 48/113: OCCUPIED AMERICA\n",
            "Found 642 comments\n",
            "Finished processing video 48/113\n",
            "Processing video 49/113: KAMALA WOULDN'T CHANGE A THING...\n",
            "Found 719 comments\n",
            "Finished processing video 49/113\n",
            "Processing video 50/113: First Lady Melania Trump Joins The Five\n"
          ]
        },
        {
          "ename": "KeyboardInterrupt",
          "evalue": "",
          "output_type": "error",
          "traceback": [
            "\u001b[0;31m---------------------------------------------------------------------------\u001b[0m",
            "\u001b[0;31mKeyboardInterrupt\u001b[0m                         Traceback (most recent call last)",
            "\u001b[0;32m<ipython-input-14-41524631d1ca>\u001b[0m in \u001b[0;36m<cell line: 2>\u001b[0;34m()\u001b[0m\n\u001b[1;32m     13\u001b[0m \u001b[0;34m\u001b[0m\u001b[0m\n\u001b[1;32m     14\u001b[0m         \u001b[0mdriver\u001b[0m\u001b[0;34m.\u001b[0m\u001b[0mget\u001b[0m\u001b[0;34m(\u001b[0m\u001b[0murl\u001b[0m\u001b[0;34m)\u001b[0m\u001b[0;34m\u001b[0m\u001b[0;34m\u001b[0m\u001b[0m\n\u001b[0;32m---> 15\u001b[0;31m         \u001b[0mtime\u001b[0m\u001b[0;34m.\u001b[0m\u001b[0msleep\u001b[0m\u001b[0;34m(\u001b[0m\u001b[0;36m2\u001b[0m\u001b[0;34m)\u001b[0m  \u001b[0;31m# 페이지 로드 대기\u001b[0m\u001b[0;34m\u001b[0m\u001b[0;34m\u001b[0m\u001b[0m\n\u001b[0m\u001b[1;32m     16\u001b[0m \u001b[0;34m\u001b[0m\u001b[0m\n\u001b[1;32m     17\u001b[0m         \u001b[0;31m# 댓글 로드를 위한 스크롤 다운\u001b[0m\u001b[0;34m\u001b[0m\u001b[0;34m\u001b[0m\u001b[0m\n",
            "\u001b[0;31mKeyboardInterrupt\u001b[0m: "
          ]
        }
      ],
      "source": [
        "# 각 비디오에 대해 댓글 스크래핑\n",
        "for idx, video in enumerate(video_data):\n",
        "    url = video['url']\n",
        "    video_title = video['title']\n",
        "    video_date = video['date']\n",
        "\n",
        "    if url in processed_videos:\n",
        "        print(f\"Skipping already processed video {idx+1}/{len(video_data)}: {video_title}\")\n",
        "        continue\n",
        "\n",
        "    try:\n",
        "        print(f\"Processing video {idx+1}/{len(video_data)}: {video_title}\")\n",
        "\n",
        "        driver.get(url)\n",
        "        time.sleep(2)  # 페이지 로드 대기\n",
        "\n",
        "        # 댓글 로드를 위한 스크롤 다운\n",
        "        driver.execute_script(\"window.scrollTo(0, 600);\")\n",
        "        time.sleep(2)\n",
        "\n",
        "        # 모든 댓글을 로드하기 위한 스크롤\n",
        "        last_height = driver.execute_script(\"return document.documentElement.scrollHeight\")\n",
        "        scroll_attempts = 0\n",
        "        while True:\n",
        "            driver.execute_script(\"window.scrollTo(0, document.documentElement.scrollHeight);\")\n",
        "            time.sleep(2)\n",
        "            new_height = driver.execute_script(\"return document.documentElement.scrollHeight\")\n",
        "            if new_height == last_height:\n",
        "                scroll_attempts += 1\n",
        "                if scroll_attempts >= 3:\n",
        "                    break\n",
        "            else:\n",
        "                last_height = new_height\n",
        "                scroll_attempts = 0\n",
        "\n",
        "        # 댓글 요소 찾기\n",
        "        comments = driver.find_elements(By.CSS_SELECTOR, 'ytd-comment-thread-renderer')\n",
        "        print(f\"Found {len(comments)} comments\")\n",
        "\n",
        "        for comment in comments:\n",
        "            try:\n",
        "                # 댓글 텍스트 추출\n",
        "                comment_text = comment.find_element(By.CSS_SELECTOR, '#content-text').text.strip()\n",
        "\n",
        "                # 댓글 작성 날짜 추출\n",
        "                date_element = comment.find_element(By.CSS_SELECTOR, '#published-time-text')\n",
        "                date = date_element.text.strip()\n",
        "\n",
        "                # 좋아요 수 추출 (파싱 없이 원본 그대로 저장)\n",
        "                likes_element = comment.find_element(By.CSS_SELECTOR, '#vote-count-middle')\n",
        "                likes_text = likes_element.text.strip()\n",
        "\n",
        "                # 데이터 저장\n",
        "                output_data.append({\n",
        "                    'video_url': url,\n",
        "                    'video_title': video_title,\n",
        "                    'video_date': video_date,\n",
        "                    'comment_text': comment_text,\n",
        "                    'comment_date': date,\n",
        "                    'comment_likes': likes_text  # 원본 텍스트 그대로 저장\n",
        "                })\n",
        "            except Exception as e:\n",
        "                print(f\"Error processing a comment: {e}\")\n",
        "                continue\n",
        "\n",
        "        # 중간 결과 저장\n",
        "        with open(output_file_path, 'a', encoding='utf-8') as f_out:\n",
        "            for data in output_data:\n",
        "                json_record = json.dumps(data, ensure_ascii=False)\n",
        "                f_out.write(json_record + '\\n')\n",
        "            output_data = []  # 리스트 초기화\n",
        "\n",
        "        # 처리된 비디오 URL 저장\n",
        "        processed_videos.add(url)\n",
        "        with open(processed_videos_path, 'w', encoding='utf-8') as f_processed:\n",
        "            json.dump(list(processed_videos), f_processed, ensure_ascii=False)\n",
        "\n",
        "        print(f\"Finished processing video {idx+1}/{len(video_data)}\")\n",
        "    except Exception as e:\n",
        "        print(f\"Error processing video {url}: {e}\")\n",
        "        continue"
      ]
    },
    {
      "cell_type": "code",
      "execution_count": null,
      "metadata": {
        "id": "5lfeL3Eb0mV_"
      },
      "outputs": [],
      "source": [
        "# 이미 처리된 비디오 URL 로드\n",
        "if os.path.exists(processed_videos_path):\n",
        "    with open(processed_videos_path, 'r', encoding='utf-8') as f:\n",
        "        processed_videos = set(json.load(f))\n",
        "else:\n",
        "    processed_videos = set()"
      ]
    },
    {
      "cell_type": "code",
      "execution_count": null,
      "metadata": {
        "colab": {
          "background_save": true,
          "base_uri": "https://localhost:8080/"
        },
        "id": "w41Ug4yf0mYQ",
        "outputId": "dfcd1fcb-9811-4404-f3da-615ab1b539c3"
      },
      "outputs": [
        {
          "name": "stdout",
          "output_type": "stream",
          "text": [
            "Skipping already processed video 1/113: Together.\n",
            "Skipping already processed video 2/113: Tomorrow.\n",
            "Skipping already processed video 3/113: A Special Message from President Donald J. Trump\n",
            "Skipping already processed video 4/113: We Fight\n",
            "Skipping already processed video 5/113: Trump Force 47 - Weekly Recap\n",
            "Skipping already processed video 6/113: MAGA Women Respond to Kamala Surrogate Mark Cuban\n",
            "Skipping already processed video 7/113: I'm Not With Her\n",
            "Skipping already processed video 8/113: President Trump Tells the Hilarious Story of How the Garbage Truck and the Orange Vest Came To Be\n",
            "Skipping already processed video 9/113: Kamala and Joe call us all garbage. I call you the heart and soul of America.\n",
            "Skipping already processed video 10/113: \"How Do You Like My Garbage Truck? This Truck is in Honor of Kamala and Joe Biden.\"\n",
            "Skipping already processed video 11/113: Hall of Fame Quarterback Brett Favre Speaks at President Trump's Rally in Green Bay, Wisconsin\n",
            "Skipping already processed video 12/113: My Response to Kamala & Biden: You can’t LEAD America if you don’t LOVE Americans.\n",
            "Skipping already processed video 13/113: Fix It\n",
            "Skipping already processed video 14/113: 6 days.\n",
            "Skipping already processed video 15/113: Kamala Harris Refused To Protect Jocelyn Nungaray\n",
            "Skipping already processed video 16/113: Never Quit\n",
            "Skipping already processed video 17/113: Imam Belal Alzuhairi's Powerful Endorsement of President Trump\n",
            "Skipping already processed video 18/113: Holocaust Survivor: Kamala Comparing President Trump to Hitler \"Worst Thing I Ever Heard In U.S.\"\n",
            "Skipping already processed video 19/113: SHE BROKE IT — AND I PROMISE YOU, I WILL FIX IT!\n",
            "Skipping already processed video 20/113: We aren't running against Kamala. We're running against a massive, crooked, radical left machine.\n",
            "Skipping already processed video 21/113: Philadelphia Voters Are Not Happy with Barack Hussein Obama Talking Down to Them!\n",
            "Skipping already processed video 22/113: President Trump's 20 Promises\n",
            "Skipping already processed video 23/113: Trump Always\n",
            "Skipping already processed video 24/113: Four More\n",
            "Skipping already processed video 25/113: President Trump’s Vow to the American People\n",
            "Skipping already processed video 26/113: President Trump Explains Why He Will Never Stop Fighting for the American People in 4 Minutes\n",
            "Skipping already processed video 27/113: FULL: President Trump's Interview with MediaBuzz\n",
            "Skipping already processed video 28/113: MICHIGAN — GET OUT AND VOTE!\n",
            "Skipping already processed video 29/113: Broken Record\n",
            "Skipping already processed video 30/113: Democratic Muslim Mayor Amer Ghalib of Hamtramck, Michigan Endorses President Trump!\n",
            "Skipping already processed video 31/113: President Trump Speaks to Reporters in Michigan Under the Wing of Trump Force One\n",
            "Skipping already processed video 32/113: GEORGIA — GET OUT AND VOTE!\n",
            "Skipping already processed video 33/113: FULL SPEECH: President Trump's Speech at the Alfred E. Smith Memorial Foundation Dinner\n",
            "Skipping already processed video 34/113: Global Chaos\n",
            "Skipping already processed video 35/113: MUST WATCH: Kamala Harris' Disastrous Interview with Fox News\n",
            "Skipping already processed video 36/113: Kamala MALFUNCTIONS When Asked How She Can \"Turn The Page\" When She's Been in Office for 4 Years!\n",
            "Skipping already processed video 37/113: Kamala REFUSED to Apologize to the Families of Jocelyn Nungaray, Rachel Morin, and Laken Riley\n",
            "Skipping already processed video 38/113: Border Czar Kamala Doesn't Know How Many Illegal Aliens She's Released Into Our Country!\n",
            "Skipping already processed video 39/113: President Trump's Interview with Bloomberg at The Economic Club of Chicago\n",
            "Skipping already processed video 40/113: I Don't Want\n",
            "Skipping already processed video 41/113: ARE YOU BETTER OFF NOW THAN FOUR YEARS AGO?\n",
            "Skipping already processed video 42/113: MUST WATCH: National Border Patrol Council ENDORSES President Donald J. Trump\n",
            "Skipping already processed video 43/113: Believers for Trump\n",
            "Skipping already processed video 44/113: Join Lara Trump & Trump Force Captains for a Weekend of Action!\n",
            "Skipping already processed video 45/113: ABC POLL: 59% of Americans Say the Economy is Getting WORSE Under Lyin' Kamala\n",
            "Skipping already processed video 46/113: 65% of Americans Say Kamala Will Be NO DIFFERENT Than Biden! It's TRUE!\n",
            "Skipping already processed video 47/113: I WILL END DOUBLE TAXATION...\n",
            "Skipping already processed video 48/113: OCCUPIED AMERICA\n",
            "Skipping already processed video 49/113: KAMALA WOULDN'T CHANGE A THING...\n",
            "Processing video 50/113: First Lady Melania Trump Joins The Five\n",
            "Found 1103 comments\n",
            "Finished processing video 50/113\n",
            "Processing video 51/113: Kamala Says There Isn't A Thing She Would Do Different Than Biden!\n",
            "Found 775 comments\n",
            "Finished processing video 51/113\n",
            "Processing video 52/113: President Trump Speaks at October 7 Remembrance Event in Miami, Florida\n",
            "Found 581 comments\n",
            "Finished processing video 52/113\n",
            "Processing video 53/113: President Trump Pays Tribute to Corey Comperatore in Butler, Pennsylvania\n",
            "Found 649 comments\n",
            "Finished processing video 53/113\n",
            "Processing video 54/113: Welcome back to Butler, Mr. President.\n",
            "Found 922 comments\n",
            "Finished processing video 54/113\n",
            "Processing video 55/113: Kamala has been completely AWOL.\n",
            "Found 461 comments\n",
            "Finished processing video 55/113\n",
            "Processing video 56/113: President Trump Sits Down with Larry Kudlow of Fox Business\n",
            "Found 729 comments\n",
            "Finished processing video 56/113\n",
            "Processing video 57/113: Unbelievable\n",
            "Found 671 comments\n",
            "Finished processing video 57/113\n",
            "Processing video 58/113: Gonna\n",
            "Found 577 comments\n",
            "Finished processing video 58/113\n",
            "Processing video 59/113: Give a Frack\n",
            "Found 367 comments\n",
            "Finished processing video 59/113\n",
            "Processing video 60/113: Join Trump Force 47 NOW.\n",
            "Found 778 comments\n",
            "Finished processing video 60/113\n",
            "Processing video 61/113: FULL INTERVIEW: President Trump's Interview with Dave Ramsey\n",
            "Found 939 comments\n",
            "Finished processing video 61/113\n",
            "Processing video 62/113: FULL REMARKS: President Trump Speaks in Valdosta, Georgia in Aftermath of Hurricane Helene\n",
            "Found 884 comments\n",
            "Finished processing video 62/113\n",
            "Processing video 63/113: President Trump Visits Valdosta, Georgia to Deliver Relief to Victims of Hurricane Helene\n",
            "Found 781 comments\n",
            "Finished processing video 63/113\n",
            "Processing video 64/113: This is JD Vance.\n",
            "Found 944 comments\n",
            "Finished processing video 64/113\n",
            "Processing video 65/113: MAKE AMERICA GREAT AGAIN 🇺🇸\n",
            "Found 1115 comments\n",
            "Finished processing video 65/113\n",
            "Processing video 66/113: First Lady Melania Trump's Full Interview on Fox & Friends\n",
            "Found 1176 comments\n",
            "Finished processing video 66/113\n",
            "Processing video 67/113: FULL REMARKS: President Trump's Address to the New York Economic Club\n",
            "Found 373 comments\n",
            "Finished processing video 67/113\n",
            "Processing video 68/113: Pennsylvania Farmer Shares How Kamala's Inflation & Insane Energy Policies Affect Her Family\n",
            "Found 336 comments\n",
            "Finished processing video 68/113\n",
            "Processing video 69/113: Join Trump Force 47 TODAY!\n",
            "Found 284 comments\n",
            "Finished processing video 69/113\n",
            "Processing video 70/113: “Copy and Paste”\n",
            "Found 783 comments\n",
            "Finished processing video 70/113\n",
            "Processing video 71/113: Failure to Launch\n",
            "Found 713 comments\n",
            "Finished processing video 71/113\n",
            "Processing video 72/113: Kamala Has No Economic Plan\n",
            "Found 745 comments\n",
            "Finished processing video 72/113\n",
            "Processing video 73/113: Make America Affordable Again: Vote for Donald Trump\n",
            "Found 378 comments\n",
            "Finished processing video 73/113\n",
            "Processing video 74/113: DONALD TRUMP WILL UNIFY AMERICA\n",
            "Found 294 comments\n",
            "Finished processing video 74/113\n",
            "Processing video 75/113: MAKE AMERICA GREAT AGAIN\n",
            "Found 648 comments\n",
            "Finished processing video 75/113\n",
            "Processing video 76/113: President Trump's Grandchildren, Luke and Carolina, Join President Trump on Stage in North Carolina\n",
            "Found 623 comments\n",
            "Finished processing video 76/113\n",
            "Processing video 77/113: Kamala Harris & Democrats are the Party of Violence.\n",
            "Found 704 comments\n",
            "Finished processing video 77/113\n",
            "Processing video 78/113: FULL INTERVIEW: President Donald J. Trump on Gutfeld\n",
            "Found 1077 comments\n"
          ]
        }
      ],
      "source": [
        "# 각 비디오에 대해 댓글 스크래핑\n",
        "for idx, video in enumerate(video_data):\n",
        "    url = video['url']\n",
        "    video_title = video['title']\n",
        "    video_date = video['date']\n",
        "\n",
        "    if url in processed_videos:\n",
        "        print(f\"Skipping already processed video {idx+1}/{len(video_data)}: {video_title}\")\n",
        "        continue\n",
        "\n",
        "    try:\n",
        "        print(f\"Processing video {idx+1}/{len(video_data)}: {video_title}\")\n",
        "\n",
        "        driver.get(url)\n",
        "        time.sleep(2)  # 페이지 로드 대기\n",
        "\n",
        "        # 댓글 로드를 위한 스크롤 다운\n",
        "        driver.execute_script(\"window.scrollTo(0, 600);\")\n",
        "        time.sleep(2)\n",
        "\n",
        "        # 모든 댓글을 로드하기 위한 스크롤\n",
        "        last_height = driver.execute_script(\"return document.documentElement.scrollHeight\")\n",
        "        scroll_attempts = 0\n",
        "        while True:\n",
        "            driver.execute_script(\"window.scrollTo(0, document.documentElement.scrollHeight);\")\n",
        "            time.sleep(2)\n",
        "            new_height = driver.execute_script(\"return document.documentElement.scrollHeight\")\n",
        "            if new_height == last_height:\n",
        "                scroll_attempts += 1\n",
        "                if scroll_attempts >= 3:\n",
        "                    break\n",
        "            else:\n",
        "                last_height = new_height\n",
        "                scroll_attempts = 0\n",
        "\n",
        "        # 댓글 요소 찾기\n",
        "        comments = driver.find_elements(By.CSS_SELECTOR, 'ytd-comment-thread-renderer')\n",
        "        print(f\"Found {len(comments)} comments\")\n",
        "\n",
        "        for comment in comments:\n",
        "            try:\n",
        "                # 댓글 텍스트 추출\n",
        "                comment_text = comment.find_element(By.CSS_SELECTOR, '#content-text').text.strip()\n",
        "\n",
        "                # 댓글 작성 날짜 추출\n",
        "                date_element = comment.find_element(By.CSS_SELECTOR, '#published-time-text')\n",
        "                date = date_element.text.strip()\n",
        "\n",
        "                # 좋아요 수 추출 (파싱 없이 원본 그대로 저장)\n",
        "                likes_element = comment.find_element(By.CSS_SELECTOR, '#vote-count-middle')\n",
        "                likes_text = likes_element.text.strip()\n",
        "\n",
        "                # 데이터 저장\n",
        "                output_data.append({\n",
        "                    'video_url': url,\n",
        "                    'video_title': video_title,\n",
        "                    'video_date': video_date,\n",
        "                    'comment_text': comment_text,\n",
        "                    'comment_date': date,\n",
        "                    'comment_likes': likes_text  # 원본 텍스트 그대로 저장\n",
        "                })\n",
        "            except Exception as e:\n",
        "                print(f\"Error processing a comment: {e}\")\n",
        "                continue\n",
        "\n",
        "        # 중간 결과 저장\n",
        "        with open(output_file_path, 'a', encoding='utf-8') as f_out:\n",
        "            for data in output_data:\n",
        "                json_record = json.dumps(data, ensure_ascii=False)\n",
        "                f_out.write(json_record + '\\n')\n",
        "            output_data = []  # 리스트 초기화\n",
        "\n",
        "        # 처리된 비디오 URL 저장\n",
        "        processed_videos.add(url)\n",
        "        with open(processed_videos_path, 'w', encoding='utf-8') as f_processed:\n",
        "            json.dump(list(processed_videos), f_processed, ensure_ascii=False)\n",
        "\n",
        "        print(f\"Finished processing video {idx+1}/{len(video_data)}\")\n",
        "    except Exception as e:\n",
        "        print(f\"Error processing video {url}: {e}\")\n",
        "        continue"
      ]
    },
    {
      "cell_type": "code",
      "execution_count": null,
      "metadata": {
        "id": "F-QC72zV0mav"
      },
      "outputs": [],
      "source": [
        "# 이미 처리된 비디오 URL 로드\n",
        "if os.path.exists(processed_videos_path):\n",
        "    with open(processed_videos_path, 'r', encoding='utf-8') as f:\n",
        "        processed_videos = set(json.load(f))\n",
        "else:\n",
        "    processed_videos = set()"
      ]
    },
    {
      "cell_type": "code",
      "execution_count": null,
      "metadata": {
        "id": "d3h84qM30mdU",
        "colab": {
          "base_uri": "https://localhost:8080/"
        },
        "outputId": "ab3f52d2-565a-4a60-a045-ba9d74a064f1"
      },
      "outputs": [
        {
          "output_type": "stream",
          "name": "stdout",
          "text": [
            "Skipping already processed video 1/113: Together.\n",
            "Skipping already processed video 2/113: Tomorrow.\n",
            "Skipping already processed video 3/113: A Special Message from President Donald J. Trump\n",
            "Skipping already processed video 4/113: We Fight\n",
            "Skipping already processed video 5/113: Trump Force 47 - Weekly Recap\n",
            "Skipping already processed video 6/113: MAGA Women Respond to Kamala Surrogate Mark Cuban\n",
            "Skipping already processed video 7/113: I'm Not With Her\n",
            "Skipping already processed video 8/113: President Trump Tells the Hilarious Story of How the Garbage Truck and the Orange Vest Came To Be\n",
            "Skipping already processed video 9/113: Kamala and Joe call us all garbage. I call you the heart and soul of America.\n",
            "Skipping already processed video 10/113: \"How Do You Like My Garbage Truck? This Truck is in Honor of Kamala and Joe Biden.\"\n",
            "Skipping already processed video 11/113: Hall of Fame Quarterback Brett Favre Speaks at President Trump's Rally in Green Bay, Wisconsin\n",
            "Skipping already processed video 12/113: My Response to Kamala & Biden: You can’t LEAD America if you don’t LOVE Americans.\n",
            "Skipping already processed video 13/113: Fix It\n",
            "Skipping already processed video 14/113: 6 days.\n",
            "Skipping already processed video 15/113: Kamala Harris Refused To Protect Jocelyn Nungaray\n",
            "Skipping already processed video 16/113: Never Quit\n",
            "Skipping already processed video 17/113: Imam Belal Alzuhairi's Powerful Endorsement of President Trump\n",
            "Skipping already processed video 18/113: Holocaust Survivor: Kamala Comparing President Trump to Hitler \"Worst Thing I Ever Heard In U.S.\"\n",
            "Skipping already processed video 19/113: SHE BROKE IT — AND I PROMISE YOU, I WILL FIX IT!\n",
            "Skipping already processed video 20/113: We aren't running against Kamala. We're running against a massive, crooked, radical left machine.\n",
            "Skipping already processed video 21/113: Philadelphia Voters Are Not Happy with Barack Hussein Obama Talking Down to Them!\n",
            "Skipping already processed video 22/113: President Trump's 20 Promises\n",
            "Skipping already processed video 23/113: Trump Always\n",
            "Skipping already processed video 24/113: Four More\n",
            "Skipping already processed video 25/113: President Trump’s Vow to the American People\n",
            "Skipping already processed video 26/113: President Trump Explains Why He Will Never Stop Fighting for the American People in 4 Minutes\n",
            "Skipping already processed video 27/113: FULL: President Trump's Interview with MediaBuzz\n",
            "Skipping already processed video 28/113: MICHIGAN — GET OUT AND VOTE!\n",
            "Skipping already processed video 29/113: Broken Record\n",
            "Skipping already processed video 30/113: Democratic Muslim Mayor Amer Ghalib of Hamtramck, Michigan Endorses President Trump!\n",
            "Skipping already processed video 31/113: President Trump Speaks to Reporters in Michigan Under the Wing of Trump Force One\n",
            "Skipping already processed video 32/113: GEORGIA — GET OUT AND VOTE!\n",
            "Skipping already processed video 33/113: FULL SPEECH: President Trump's Speech at the Alfred E. Smith Memorial Foundation Dinner\n",
            "Skipping already processed video 34/113: Global Chaos\n",
            "Skipping already processed video 35/113: MUST WATCH: Kamala Harris' Disastrous Interview with Fox News\n",
            "Skipping already processed video 36/113: Kamala MALFUNCTIONS When Asked How She Can \"Turn The Page\" When She's Been in Office for 4 Years!\n",
            "Skipping already processed video 37/113: Kamala REFUSED to Apologize to the Families of Jocelyn Nungaray, Rachel Morin, and Laken Riley\n",
            "Skipping already processed video 38/113: Border Czar Kamala Doesn't Know How Many Illegal Aliens She's Released Into Our Country!\n",
            "Skipping already processed video 39/113: President Trump's Interview with Bloomberg at The Economic Club of Chicago\n",
            "Skipping already processed video 40/113: I Don't Want\n",
            "Skipping already processed video 41/113: ARE YOU BETTER OFF NOW THAN FOUR YEARS AGO?\n",
            "Skipping already processed video 42/113: MUST WATCH: National Border Patrol Council ENDORSES President Donald J. Trump\n",
            "Skipping already processed video 43/113: Believers for Trump\n",
            "Skipping already processed video 44/113: Join Lara Trump & Trump Force Captains for a Weekend of Action!\n",
            "Skipping already processed video 45/113: ABC POLL: 59% of Americans Say the Economy is Getting WORSE Under Lyin' Kamala\n",
            "Skipping already processed video 46/113: 65% of Americans Say Kamala Will Be NO DIFFERENT Than Biden! It's TRUE!\n",
            "Skipping already processed video 47/113: I WILL END DOUBLE TAXATION...\n",
            "Skipping already processed video 48/113: OCCUPIED AMERICA\n",
            "Skipping already processed video 49/113: KAMALA WOULDN'T CHANGE A THING...\n",
            "Skipping already processed video 50/113: First Lady Melania Trump Joins The Five\n",
            "Skipping already processed video 51/113: Kamala Says There Isn't A Thing She Would Do Different Than Biden!\n",
            "Skipping already processed video 52/113: President Trump Speaks at October 7 Remembrance Event in Miami, Florida\n",
            "Skipping already processed video 53/113: President Trump Pays Tribute to Corey Comperatore in Butler, Pennsylvania\n",
            "Skipping already processed video 54/113: Welcome back to Butler, Mr. President.\n",
            "Skipping already processed video 55/113: Kamala has been completely AWOL.\n",
            "Skipping already processed video 56/113: President Trump Sits Down with Larry Kudlow of Fox Business\n",
            "Skipping already processed video 57/113: Unbelievable\n",
            "Skipping already processed video 58/113: Gonna\n",
            "Skipping already processed video 59/113: Give a Frack\n",
            "Skipping already processed video 60/113: Join Trump Force 47 NOW.\n",
            "Skipping already processed video 61/113: FULL INTERVIEW: President Trump's Interview with Dave Ramsey\n",
            "Skipping already processed video 62/113: FULL REMARKS: President Trump Speaks in Valdosta, Georgia in Aftermath of Hurricane Helene\n",
            "Skipping already processed video 63/113: President Trump Visits Valdosta, Georgia to Deliver Relief to Victims of Hurricane Helene\n",
            "Skipping already processed video 64/113: This is JD Vance.\n",
            "Skipping already processed video 65/113: MAKE AMERICA GREAT AGAIN 🇺🇸\n",
            "Skipping already processed video 66/113: First Lady Melania Trump's Full Interview on Fox & Friends\n",
            "Skipping already processed video 67/113: FULL REMARKS: President Trump's Address to the New York Economic Club\n",
            "Skipping already processed video 68/113: Pennsylvania Farmer Shares How Kamala's Inflation & Insane Energy Policies Affect Her Family\n",
            "Skipping already processed video 69/113: Join Trump Force 47 TODAY!\n",
            "Skipping already processed video 70/113: “Copy and Paste”\n",
            "Skipping already processed video 71/113: Failure to Launch\n",
            "Skipping already processed video 72/113: Kamala Has No Economic Plan\n",
            "Skipping already processed video 73/113: Make America Affordable Again: Vote for Donald Trump\n",
            "Skipping already processed video 74/113: DONALD TRUMP WILL UNIFY AMERICA\n",
            "Skipping already processed video 75/113: MAKE AMERICA GREAT AGAIN\n",
            "Skipping already processed video 76/113: President Trump's Grandchildren, Luke and Carolina, Join President Trump on Stage in North Carolina\n",
            "Skipping already processed video 77/113: Kamala Harris & Democrats are the Party of Violence.\n",
            "Skipping already processed video 78/113: FULL INTERVIEW: President Donald J. Trump on Gutfeld\n",
            "Skipping already processed video 79/113: 47 DAYS.\n",
            "Processing video 80/113: Howard Lutnick Explains How President Trump Will Use Tariffs to Protect the American Worker\n",
            "Found 536 comments\n",
            "Finished processing video 80/113\n",
            "Processing video 81/113: \"Que Mala Kamala\"\n",
            "Found 1149 comments\n",
            "Finished processing video 81/113\n",
            "Processing video 82/113: Hall of Fame Football Coach Lou Holtz: America Needs Donald Trump\n",
            "Found 473 comments\n",
            "Finished processing video 82/113\n",
            "Processing video 83/113: All Costs Covered for IVF. Vote Donald J. Trump.\n",
            "Found 691 comments\n",
            "Finished processing video 83/113\n",
            "Processing video 84/113: Kamala Harris is Dangerously Liberal\n",
            "Found 336 comments\n",
            "Finished processing video 84/113\n",
            "Processing video 85/113: \"Day One\"\n",
            "Found 789 comments\n",
            "Finished processing video 85/113\n",
            "Processing video 86/113: A Message from Gold Star Families\n",
            "Found 418 comments\n",
            "Finished processing video 86/113\n",
            "Processing video 87/113: 60 days.\n",
            "Found 872 comments\n",
            "Finished processing video 87/113\n",
            "Processing video 88/113: YES KAMALA, YOU \"DID IT,\" AND AMERICANS ARE PAYING THE PRICE.\n",
            "Found 842 comments\n",
            "Finished processing video 88/113\n",
            "Processing video 89/113: Kamala Owns The Biden-Harris Failures\n",
            "Found 696 comments\n",
            "Finished processing video 89/113\n",
            "Processing video 90/113: Black Voters Know President Trump is the Strongest Candidate on the Issues\n",
            "Found 812 comments\n",
            "Finished processing video 90/113\n",
            "Processing video 91/113: Tulsi Gabbard Endorses President Donald J. Trump\n",
            "Found 797 comments\n",
            "Finished processing video 91/113\n",
            "Processing video 92/113: \"SILENT NO MORE\"\n",
            "Found 931 comments\n",
            "Finished processing video 92/113\n",
            "Processing video 93/113: Today marks the 3 year anniversary of the most embarrassing moment in the history of our country\n",
            "Found 842 comments\n",
            "Finished processing video 93/113\n",
            "Processing video 94/113: 3 Years Ago Today, 13 American Heroes Were Killed in The Botched Harris-Biden Afghanistan Withdrawal\n",
            "Found 797 comments\n",
            "Finished processing video 94/113\n",
            "Processing video 95/113: President Trump Reacts To Kamala's DNC Speech on Fox News\n",
            "Found 704 comments\n",
            "Finished processing video 95/113\n",
            "Processing video 96/113: Jocelyn Nungaray Was A 12-Year-Old From Houston. She Was Brutally Murdered By A Kamala Illegal Alien\n",
            "Found 874 comments\n",
            "Finished processing video 96/113\n",
            "Processing video 97/113: Rachel Morin was a mother of five. A Kamala Harris illegal migrant murdered her.\n",
            "Found 812 comments\n",
            "Finished processing video 97/113\n",
            "Processing video 98/113: Kamala is a disgrace to our servicemembers.\n",
            "Found 630 comments\n",
            "Finished processing video 98/113\n",
            "Processing video 99/113: THE MOST EMBARRASSING DAY IN THE HISTORY OF OUR COUNTRY!\n",
            "Found 662 comments\n",
            "Finished processing video 99/113\n",
            "Processing video 100/113: 'Harris' Liberal Ideas Get People Killed'\n",
            "Found 584 comments\n",
            "Finished processing video 100/113\n",
            "Processing video 101/113: CNN Economist DESTROYS Kamala's Communist Price Control Scheme In 2 Minutes\n",
            "Found 698 comments\n",
            "Finished processing video 101/113\n",
            "Processing video 102/113: FULL REMARKS: President Trump's Plan To Defeat Inflation in Asheville, NC\n",
            "Found 884 comments\n",
            "Finished processing video 102/113\n",
            "Processing video 103/113: President Trump's Interview with Elon Musk on X\n",
            "Found 1018 comments\n",
            "Finished processing video 103/113\n",
            "Processing video 104/113: Meet the Real Kamala Harris.\n",
            "Found 876 comments\n",
            "Finished processing video 104/113\n",
            "Processing video 105/113: OUR FORGOTTEN CITIES\n",
            "Found 869 comments\n",
            "Finished processing video 105/113\n",
            "Processing video 106/113: ARE YOU BETTER OFF THAN YOU WERE 4 YEARS AGO?\n",
            "Found 885 comments\n",
            "Finished processing video 106/113\n",
            "Processing video 107/113: Kamala Harris and Tim Walz: Weak, Failed, Dangerously Liberal\n",
            "Found 707 comments\n",
            "Finished processing video 107/113\n",
            "Processing video 108/113: BIG TECH CENSORSHIP!\n",
            "Found 750 comments\n",
            "Finished processing video 108/113\n",
            "Processing video 109/113: Kamala's Minnesota Freedom Fund\n",
            "Found 780 comments\n",
            "Finished processing video 109/113\n",
            "Processing video 110/113: \"I DON'T UNDERSTAND\"\n",
            "Found 815 comments\n",
            "Finished processing video 110/113\n",
            "Processing video 111/113: Kamala Harris owns Bidenomics\n",
            "Found 778 comments\n",
            "Finished processing video 111/113\n",
            "Processing video 112/113: Meet San Francisco Liberal Kamala Harris\n",
            "Found 855 comments\n",
            "Finished processing video 112/113\n",
            "Processing video 113/113: Kamala was in on it.\n",
            "Found 874 comments\n",
            "Finished processing video 113/113\n"
          ]
        }
      ],
      "source": [
        "# 각 비디오에 대해 댓글 스크래핑\n",
        "for idx, video in enumerate(video_data):\n",
        "    url = video['url']\n",
        "    video_title = video['title']\n",
        "    video_date = video['date']\n",
        "\n",
        "    if url in processed_videos:\n",
        "        print(f\"Skipping already processed video {idx+1}/{len(video_data)}: {video_title}\")\n",
        "        continue\n",
        "\n",
        "    try:\n",
        "        print(f\"Processing video {idx+1}/{len(video_data)}: {video_title}\")\n",
        "\n",
        "        driver.get(url)\n",
        "        time.sleep(2)  # 페이지 로드 대기\n",
        "\n",
        "        # 댓글 로드를 위한 스크롤 다운\n",
        "        driver.execute_script(\"window.scrollTo(0, 600);\")\n",
        "        time.sleep(2)\n",
        "\n",
        "        # 모든 댓글을 로드하기 위한 스크롤\n",
        "        last_height = driver.execute_script(\"return document.documentElement.scrollHeight\")\n",
        "        scroll_attempts = 0\n",
        "        while True:\n",
        "            driver.execute_script(\"window.scrollTo(0, document.documentElement.scrollHeight);\")\n",
        "            time.sleep(2)\n",
        "            new_height = driver.execute_script(\"return document.documentElement.scrollHeight\")\n",
        "            if new_height == last_height:\n",
        "                scroll_attempts += 1\n",
        "                if scroll_attempts >= 3:\n",
        "                    break\n",
        "            else:\n",
        "                last_height = new_height\n",
        "                scroll_attempts = 0\n",
        "\n",
        "        # 댓글 요소 찾기\n",
        "        comments = driver.find_elements(By.CSS_SELECTOR, 'ytd-comment-thread-renderer')\n",
        "        print(f\"Found {len(comments)} comments\")\n",
        "\n",
        "        for comment in comments:\n",
        "            try:\n",
        "                # 댓글 텍스트 추출\n",
        "                comment_text = comment.find_element(By.CSS_SELECTOR, '#content-text').text.strip()\n",
        "\n",
        "                # 댓글 작성 날짜 추출\n",
        "                date_element = comment.find_element(By.CSS_SELECTOR, '#published-time-text')\n",
        "                date = date_element.text.strip()\n",
        "\n",
        "                # 좋아요 수 추출 (파싱 없이 원본 그대로 저장)\n",
        "                likes_element = comment.find_element(By.CSS_SELECTOR, '#vote-count-middle')\n",
        "                likes_text = likes_element.text.strip()\n",
        "\n",
        "                # 데이터 저장\n",
        "                output_data.append({\n",
        "                    'video_url': url,\n",
        "                    'video_title': video_title,\n",
        "                    'video_date': video_date,\n",
        "                    'comment_text': comment_text,\n",
        "                    'comment_date': date,\n",
        "                    'comment_likes': likes_text  # 원본 텍스트 그대로 저장\n",
        "                })\n",
        "            except Exception as e:\n",
        "                print(f\"Error processing a comment: {e}\")\n",
        "                continue\n",
        "\n",
        "        # 중간 결과 저장\n",
        "        with open(output_file_path, 'a', encoding='utf-8') as f_out:\n",
        "            for data in output_data:\n",
        "                json_record = json.dumps(data, ensure_ascii=False)\n",
        "                f_out.write(json_record + '\\n')\n",
        "            output_data = []  # 리스트 초기화\n",
        "\n",
        "        # 처리된 비디오 URL 저장\n",
        "        processed_videos.add(url)\n",
        "        with open(processed_videos_path, 'w', encoding='utf-8') as f_processed:\n",
        "            json.dump(list(processed_videos), f_processed, ensure_ascii=False)\n",
        "\n",
        "        print(f\"Finished processing video {idx+1}/{len(video_data)}\")\n",
        "    except Exception as e:\n",
        "        print(f\"Error processing video {url}: {e}\")\n",
        "        continue"
      ]
    },
    {
      "cell_type": "code",
      "execution_count": null,
      "metadata": {
        "id": "0okpoITh0mgC"
      },
      "outputs": [],
      "source": []
    },
    {
      "cell_type": "markdown",
      "source": [
        "미국 대선 (11월 5일 이후의 댓글들은 필터링)"
      ],
      "metadata": {
        "id": "Sdpee5bpWnEV"
      }
    },
    {
      "cell_type": "code",
      "source": [
        "import pandas as pd\n",
        "\n",
        "file_path = \"/content/drive/MyDrive/[인공지능기초]/sns/youtube/comment/trump_youtube_comment_commentdate_likes.jsonl\"\n",
        "\n",
        "df = pd.read_json(file_path, lines=True)"
      ],
      "metadata": {
        "id": "e1XCoE3wWq_n"
      },
      "execution_count": 3,
      "outputs": []
    },
    {
      "cell_type": "code",
      "source": [
        "len(df)"
      ],
      "metadata": {
        "colab": {
          "base_uri": "https://localhost:8080/"
        },
        "id": "8Yz7gYJtWtY3",
        "outputId": "01d376c3-c73c-422f-9ce3-6512de07b8d4"
      },
      "execution_count": 4,
      "outputs": [
        {
          "output_type": "execute_result",
          "data": {
            "text/plain": [
              "83525"
            ]
          },
          "metadata": {},
          "execution_count": 4
        }
      ]
    },
    {
      "cell_type": "code",
      "source": [
        "print(df.head(5))"
      ],
      "metadata": {
        "colab": {
          "base_uri": "https://localhost:8080/"
        },
        "id": "WgayGAhcW3SU",
        "outputId": "95b8aceb-7ae5-4063-e41e-e5031451ecf8"
      },
      "execution_count": 5,
      "outputs": [
        {
          "output_type": "stream",
          "name": "stdout",
          "text": [
            "                                     video_url video_title   video_date  \\\n",
            "0  https://www.youtube.com/watch?v=knkdSsAlDhc   Together.  Nov 4, 2024   \n",
            "1  https://www.youtube.com/watch?v=knkdSsAlDhc   Together.  Nov 4, 2024   \n",
            "2  https://www.youtube.com/watch?v=knkdSsAlDhc   Together.  Nov 4, 2024   \n",
            "3  https://www.youtube.com/watch?v=knkdSsAlDhc   Together.  Nov 4, 2024   \n",
            "4  https://www.youtube.com/watch?v=knkdSsAlDhc   Together.  Nov 4, 2024   \n",
            "\n",
            "                                        comment_text comment_date  \\\n",
            "0     This isn’t a campaign ad. This is a victory ad  13 days ago   \n",
            "1  As a former Democrat myself, its awesome to se...  13 days ago   \n",
            "2                    The Avengers trailer we needed.  2 weeks ago   \n",
            "3  Just an insanely good ad.  Really shows how mu...   4 days ago   \n",
            "4       Beautiful, Hope you win to save our world !!  2 weeks ago   \n",
            "\n",
            "  comment_likes  \n",
            "0          4.8K  \n",
            "1          1.3K  \n",
            "2          4.4K  \n",
            "3            70  \n",
            "4           126  \n"
          ]
        }
      ]
    },
    {
      "cell_type": "code",
      "source": [
        "# comment_date 컬럼의 고유한 값 확인\n",
        "unique_dates = df['comment_date'].unique()\n",
        "\n",
        "# 고유한 값 출력\n",
        "print(unique_dates)"
      ],
      "metadata": {
        "colab": {
          "base_uri": "https://localhost:8080/"
        },
        "id": "vtVMKYdRW3WA",
        "outputId": "ceaacd00-799b-4707-c342-c795524deceb"
      },
      "execution_count": 6,
      "outputs": [
        {
          "output_type": "stream",
          "name": "stdout",
          "text": [
            "['13 days ago' '2 weeks ago' '4 days ago' '1 day ago' '11 days ago'\n",
            " '6 days ago' '12 days ago' '2 days ago' '9 days ago'\n",
            " '2 weeks ago (edited)' '19 hours ago' '8 days ago' '3 days ago'\n",
            " '7 days ago (edited)' '5 days ago' '7 days ago' '10 days ago'\n",
            " '10 days ago (edited)' '5 days ago (edited)' '21 hours ago (edited)'\n",
            " '8 days ago (edited)' '3 days ago (edited)' '2 days ago (edited)'\n",
            " '4 days ago (edited)' '7 hours ago' '1 day ago (edited)' '18 hours ago'\n",
            " '6 days ago (edited)' '10 hours ago (edited)' '17 hours ago'\n",
            " '5 hours ago' '4 hours ago' '6 hours ago' '11 minutes ago' '1 hour ago'\n",
            " '16 hours ago' '15 hours ago (edited)' '10 hours ago' '2 hours ago'\n",
            " '15 hours ago' '3 hours ago' '20 hours ago' '14 hours ago' '9 hours ago'\n",
            " '12 days ago (edited)' '11 days ago (edited)' '13 days ago (edited)'\n",
            " '9 days ago (edited)' '3 weeks ago' '3 weeks ago (edited)' '21 hours ago'\n",
            " '23 hours ago' '4 weeks ago' '4 weeks ago (edited)' '1 month ago'\n",
            " '11 hours ago' '1 month ago (edited)' '23 hours ago (edited)'\n",
            " '2 hours ago (edited)' '13 hours ago' '7 hours ago (edited)'\n",
            " '12 hours ago' '12 hours ago (edited)' '22 hours ago' '8 hours ago'\n",
            " '2 months ago' '2 months ago (edited)' '3 months ago'\n",
            " '3 months ago (edited)' '4 months ago' '4 months ago (edited)']\n"
          ]
        }
      ]
    },
    {
      "cell_type": "code",
      "source": [
        "# video_dates 컬럼의 고유한 값 확인\n",
        "unique_video_dates = df['video_date'].unique()\n",
        "\n",
        "# 고유한 값 출력\n",
        "print(unique_video_dates) #"
      ],
      "metadata": {
        "colab": {
          "base_uri": "https://localhost:8080/"
        },
        "id": "NnCcqullW3Y0",
        "outputId": "6d2b8ba7-120d-4363-c14b-71f6bc1c089d"
      },
      "execution_count": 7,
      "outputs": [
        {
          "output_type": "stream",
          "name": "stdout",
          "text": [
            "['Nov 4, 2024' 'Nov 3, 2024' 'Nov 2, 2024' 'Nov 1, 2024' 'Oct 31, 2024'\n",
            " 'Oct 30, 2024' 'Oct 28, 2024' 'Oct 27, 2024' 'Oct 26, 2024'\n",
            " 'Oct 25, 2024' 'Oct 24, 2024' 'Oct 23, 2024' 'Oct 22, 2024'\n",
            " 'Oct 20, 2024' 'Oct 19, 2024' 'Oct 18, 2024' 'Oct 17, 2024'\n",
            " 'Oct 16, 2024' 'Oct 15, 2024' 'Oct 14, 2024' 'Oct 13, 2024'\n",
            " 'Oct 12, 2024' 'Oct 11, 2024' 'Oct 9, 2024' 'Oct 8, 2024' 'Oct 5, 2024'\n",
            " 'Oct 4, 2024' 'Oct 3, 2024' 'Oct 2, 2024' 'Sep 30, 2024' 'Sep 27, 2024'\n",
            " 'Sep 26, 2024' 'Sep 24, 2024' 'Sep 23, 2024' 'Sep 22, 2024'\n",
            " 'Sep 19, 2024' 'Sep 16, 2024' 'Sep 15, 2024' 'Sep 14, 2024'\n",
            " 'Sep 13, 2024' 'Sep 10, 2024' 'Sep 6, 2024' 'Sep 4, 2024' 'Sep 3, 2024'\n",
            " 'Aug 28, 2024' 'Aug 26, 2024' 'Aug 23, 2024' 'Aug 22, 2024'\n",
            " 'Aug 21, 2024' 'Aug 20, 2024' 'Aug 16, 2024' 'Aug 14, 2024'\n",
            " 'Aug 13, 2024' 'Aug 10, 2024' 'Aug 7, 2024' 'Aug 6, 2024' 'Aug 5, 2024'\n",
            " 'Jul 30, 2024' 'Jul 26, 2024' 'Jul 25, 2024' 'Jul 21, 2024']\n"
          ]
        }
      ]
    },
    {
      "cell_type": "code",
      "source": [
        "# 현재 2024년 11월 25일 기준 (크롤링은 23일에 진행)"
      ],
      "metadata": {
        "id": "0YXFPX6GW3bl"
      },
      "execution_count": 8,
      "outputs": []
    },
    {
      "cell_type": "code",
      "source": [
        "from datetime import datetime, timedelta\n",
        "import re"
      ],
      "metadata": {
        "id": "FxtieZ18XgVL"
      },
      "execution_count": 11,
      "outputs": []
    },
    {
      "cell_type": "code",
      "source": [
        "def parse_comment_date(comment_date):\n",
        "    try:\n",
        "        # \"(edited)\" 제거\n",
        "        comment_date = re.sub(r\"\\(edited\\)\", \"\", comment_date).strip()\n",
        "\n",
        "        # \"days ago\" 형식 처리\n",
        "        if \"day\" in comment_date:\n",
        "            days_ago = int(re.search(r\"\\d+\", comment_date).group())\n",
        "            result_date = datetime.now() - timedelta(days=days_ago)\n",
        "\n",
        "        # \"week\" 형식 처리\n",
        "        elif \"week\" in comment_date:\n",
        "            weeks_ago = int(re.search(r\"\\d+\", comment_date).group())\n",
        "            result_date = datetime.now() - timedelta(weeks=weeks_ago)\n",
        "\n",
        "        # \"month\" 형식 처리\n",
        "        elif \"month\" in comment_date:\n",
        "            months_ago = int(re.search(r\"\\d+\", comment_date).group())\n",
        "            result_date = datetime.now() - timedelta(days=months_ago * 30)  # 대략 30일 기준\n",
        "\n",
        "        # \"hour\" 형식 처리\n",
        "        elif \"hour\" in comment_date:\n",
        "            hours_ago = int(re.search(r\"\\d+\", comment_date).group())\n",
        "            result_date = datetime.now() - timedelta(hours=hours_ago)\n",
        "\n",
        "        # \"minute\" 형식 처리\n",
        "        elif \"minute\" in comment_date:\n",
        "            minutes_ago = int(re.search(r\"\\d+\", comment_date).group())\n",
        "            result_date = datetime.now() - timedelta(minutes=minutes_ago)\n",
        "\n",
        "        # 기본적으로 None 반환 (기타 형식에 대해 처리할 수 없을 경우)\n",
        "        else:\n",
        "            return None\n",
        "\n",
        "        # 날짜만 반환 (시간과 마이크로초 제거)\n",
        "        return result_date.date()\n",
        "\n",
        "    except Exception as e:\n",
        "        print(f\"Error parsing comment_date '{comment_date}': {e}\")\n",
        "        return None\n"
      ],
      "metadata": {
        "id": "n_eiJtpPW3eP"
      },
      "execution_count": 12,
      "outputs": []
    },
    {
      "cell_type": "code",
      "source": [
        "# 'comment_date'를 datetime으로 변환하여 새로운 컬럼 생성\n",
        "df['parsed_comment_date'] = df['comment_date'].apply(parse_comment_date)"
      ],
      "metadata": {
        "id": "GzTTSzqsW3gv"
      },
      "execution_count": 13,
      "outputs": []
    },
    {
      "cell_type": "code",
      "source": [
        "# 결과 출력 (테스트용)\n",
        "print(df[['comment_date', 'parsed_comment_date']].head(10))"
      ],
      "metadata": {
        "colab": {
          "base_uri": "https://localhost:8080/"
        },
        "id": "Kw2JRuShW3ja",
        "outputId": "50b6c4d6-dbdd-4fc1-e853-dedef14898c6"
      },
      "execution_count": 14,
      "outputs": [
        {
          "output_type": "stream",
          "name": "stdout",
          "text": [
            "  comment_date parsed_comment_date\n",
            "0  13 days ago          2024-11-11\n",
            "1  13 days ago          2024-11-11\n",
            "2  2 weeks ago          2024-11-10\n",
            "3   4 days ago          2024-11-20\n",
            "4  2 weeks ago          2024-11-10\n",
            "5  2 weeks ago          2024-11-10\n",
            "6  2 weeks ago          2024-11-10\n",
            "7    1 day ago          2024-11-23\n",
            "8  2 weeks ago          2024-11-10\n",
            "9  2 weeks ago          2024-11-10\n"
          ]
        }
      ]
    },
    {
      "cell_type": "code",
      "source": [
        "# comment_date 컬럼의 고유한 값 확인\n",
        "unique_dates = df['parsed_comment_date'].unique()\n",
        "\n",
        "# 고유한 값 출력\n",
        "print(unique_dates)\n",
        "\n",
        "# 마지막 비디오 영상이 Jul 21, 2024이며, 크롤링한 2024년 11월 23일 기준 4 month ago 보다 이전의 댓글 날짜는 없다.\n",
        "# 즉 7월 21일 ~ 7월 27일 -> 7월 27일로 통일된다. (마찬가지로 2024, 7, 28 ~ 2024, 8, 26는 2024, 8, 26로 통일됨.)\n",
        "# 어차피 댓글 날짜를 추출한 이유는 필터링이 목적이므로 크게 상관없다."
      ],
      "metadata": {
        "colab": {
          "base_uri": "https://localhost:8080/"
        },
        "id": "rQHlJzo8W3mK",
        "outputId": "c677182e-7e25-4dea-862f-58f9bd7a426f"
      },
      "execution_count": 15,
      "outputs": [
        {
          "output_type": "stream",
          "name": "stdout",
          "text": [
            "[datetime.date(2024, 11, 11) datetime.date(2024, 11, 10)\n",
            " datetime.date(2024, 11, 20) datetime.date(2024, 11, 23)\n",
            " datetime.date(2024, 11, 13) datetime.date(2024, 11, 18)\n",
            " datetime.date(2024, 11, 12) datetime.date(2024, 11, 22)\n",
            " datetime.date(2024, 11, 15) datetime.date(2024, 11, 16)\n",
            " datetime.date(2024, 11, 21) datetime.date(2024, 11, 17)\n",
            " datetime.date(2024, 11, 19) datetime.date(2024, 11, 14)\n",
            " datetime.date(2024, 11, 24) datetime.date(2024, 11, 3)\n",
            " datetime.date(2024, 10, 27) datetime.date(2024, 10, 25)\n",
            " datetime.date(2024, 9, 25) datetime.date(2024, 8, 26)\n",
            " datetime.date(2024, 7, 27)]\n"
          ]
        }
      ]
    },
    {
      "cell_type": "code",
      "source": [
        "print(df.head(5))"
      ],
      "metadata": {
        "colab": {
          "base_uri": "https://localhost:8080/"
        },
        "id": "Y_cc3rAXW3o1",
        "outputId": "f0d2812f-6a15-467d-f45f-102b37f6f438"
      },
      "execution_count": 16,
      "outputs": [
        {
          "output_type": "stream",
          "name": "stdout",
          "text": [
            "                                     video_url video_title   video_date  \\\n",
            "0  https://www.youtube.com/watch?v=knkdSsAlDhc   Together.  Nov 4, 2024   \n",
            "1  https://www.youtube.com/watch?v=knkdSsAlDhc   Together.  Nov 4, 2024   \n",
            "2  https://www.youtube.com/watch?v=knkdSsAlDhc   Together.  Nov 4, 2024   \n",
            "3  https://www.youtube.com/watch?v=knkdSsAlDhc   Together.  Nov 4, 2024   \n",
            "4  https://www.youtube.com/watch?v=knkdSsAlDhc   Together.  Nov 4, 2024   \n",
            "\n",
            "                                        comment_text comment_date  \\\n",
            "0     This isn’t a campaign ad. This is a victory ad  13 days ago   \n",
            "1  As a former Democrat myself, its awesome to se...  13 days ago   \n",
            "2                    The Avengers trailer we needed.  2 weeks ago   \n",
            "3  Just an insanely good ad.  Really shows how mu...   4 days ago   \n",
            "4       Beautiful, Hope you win to save our world !!  2 weeks ago   \n",
            "\n",
            "  comment_likes parsed_comment_date  \n",
            "0          4.8K          2024-11-11  \n",
            "1          1.3K          2024-11-11  \n",
            "2          4.4K          2024-11-10  \n",
            "3            70          2024-11-20  \n",
            "4           126          2024-11-10  \n"
          ]
        }
      ]
    },
    {
      "cell_type": "code",
      "source": [
        "# 'comment_date' 컬럼 삭제\n",
        "df = df.drop(columns=['comment_date'])"
      ],
      "metadata": {
        "id": "q7oTil8BW3r7"
      },
      "execution_count": 17,
      "outputs": []
    },
    {
      "cell_type": "code",
      "source": [
        "print(df.head(5))"
      ],
      "metadata": {
        "colab": {
          "base_uri": "https://localhost:8080/"
        },
        "id": "b1_r9XS7W3t7",
        "outputId": "d2c81f71-3f73-4b43-cf62-b9973b719049"
      },
      "execution_count": 18,
      "outputs": [
        {
          "output_type": "stream",
          "name": "stdout",
          "text": [
            "                                     video_url video_title   video_date  \\\n",
            "0  https://www.youtube.com/watch?v=knkdSsAlDhc   Together.  Nov 4, 2024   \n",
            "1  https://www.youtube.com/watch?v=knkdSsAlDhc   Together.  Nov 4, 2024   \n",
            "2  https://www.youtube.com/watch?v=knkdSsAlDhc   Together.  Nov 4, 2024   \n",
            "3  https://www.youtube.com/watch?v=knkdSsAlDhc   Together.  Nov 4, 2024   \n",
            "4  https://www.youtube.com/watch?v=knkdSsAlDhc   Together.  Nov 4, 2024   \n",
            "\n",
            "                                        comment_text comment_likes  \\\n",
            "0     This isn’t a campaign ad. This is a victory ad          4.8K   \n",
            "1  As a former Democrat myself, its awesome to se...          1.3K   \n",
            "2                    The Avengers trailer we needed.          4.4K   \n",
            "3  Just an insanely good ad.  Really shows how mu...            70   \n",
            "4       Beautiful, Hope you win to save our world !!           126   \n",
            "\n",
            "  parsed_comment_date  \n",
            "0          2024-11-11  \n",
            "1          2024-11-11  \n",
            "2          2024-11-10  \n",
            "3          2024-11-20  \n",
            "4          2024-11-10  \n"
          ]
        }
      ]
    },
    {
      "cell_type": "code",
      "source": [
        "len(df)"
      ],
      "metadata": {
        "colab": {
          "base_uri": "https://localhost:8080/"
        },
        "id": "jcVAxyuIYOe8",
        "outputId": "25778175-b345-4ca2-8e69-8d88a78b2ee7"
      },
      "execution_count": 19,
      "outputs": [
        {
          "output_type": "execute_result",
          "data": {
            "text/plain": [
              "83525"
            ]
          },
          "metadata": {},
          "execution_count": 19
        }
      ]
    },
    {
      "cell_type": "code",
      "source": [
        "# 날짜 기준 설정 (2024-11-04 이후는 삭제)\n",
        "date_threshold = datetime(2024, 11, 4).date()"
      ],
      "metadata": {
        "id": "SklFK-g9YOhV"
      },
      "execution_count": 20,
      "outputs": []
    },
    {
      "cell_type": "code",
      "source": [
        "# 'parsed_comment_date'를 datetime 형식으로 변환하여 날짜만 비교\n",
        "df['parsed_comment_date'] = pd.to_datetime(df['parsed_comment_date']).dt.date"
      ],
      "metadata": {
        "id": "E9K94n3ZYOj2"
      },
      "execution_count": 21,
      "outputs": []
    },
    {
      "cell_type": "code",
      "source": [
        "# 날짜 조건에 맞는 행만 남기기 (2024-11-04 이후의 데이터 삭제)\n",
        "df = df[df['parsed_comment_date'] <= date_threshold]"
      ],
      "metadata": {
        "id": "mVQ_lZhzYOm9"
      },
      "execution_count": 22,
      "outputs": []
    },
    {
      "cell_type": "code",
      "source": [
        "# comment_date 컬럼의 고유한 값 확인\n",
        "unique_dates = df['parsed_comment_date'].unique()\n",
        "\n",
        "# 고유한 값 출력\n",
        "print(unique_dates)"
      ],
      "metadata": {
        "colab": {
          "base_uri": "https://localhost:8080/"
        },
        "id": "0Hjw2nu4YOp0",
        "outputId": "08d4a565-a604-42ca-e02b-d443c2beaa15"
      },
      "execution_count": 23,
      "outputs": [
        {
          "output_type": "stream",
          "name": "stdout",
          "text": [
            "[datetime.date(2024, 11, 3) datetime.date(2024, 10, 27)\n",
            " datetime.date(2024, 10, 25) datetime.date(2024, 9, 25)\n",
            " datetime.date(2024, 8, 26) datetime.date(2024, 7, 27)]\n"
          ]
        }
      ]
    },
    {
      "cell_type": "code",
      "source": [
        "len(df)"
      ],
      "metadata": {
        "colab": {
          "base_uri": "https://localhost:8080/"
        },
        "id": "3obGDUOGYfQc",
        "outputId": "8285770e-cef3-41ae-92cb-856b31355fe4"
      },
      "execution_count": 24,
      "outputs": [
        {
          "output_type": "execute_result",
          "data": {
            "text/plain": [
              "74809"
            ]
          },
          "metadata": {},
          "execution_count": 24
        }
      ]
    },
    {
      "cell_type": "code",
      "source": [
        "print(df.head(5))"
      ],
      "metadata": {
        "colab": {
          "base_uri": "https://localhost:8080/"
        },
        "id": "EWD3FpJuYfTV",
        "outputId": "4b9a6c10-f7c2-48e3-8f32-6382d350b230"
      },
      "execution_count": 25,
      "outputs": [
        {
          "output_type": "stream",
          "name": "stdout",
          "text": [
            "                                        video_url  \\\n",
            "4263  https://www.youtube.com/watch?v=d608OHI_muM   \n",
            "4334  https://www.youtube.com/watch?v=d608OHI_muM   \n",
            "4366  https://www.youtube.com/watch?v=d608OHI_muM   \n",
            "4369  https://www.youtube.com/watch?v=d608OHI_muM   \n",
            "4371  https://www.youtube.com/watch?v=d608OHI_muM   \n",
            "\n",
            "                        video_title   video_date  \\\n",
            "4263  Trump Force 47 - Weekly Recap  Nov 1, 2024   \n",
            "4334  Trump Force 47 - Weekly Recap  Nov 1, 2024   \n",
            "4366  Trump Force 47 - Weekly Recap  Nov 1, 2024   \n",
            "4369  Trump Force 47 - Weekly Recap  Nov 1, 2024   \n",
            "4371  Trump Force 47 - Weekly Recap  Nov 1, 2024   \n",
            "\n",
            "                                           comment_text comment_likes  \\\n",
            "4263  as a Turkish guy, please save your culture and...           249   \n",
            "4334                       Love you president Trump 🇺🇸🫡            18   \n",
            "4366  Fight, Fight and Fight!!! Donald John Trump Fo...            21   \n",
            "4369  Truckers For Trump!! \\nToo Big to Rig!!\\nTrump...            48   \n",
            "4371                                          Go Trump!            30   \n",
            "\n",
            "     parsed_comment_date  \n",
            "4263          2024-11-03  \n",
            "4334          2024-11-03  \n",
            "4366          2024-11-03  \n",
            "4369          2024-11-03  \n",
            "4371          2024-11-03  \n"
          ]
        }
      ]
    },
    {
      "cell_type": "code",
      "source": [
        "output_file_path = \"/content/drive/MyDrive/[인공지능기초]/sns/youtube/comment/trump_youtube_comment_filtered.jsonl\"\n",
        "df.to_json(output_file_path, orient='records', lines=True)"
      ],
      "metadata": {
        "id": "BcW0IbQ8YfVb"
      },
      "execution_count": 26,
      "outputs": []
    }
  ],
  "metadata": {
    "colab": {
      "provenance": []
    },
    "kernelspec": {
      "display_name": "Python 3",
      "name": "python3"
    },
    "language_info": {
      "name": "python"
    }
  },
  "nbformat": 4,
  "nbformat_minor": 0
}