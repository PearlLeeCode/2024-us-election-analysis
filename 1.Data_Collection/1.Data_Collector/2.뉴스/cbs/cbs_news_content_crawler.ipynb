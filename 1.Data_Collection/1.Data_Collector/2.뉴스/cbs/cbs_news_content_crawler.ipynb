{
  "nbformat": 4,
  "nbformat_minor": 0,
  "metadata": {
    "colab": {
      "provenance": []
    },
    "kernelspec": {
      "name": "python3",
      "display_name": "Python 3"
    },
    "language_info": {
      "name": "python"
    }
  },
  "cells": [
    {
      "cell_type": "code",
      "execution_count": 1,
      "metadata": {
        "id": "pCZVmJkMWa8A",
        "colab": {
          "base_uri": "https://localhost:8080/"
        },
        "outputId": "800430a5-2ab3-4dd6-ec6b-8ac111fd57c1"
      },
      "outputs": [
        {
          "output_type": "stream",
          "name": "stdout",
          "text": [
            "Mounted at /content/drive\n"
          ]
        }
      ],
      "source": [
        "from google.colab import drive\n",
        "drive.mount('/content/drive')"
      ]
    },
    {
      "cell_type": "markdown",
      "source": [
        "### 라이브러리"
      ],
      "metadata": {
        "id": "T0IjMPTLdh09"
      }
    },
    {
      "cell_type": "code",
      "source": [
        "import requests\n",
        "from bs4 import BeautifulSoup\n",
        "import json\n",
        "import time\n",
        "import os"
      ],
      "metadata": {
        "id": "n8DfNmGTWvY6"
      },
      "execution_count": 19,
      "outputs": []
    },
    {
      "cell_type": "markdown",
      "source": [
        "### HTTP 요청 헤더에 사용할 User-Agent 설정"
      ],
      "metadata": {
        "id": "FFKXC3y_dggU"
      }
    },
    {
      "cell_type": "code",
      "source": [
        "USER_AGENT = \"Mozilla/5.0 (Windows NT 10.0; Win64; x64) AppleWebKit/537.36 (KHTML, like Gecko) Chrome/131.0.0.0 Safari/537.36\"\n",
        "HEADERS = {\"User-Agent\": USER_AGENT}"
      ],
      "metadata": {
        "id": "xxkeSewKWvbI"
      },
      "execution_count": 20,
      "outputs": []
    },
    {
      "cell_type": "markdown",
      "source": [
        "### 입력 파일 디렉토리 경로 설정"
      ],
      "metadata": {
        "id": "DeGWpiCfdpRt"
      }
    },
    {
      "cell_type": "code",
      "source": [
        "input_file_path = '/content/drive/MyDrive/[인공지능기초]데이터크롤링/news/cbs/cbs_news_url_title.json'\n",
        "input_dir = os.path.dirname(input_file_path)"
      ],
      "metadata": {
        "id": "4XmU-6X_cX4z"
      },
      "execution_count": 42,
      "outputs": []
    },
    {
      "cell_type": "markdown",
      "source": [
        "### 출력 파일 경로 설정"
      ],
      "metadata": {
        "id": "zTVncSOAduIN"
      }
    },
    {
      "cell_type": "code",
      "source": [
        "partial_output_file_path = os.path.join(input_dir, 'cbs_news_content.json')\n",
        "final_output_file_path = os.path.join(input_dir, 'cbs_news_articles_content.json')"
      ],
      "metadata": {
        "id": "Ap36XZhHcX7J"
      },
      "execution_count": 43,
      "outputs": []
    },
    {
      "cell_type": "markdown",
      "source": [
        "### JSON 파일 로드"
      ],
      "metadata": {
        "id": "BENkLHD2dy0R"
      }
    },
    {
      "cell_type": "code",
      "source": [
        "with open(input_file_path, 'r', encoding='utf-8') as f:\n",
        "    articles = json.load(f)"
      ],
      "metadata": {
        "id": "82PaYuGQcX93"
      },
      "execution_count": 44,
      "outputs": []
    },
    {
      "cell_type": "markdown",
      "source": [
        "### 이미 수집한 데이터 로드 or 초기화"
      ],
      "metadata": {
        "id": "2lc9l6nad3FS"
      }
    },
    {
      "cell_type": "code",
      "source": [
        "if os.path.exists(partial_output_file_path):\n",
        "    with open(partial_output_file_path, 'r', encoding='utf-8') as f_out:\n",
        "        results = json.load(f_out)\n",
        "    # 이미 처리된 URL의 집합 생성\n",
        "    processed_urls = set(article['url'] for article in results)\n",
        "    print(f\"이미 처리된 기사 수: {len(processed_urls)}\")\n",
        "else:\n",
        "    results = []\n",
        "    processed_urls = set()"
      ],
      "metadata": {
        "colab": {
          "base_uri": "https://localhost:8080/"
        },
        "id": "zDwskQsscYAb",
        "outputId": "8f074fec-c7b9-4eb1-f3c7-cb2ebabec85d"
      },
      "execution_count": 45,
      "outputs": [
        {
          "output_type": "stream",
          "name": "stdout",
          "text": [
            "이미 처리된 기사 수: 1140\n"
          ]
        }
      ]
    },
    {
      "cell_type": "markdown",
      "source": [
        "### 뉴스 content 수집"
      ],
      "metadata": {
        "id": "16Gxi0OZd8Ui"
      }
    },
    {
      "cell_type": "code",
      "source": [
        "for idx, article in enumerate(articles):\n",
        "    url = article['url']\n",
        "    # 이미 처리된 기사라면 스킵\n",
        "    if url in processed_urls:\n",
        "        continue\n",
        "    try:\n",
        "        # HTTP GET 요청\n",
        "        response = requests.get(url, headers=HEADERS)\n",
        "        if response.status_code == 200:\n",
        "            html = response.text\n",
        "            # BeautifulSoup을 사용하여 HTML 파싱\n",
        "            soup = BeautifulSoup(html, 'html.parser')\n",
        "            # <section class=\"content__body\"> 태그 찾기\n",
        "            content_section = soup.find('section', class_='content__body')\n",
        "            if content_section:\n",
        "                # 해당 섹션 내의 모든 <p> 태그 추출\n",
        "                paragraphs = content_section.find_all('p')\n",
        "                # 각 <p> 태그의 텍스트를 추출하여 하나의 문자열로 결합\n",
        "                content = '\\n'.join([p.get_text(strip=True) for p in paragraphs])\n",
        "                # 기사 딕셔너리에 'content' 키 추가\n",
        "                article['content'] = content\n",
        "                results.append(article)\n",
        "                processed_urls.add(url)\n",
        "            else:\n",
        "                print(f\"URL에서 컨텐츠 섹션을 찾을 수 없습니다: {url}\")\n",
        "        else:\n",
        "            print(f\"요청 실패 ({response.status_code}): {url}\")\n",
        "    except Exception as e:\n",
        "        print(f\"오류 발생: {url} - {e}\")\n",
        "    # 서버에 과부하를 주지 않기 위해 1초 대기\n",
        "    time.sleep(1)\n",
        "    # 진행 상황을 주기적으로 저장\n",
        "    if (len(results)) % 10 == 0:\n",
        "        print(f\"({len(results)}/{len(articles)})개 뉴스 기사 저장 완료\")\n",
        "        with open(partial_output_file_path, 'w', encoding='utf-8') as f_out:\n",
        "            json.dump(results, f_out, ensure_ascii=False, indent=2)\n",
        "\n",
        "# 최종 결과를 JSON 파일로 저장\n",
        "with open(final_output_file_path, 'w', encoding='utf-8') as f_out:\n",
        "    json.dump(results, f_out, ensure_ascii=False, indent=2)"
      ],
      "metadata": {
        "colab": {
          "base_uri": "https://localhost:8080/"
        },
        "id": "ab7-8puGcYC7",
        "outputId": "f702f7b7-7065-4065-ca73-cce424ace1af"
      },
      "execution_count": 25,
      "outputs": [
        {
          "output_type": "stream",
          "name": "stdout",
          "text": [
            "(10/1141)개 뉴스 기사 저장 완료\n",
            "(20/1141)개 뉴스 기사 저장 완료\n",
            "(30/1141)개 뉴스 기사 저장 완료\n",
            "(40/1141)개 뉴스 기사 저장 완료\n",
            "(50/1141)개 뉴스 기사 저장 완료\n",
            "(60/1141)개 뉴스 기사 저장 완료\n",
            "(70/1141)개 뉴스 기사 저장 완료\n",
            "(80/1141)개 뉴스 기사 저장 완료\n",
            "(90/1141)개 뉴스 기사 저장 완료\n",
            "(100/1141)개 뉴스 기사 저장 완료\n",
            "(110/1141)개 뉴스 기사 저장 완료\n",
            "(120/1141)개 뉴스 기사 저장 완료\n",
            "(130/1141)개 뉴스 기사 저장 완료\n",
            "(140/1141)개 뉴스 기사 저장 완료\n",
            "(150/1141)개 뉴스 기사 저장 완료\n",
            "(160/1141)개 뉴스 기사 저장 완료\n",
            "(170/1141)개 뉴스 기사 저장 완료\n",
            "(180/1141)개 뉴스 기사 저장 완료\n",
            "(190/1141)개 뉴스 기사 저장 완료\n",
            "(200/1141)개 뉴스 기사 저장 완료\n",
            "(210/1141)개 뉴스 기사 저장 완료\n",
            "(220/1141)개 뉴스 기사 저장 완료\n",
            "(230/1141)개 뉴스 기사 저장 완료\n",
            "(240/1141)개 뉴스 기사 저장 완료\n",
            "(250/1141)개 뉴스 기사 저장 완료\n",
            "(260/1141)개 뉴스 기사 저장 완료\n",
            "(270/1141)개 뉴스 기사 저장 완료\n",
            "(280/1141)개 뉴스 기사 저장 완료\n",
            "(290/1141)개 뉴스 기사 저장 완료\n",
            "(300/1141)개 뉴스 기사 저장 완료\n",
            "(310/1141)개 뉴스 기사 저장 완료\n",
            "(320/1141)개 뉴스 기사 저장 완료\n",
            "(330/1141)개 뉴스 기사 저장 완료\n",
            "(340/1141)개 뉴스 기사 저장 완료\n",
            "(350/1141)개 뉴스 기사 저장 완료\n",
            "(360/1141)개 뉴스 기사 저장 완료\n",
            "(370/1141)개 뉴스 기사 저장 완료\n",
            "(380/1141)개 뉴스 기사 저장 완료\n",
            "(390/1141)개 뉴스 기사 저장 완료\n",
            "(400/1141)개 뉴스 기사 저장 완료\n",
            "(410/1141)개 뉴스 기사 저장 완료\n",
            "(420/1141)개 뉴스 기사 저장 완료\n",
            "(430/1141)개 뉴스 기사 저장 완료\n",
            "(440/1141)개 뉴스 기사 저장 완료\n",
            "(450/1141)개 뉴스 기사 저장 완료\n",
            "(460/1141)개 뉴스 기사 저장 완료\n",
            "(470/1141)개 뉴스 기사 저장 완료\n",
            "(480/1141)개 뉴스 기사 저장 완료\n",
            "(490/1141)개 뉴스 기사 저장 완료\n",
            "(500/1141)개 뉴스 기사 저장 완료\n",
            "(510/1141)개 뉴스 기사 저장 완료\n",
            "(520/1141)개 뉴스 기사 저장 완료\n",
            "(530/1141)개 뉴스 기사 저장 완료\n",
            "(540/1141)개 뉴스 기사 저장 완료\n",
            "(550/1141)개 뉴스 기사 저장 완료\n",
            "(560/1141)개 뉴스 기사 저장 완료\n",
            "(570/1141)개 뉴스 기사 저장 완료\n",
            "(580/1141)개 뉴스 기사 저장 완료\n",
            "(590/1141)개 뉴스 기사 저장 완료\n",
            "(600/1141)개 뉴스 기사 저장 완료\n",
            "(610/1141)개 뉴스 기사 저장 완료\n",
            "(620/1141)개 뉴스 기사 저장 완료\n",
            "(630/1141)개 뉴스 기사 저장 완료\n",
            "(640/1141)개 뉴스 기사 저장 완료\n",
            "URL에서 컨텐츠 섹션을 찾을 수 없습니다: https://bit.ly/cbsnewsmanagingthevote\n",
            "(650/1141)개 뉴스 기사 저장 완료\n",
            "(660/1141)개 뉴스 기사 저장 완료\n",
            "(670/1141)개 뉴스 기사 저장 완료\n",
            "(680/1141)개 뉴스 기사 저장 완료\n",
            "(690/1141)개 뉴스 기사 저장 완료\n",
            "(700/1141)개 뉴스 기사 저장 완료\n",
            "(710/1141)개 뉴스 기사 저장 완료\n",
            "(720/1141)개 뉴스 기사 저장 완료\n",
            "(730/1141)개 뉴스 기사 저장 완료\n",
            "(740/1141)개 뉴스 기사 저장 완료\n",
            "(750/1141)개 뉴스 기사 저장 완료\n",
            "(760/1141)개 뉴스 기사 저장 완료\n",
            "(770/1141)개 뉴스 기사 저장 완료\n",
            "(780/1141)개 뉴스 기사 저장 완료\n",
            "(790/1141)개 뉴스 기사 저장 완료\n",
            "(800/1141)개 뉴스 기사 저장 완료\n",
            "(810/1141)개 뉴스 기사 저장 완료\n",
            "(820/1141)개 뉴스 기사 저장 완료\n",
            "(830/1141)개 뉴스 기사 저장 완료\n",
            "(840/1141)개 뉴스 기사 저장 완료\n",
            "(850/1141)개 뉴스 기사 저장 완료\n",
            "(860/1141)개 뉴스 기사 저장 완료\n",
            "(870/1141)개 뉴스 기사 저장 완료\n",
            "(880/1141)개 뉴스 기사 저장 완료\n",
            "(890/1141)개 뉴스 기사 저장 완료\n",
            "(900/1141)개 뉴스 기사 저장 완료\n",
            "(910/1141)개 뉴스 기사 저장 완료\n",
            "(920/1141)개 뉴스 기사 저장 완료\n",
            "(930/1141)개 뉴스 기사 저장 완료\n",
            "(940/1141)개 뉴스 기사 저장 완료\n",
            "(950/1141)개 뉴스 기사 저장 완료\n",
            "(960/1141)개 뉴스 기사 저장 완료\n",
            "(970/1141)개 뉴스 기사 저장 완료\n",
            "(980/1141)개 뉴스 기사 저장 완료\n",
            "(990/1141)개 뉴스 기사 저장 완료\n",
            "(1000/1141)개 뉴스 기사 저장 완료\n",
            "(1010/1141)개 뉴스 기사 저장 완료\n",
            "(1020/1141)개 뉴스 기사 저장 완료\n",
            "(1030/1141)개 뉴스 기사 저장 완료\n",
            "(1040/1141)개 뉴스 기사 저장 완료\n",
            "(1050/1141)개 뉴스 기사 저장 완료\n",
            "(1060/1141)개 뉴스 기사 저장 완료\n",
            "(1070/1141)개 뉴스 기사 저장 완료\n",
            "(1080/1141)개 뉴스 기사 저장 완료\n",
            "(1090/1141)개 뉴스 기사 저장 완료\n",
            "(1100/1141)개 뉴스 기사 저장 완료\n",
            "(1110/1141)개 뉴스 기사 저장 완료\n",
            "(1120/1141)개 뉴스 기사 저장 완료\n",
            "(1130/1141)개 뉴스 기사 저장 완료\n",
            "(1140/1141)개 뉴스 기사 저장 완료\n"
          ]
        }
      ]
    },
    {
      "cell_type": "code",
      "source": [
        "with open(final_output_file_path, 'r', encoding='utf-8') as f:\n",
        "    final_test = json.load(f)\n",
        "\n",
        "len(final_test)"
      ],
      "metadata": {
        "colab": {
          "base_uri": "https://localhost:8080/"
        },
        "id": "XVP0aU9vlLBl",
        "outputId": "2d6f442b-8188-45cb-fd56-852beb51f179"
      },
      "execution_count": 41,
      "outputs": [
        {
          "output_type": "execute_result",
          "data": {
            "text/plain": [
              "1140"
            ]
          },
          "metadata": {},
          "execution_count": 41
        }
      ]
    },
    {
      "cell_type": "code",
      "source": [
        "print(\"TITLE: \", final_test[1139].get('title'), \"\\n\")\n",
        "print(\"URL: \", final_test[1139].get('url'), \"\\n\")\n",
        "print(\"DATE: \", final_test[1139].get('date'), \"\\n\")\n",
        "print(\"CONTENT: \", final_test[1139].get('content'), \"\\n\")"
      ],
      "metadata": {
        "colab": {
          "base_uri": "https://localhost:8080/"
        },
        "id": "Dhg1M_JbmiBy",
        "outputId": "6ce7cdd1-bda2-49d9-d4f1-503d9f1e2a99"
      },
      "execution_count": 40,
      "outputs": [
        {
          "output_type": "stream",
          "name": "stdout",
          "text": [
            "TITLE:  An unconventional week in presidential politics \n",
            "\n",
            "URL:  https://www.cbsnews.com/news/an-unconventional-week-in-presidential-politics-rnc-trump-biden/ \n",
            "\n",
            "DATE:  2024-07-21 \n",
            "\n",
            "CONTENT:  Golden balloons fell (along with red, white and blue), as theRepublican National Conventionended this past week with operatic flair. It was a fitting close for a gathering defined by a sense of drama and history, coming just days after former President Donald Trump survived an assassination attempt. Trump's defiance in the aftermath brought some Republicans to tears. \"I had God on my side,\" Trump said.\n",
            "Trump's 90-minute acceptance speech, the longest in convention history, won mixed reviews, enthralling many early on with his account of the attack, only to then veer into old grievances: \"And then we had that horrible, horrible result that we'll never let happen again, the election result,\" he said, repeating the lie about a stolen election. \"We're never going to let that happen again. They used COVID to cheat.\"\n",
            "The impact of the rest of the convention is up for debate.\n",
            "There were overtures to working Americans, especially those from the industrial Midwest, home of Trump's running mate, 39-year-oldOhio Senator JD Vance. There was celebrity, and spectacle (including former wrestling star Hulk Hogan ripping off his shirt). And there was a parade of speakers meant to show Trump's critics have come around, such as former South Carolina Governor and former primary rival Nikki Haley, whoreleased her delegates earlier this month. She told the convention, \"I'll start by making one thing perfectly clear: Donald Trump has my strong endorsement, period.\"\n",
            "But was this past week an omen of a coming Trump victory? Or was it a fleeting moment, with many tests to come?\n",
            "Former Arkansas Governor Asa Hutchinson also ran against Trump for the nomination. Although he was in Milwaukee, he remains a holdout on the former president. Asked whether be bought the talk of Republican unity, Hutchinson said, \"Well, it's certainly unified here at the convention.\"\n",
            "However, he would not endorse his party's nominee. \"My hesitation is January 6,\" he said. \"My hesitation is character that [Trump] has demonstrated in the past. I think character is still important for the leader of our country.\"\n",
            "Winning over some conventional Republicans could be a lingering challenge for the unconventional nominee. And by tapping Vance as his running mate, Trump leaned into his own populism – elevating someone who has embraced Trump's upending of GOP policy, as well as someone who has said he would've done the opposite of what Mike Pence did on January 6, 2021, when the former vice president refused to reject slates of electors for Biden.\n",
            "On February 4 Vance told \"ABC This Week\": \"If I had been vice president, I would have told the states, like Pennsylvania, Georgia and so many others, that we needed to have multiple slates of electors, and I think the U.S. Congress should have fought over it from there.\"\n",
            "Legal challenges over the Capitol attack also remain for Trump, as does the peril of a possible prison sentence this fall, following his criminal conviction in New York.\n",
            "Some Democrats look at all this, and see an opening for President Biden to gain ground.\n",
            "On Friday Transportation Secretary Pete Buttigieg told HBO's \"Real Time with Bill Maher,\" \"The futures could not be more different, between Donald Trump's future, and the future where Joe Biden wants to lead us. And Americans already agree with us.\"\n",
            "Democrats say they should now focus on framing Trump as a threat to democracy, and to abortion rights.\n",
            "A Biden/Harris campaign ad, released Wednesday, features a Kentucky woman, Hadley Duvall, who talks about being raped and impregnated at the age of 12 by her stepfather. Duvall said that at the time she found out she was pregnant, she had options, which fewer women have today after Roe v. Wade was overturned. \"Trump and JD Vance don't care about women,\" Duvall says in the ad. \"They don't care about girls in this situation.\"\n",
            "But Democrats this past week seemed to be doing anythingbutfocusing on Trump, following fallout from Mr. Biden's performance at his debate with Trump in June. In recent days, former Speaker Nancy Pelosi's longtime ally, California Congressman Adam Schiff, kicked off a firestorm in Washington whenhe urged Mr. Biden to exit the race– the beginning of a cascade of Democrats calling for the president to leave the stage\n",
            "Mr. Biden's advisers have pushed back hard against the naysayers. Jen O'Malley Dillon, the Biden-Harris campaign chair, told MSNBC's \"Morning Joe\" on Friday, \"Absolutely the president is in this race. You've heard him say that time and time again. And Joe Biden is more committed than ever to beat Donald Trump.\"\n",
            "And they say he'll soon be back on the campaign trail.\n",
            "The Wall Street Journal's Molly Ball, author of a biography of Pelosi, told Costa, \"Democrats are now at a stage where they believe if he does not leave this race, the election is lost. Now, it may be lost no matter what they do, but they don't think that they can win with him on the ticket, and therefore they will basically stop at nothing.\"\n",
            "If Mr. Bidendidstand aside,there could be chaos.\n",
            "\"We have no idea what would happen if Biden were to leave the race,\" Ball said. \"I think it would depend very much on the terms that he left on, and what he decided to do. Does he decide that he wants to hand the reins to a successor, be that the vice president or somebody else? Does he anoint this idea of an open or a brokered convention? We have not hada sitting president step off the ticket in more than 40 years.\"\n",
            "This leaves Democrats, and Republicans, at a crossroads – some Democrats on edge about President Biden, some Republicans on edge about Trump.\n",
            "And voters are bracing for turbulence.\n",
            "Story produced by Amol Mhatre. Editor: Lauren Barnello.\n",
            "Robert Costa is the Chief Election & Campaign correspondent for CBS News, where he covers national politics and American democracy. \n",
            "\n"
          ]
        }
      ]
    }
  ]
}