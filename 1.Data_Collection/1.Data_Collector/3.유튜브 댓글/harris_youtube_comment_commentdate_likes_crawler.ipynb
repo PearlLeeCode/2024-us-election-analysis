{
  "cells": [
    {
      "cell_type": "code",
      "execution_count": 1,
      "metadata": {
        "colab": {
          "base_uri": "https://localhost:8080/"
        },
        "id": "1UDQ8pk8vzB4",
        "outputId": "96dabcdc-f7db-4d0f-cf2a-8462942560f0"
      },
      "outputs": [
        {
          "output_type": "stream",
          "name": "stdout",
          "text": [
            "Mounted at /content/drive\n"
          ]
        }
      ],
      "source": [
        "from google.colab import drive\n",
        "drive.mount('/content/drive')"
      ]
    },
    {
      "cell_type": "code",
      "execution_count": 2,
      "metadata": {
        "colab": {
          "base_uri": "https://localhost:8080/"
        },
        "id": "jpkR4ti7wLEp",
        "outputId": "b876147b-e143-42a3-a313-e4fdca83694d"
      },
      "outputs": [
        {
          "output_type": "stream",
          "name": "stdout",
          "text": [
            "Get:1 https://cloud.r-project.org/bin/linux/ubuntu jammy-cran40/ InRelease [3,626 B]\n",
            "Get:2 https://developer.download.nvidia.com/compute/cuda/repos/ubuntu2204/x86_64  InRelease [1,581 B]\n",
            "Get:3 http://security.ubuntu.com/ubuntu jammy-security InRelease [129 kB]\n",
            "Get:4 https://r2u.stat.illinois.edu/ubuntu jammy InRelease [6,555 B]\n",
            "Hit:5 http://archive.ubuntu.com/ubuntu jammy InRelease\n",
            "Get:6 http://archive.ubuntu.com/ubuntu jammy-updates InRelease [128 kB]\n",
            "Get:7 https://developer.download.nvidia.com/compute/cuda/repos/ubuntu2204/x86_64  Packages [1,172 kB]\n",
            "Hit:8 https://ppa.launchpadcontent.net/deadsnakes/ppa/ubuntu jammy InRelease\n",
            "Hit:9 https://ppa.launchpadcontent.net/graphics-drivers/ppa/ubuntu jammy InRelease\n",
            "Hit:10 https://ppa.launchpadcontent.net/ubuntugis/ppa/ubuntu jammy InRelease\n",
            "Get:11 https://r2u.stat.illinois.edu/ubuntu jammy/main amd64 Packages [2,618 kB]\n",
            "Get:12 http://archive.ubuntu.com/ubuntu jammy-backports InRelease [127 kB]\n",
            "Get:13 https://r2u.stat.illinois.edu/ubuntu jammy/main all Packages [8,508 kB]\n",
            "Get:14 http://security.ubuntu.com/ubuntu jammy-security/main amd64 Packages [2,452 kB]\n",
            "Get:15 http://security.ubuntu.com/ubuntu jammy-security/universe amd64 Packages [1,223 kB]\n",
            "Get:16 http://security.ubuntu.com/ubuntu jammy-security/restricted amd64 Packages [3,323 kB]\n",
            "Get:17 http://archive.ubuntu.com/ubuntu jammy-updates/main amd64 Packages [2,734 kB]\n",
            "Get:18 http://archive.ubuntu.com/ubuntu jammy-updates/universe amd64 Packages [1,512 kB]\n",
            "Fetched 23.9 MB in 4s (5,573 kB/s)\n",
            "Reading package lists... Done\n",
            "W: Skipping acquire of configured file 'main/source/Sources' as repository 'https://r2u.stat.illinois.edu/ubuntu jammy InRelease' does not seem to provide it (sources.list entry misspelt?)\n",
            "Reading package lists... Done\n",
            "Building dependency tree... Done\n",
            "Reading state information... Done\n",
            "The following additional packages will be installed:\n",
            "  apparmor chromium-browser libfuse3-3 liblzo2-2 libudev1 snapd squashfs-tools systemd-hwe-hwdb\n",
            "  udev\n",
            "Suggested packages:\n",
            "  apparmor-profiles-extra apparmor-utils fuse3 zenity | kdialog\n",
            "The following NEW packages will be installed:\n",
            "  apparmor chromium-browser chromium-chromedriver libfuse3-3 liblzo2-2 snapd squashfs-tools\n",
            "  systemd-hwe-hwdb udev\n",
            "The following packages will be upgraded:\n",
            "  libudev1\n",
            "1 upgraded, 9 newly installed, 0 to remove and 48 not upgraded.\n",
            "Need to get 29.0 MB of archives.\n",
            "After this operation, 120 MB of additional disk space will be used.\n",
            "Get:1 http://archive.ubuntu.com/ubuntu jammy-updates/main amd64 apparmor amd64 3.0.4-2ubuntu2.4 [598 kB]\n",
            "Get:2 http://archive.ubuntu.com/ubuntu jammy/main amd64 liblzo2-2 amd64 2.10-2build3 [53.7 kB]\n",
            "Get:3 http://archive.ubuntu.com/ubuntu jammy/main amd64 squashfs-tools amd64 1:4.5-3build1 [159 kB]\n",
            "Get:4 http://archive.ubuntu.com/ubuntu jammy-updates/main amd64 libudev1 amd64 249.11-0ubuntu3.12 [78.2 kB]\n",
            "Get:5 http://archive.ubuntu.com/ubuntu jammy-updates/main amd64 udev amd64 249.11-0ubuntu3.12 [1,557 kB]\n",
            "Get:6 http://archive.ubuntu.com/ubuntu jammy/main amd64 libfuse3-3 amd64 3.10.5-1build1 [81.2 kB]\n",
            "Get:7 http://archive.ubuntu.com/ubuntu jammy-updates/main amd64 snapd amd64 2.65.3+22.04 [26.4 MB]\n",
            "Get:8 http://archive.ubuntu.com/ubuntu jammy-updates/universe amd64 chromium-browser amd64 1:85.0.4183.83-0ubuntu2.22.04.1 [49.2 kB]\n",
            "Get:9 http://archive.ubuntu.com/ubuntu jammy-updates/universe amd64 chromium-chromedriver amd64 1:85.0.4183.83-0ubuntu2.22.04.1 [2,308 B]\n",
            "Get:10 http://archive.ubuntu.com/ubuntu jammy-updates/main amd64 systemd-hwe-hwdb all 249.11.5 [3,228 B]\n",
            "Fetched 29.0 MB in 2s (15.0 MB/s)\n",
            "Preconfiguring packages ...\n",
            "Selecting previously unselected package apparmor.\n",
            "(Reading database ... 123630 files and directories currently installed.)\n",
            "Preparing to unpack .../apparmor_3.0.4-2ubuntu2.4_amd64.deb ...\n",
            "Unpacking apparmor (3.0.4-2ubuntu2.4) ...\n",
            "Selecting previously unselected package liblzo2-2:amd64.\n",
            "Preparing to unpack .../liblzo2-2_2.10-2build3_amd64.deb ...\n",
            "Unpacking liblzo2-2:amd64 (2.10-2build3) ...\n",
            "Selecting previously unselected package squashfs-tools.\n",
            "Preparing to unpack .../squashfs-tools_1%3a4.5-3build1_amd64.deb ...\n",
            "Unpacking squashfs-tools (1:4.5-3build1) ...\n",
            "Preparing to unpack .../libudev1_249.11-0ubuntu3.12_amd64.deb ...\n",
            "Unpacking libudev1:amd64 (249.11-0ubuntu3.12) over (249.11-0ubuntu3.10) ...\n",
            "Setting up libudev1:amd64 (249.11-0ubuntu3.12) ...\n",
            "Selecting previously unselected package udev.\n",
            "(Reading database ... 123838 files and directories currently installed.)\n",
            "Preparing to unpack .../udev_249.11-0ubuntu3.12_amd64.deb ...\n",
            "Unpacking udev (249.11-0ubuntu3.12) ...\n",
            "Selecting previously unselected package libfuse3-3:amd64.\n",
            "Preparing to unpack .../libfuse3-3_3.10.5-1build1_amd64.deb ...\n",
            "Unpacking libfuse3-3:amd64 (3.10.5-1build1) ...\n",
            "Selecting previously unselected package snapd.\n",
            "Preparing to unpack .../snapd_2.65.3+22.04_amd64.deb ...\n",
            "Unpacking snapd (2.65.3+22.04) ...\n",
            "Setting up apparmor (3.0.4-2ubuntu2.4) ...\n",
            "Created symlink /etc/systemd/system/sysinit.target.wants/apparmor.service → /lib/systemd/system/apparmor.service.\n",
            "Setting up liblzo2-2:amd64 (2.10-2build3) ...\n",
            "Setting up squashfs-tools (1:4.5-3build1) ...\n",
            "Setting up udev (249.11-0ubuntu3.12) ...\n",
            "invoke-rc.d: could not determine current runlevel\n",
            "invoke-rc.d: policy-rc.d denied execution of start.\n",
            "Setting up libfuse3-3:amd64 (3.10.5-1build1) ...\n",
            "Setting up snapd (2.65.3+22.04) ...\n",
            "Created symlink /etc/systemd/system/multi-user.target.wants/snapd.apparmor.service → /lib/systemd/system/snapd.apparmor.service.\n",
            "Created symlink /etc/systemd/system/multi-user.target.wants/snapd.autoimport.service → /lib/systemd/system/snapd.autoimport.service.\n",
            "Created symlink /etc/systemd/system/multi-user.target.wants/snapd.core-fixup.service → /lib/systemd/system/snapd.core-fixup.service.\n",
            "Created symlink /etc/systemd/system/multi-user.target.wants/snapd.recovery-chooser-trigger.service → /lib/systemd/system/snapd.recovery-chooser-trigger.service.\n",
            "Created symlink /etc/systemd/system/multi-user.target.wants/snapd.seeded.service → /lib/systemd/system/snapd.seeded.service.\n",
            "Created symlink /etc/systemd/system/cloud-final.service.wants/snapd.seeded.service → /lib/systemd/system/snapd.seeded.service.\n",
            "Unit /lib/systemd/system/snapd.seeded.service is added as a dependency to a non-existent unit cloud-final.service.\n",
            "Created symlink /etc/systemd/system/multi-user.target.wants/snapd.service → /lib/systemd/system/snapd.service.\n",
            "Created symlink /etc/systemd/system/timers.target.wants/snapd.snap-repair.timer → /lib/systemd/system/snapd.snap-repair.timer.\n",
            "Created symlink /etc/systemd/system/sockets.target.wants/snapd.socket → /lib/systemd/system/snapd.socket.\n",
            "Created symlink /etc/systemd/system/final.target.wants/snapd.system-shutdown.service → /lib/systemd/system/snapd.system-shutdown.service.\n",
            "Selecting previously unselected package chromium-browser.\n",
            "(Reading database ... 124067 files and directories currently installed.)\n",
            "Preparing to unpack .../chromium-browser_1%3a85.0.4183.83-0ubuntu2.22.04.1_amd64.deb ...\n",
            "=> Installing the chromium snap\n",
            "==> Checking connectivity with the snap store\n",
            "===> System doesn't have a working snapd, skipping\n",
            "Unpacking chromium-browser (1:85.0.4183.83-0ubuntu2.22.04.1) ...\n",
            "Selecting previously unselected package chromium-chromedriver.\n",
            "Preparing to unpack .../chromium-chromedriver_1%3a85.0.4183.83-0ubuntu2.22.04.1_amd64.deb ...\n",
            "Unpacking chromium-chromedriver (1:85.0.4183.83-0ubuntu2.22.04.1) ...\n",
            "Selecting previously unselected package systemd-hwe-hwdb.\n",
            "Preparing to unpack .../systemd-hwe-hwdb_249.11.5_all.deb ...\n",
            "Unpacking systemd-hwe-hwdb (249.11.5) ...\n",
            "Setting up systemd-hwe-hwdb (249.11.5) ...\n",
            "Setting up chromium-browser (1:85.0.4183.83-0ubuntu2.22.04.1) ...\n",
            "update-alternatives: using /usr/bin/chromium-browser to provide /usr/bin/x-www-browser (x-www-browser) in auto mode\n",
            "update-alternatives: using /usr/bin/chromium-browser to provide /usr/bin/gnome-www-browser (gnome-www-browser) in auto mode\n",
            "Setting up chromium-chromedriver (1:85.0.4183.83-0ubuntu2.22.04.1) ...\n",
            "Processing triggers for udev (249.11-0ubuntu3.12) ...\n",
            "Processing triggers for hicolor-icon-theme (0.17-2) ...\n",
            "Processing triggers for libc-bin (2.35-0ubuntu3.4) ...\n",
            "/sbin/ldconfig.real: /usr/local/lib/libtbbmalloc_proxy.so.2 is not a symbolic link\n",
            "\n",
            "/sbin/ldconfig.real: /usr/local/lib/libhwloc.so.15 is not a symbolic link\n",
            "\n",
            "/sbin/ldconfig.real: /usr/local/lib/libtcm.so.1 is not a symbolic link\n",
            "\n",
            "/sbin/ldconfig.real: /usr/local/lib/libtbbbind.so.3 is not a symbolic link\n",
            "\n",
            "/sbin/ldconfig.real: /usr/local/lib/libumf.so.0 is not a symbolic link\n",
            "\n",
            "/sbin/ldconfig.real: /usr/local/lib/libtbb.so.12 is not a symbolic link\n",
            "\n",
            "/sbin/ldconfig.real: /usr/local/lib/libur_loader.so.0 is not a symbolic link\n",
            "\n",
            "/sbin/ldconfig.real: /usr/local/lib/libur_adapter_level_zero.so.0 is not a symbolic link\n",
            "\n",
            "/sbin/ldconfig.real: /usr/local/lib/libtbbbind_2_0.so.3 is not a symbolic link\n",
            "\n",
            "/sbin/ldconfig.real: /usr/local/lib/libtbbbind_2_5.so.3 is not a symbolic link\n",
            "\n",
            "/sbin/ldconfig.real: /usr/local/lib/libur_adapter_opencl.so.0 is not a symbolic link\n",
            "\n",
            "/sbin/ldconfig.real: /usr/local/lib/libtbbmalloc.so.2 is not a symbolic link\n",
            "\n",
            "/sbin/ldconfig.real: /usr/local/lib/libtcm_debug.so.1 is not a symbolic link\n",
            "\n",
            "Processing triggers for man-db (2.10.2-1) ...\n",
            "Processing triggers for dbus (1.12.20-2ubuntu4.1) ...\n",
            "Collecting selenium==4.26.1\n",
            "  Downloading selenium-4.26.1-py3-none-any.whl.metadata (7.1 kB)\n",
            "Requirement already satisfied: urllib3<3,>=1.26 in /usr/local/lib/python3.10/dist-packages (from urllib3[socks]<3,>=1.26->selenium==4.26.1) (2.2.3)\n",
            "Collecting trio~=0.17 (from selenium==4.26.1)\n",
            "  Downloading trio-0.27.0-py3-none-any.whl.metadata (8.6 kB)\n",
            "Collecting trio-websocket~=0.9 (from selenium==4.26.1)\n",
            "  Downloading trio_websocket-0.11.1-py3-none-any.whl.metadata (4.7 kB)\n",
            "Requirement already satisfied: certifi>=2021.10.8 in /usr/local/lib/python3.10/dist-packages (from selenium==4.26.1) (2024.8.30)\n",
            "Requirement already satisfied: typing_extensions~=4.9 in /usr/local/lib/python3.10/dist-packages (from selenium==4.26.1) (4.12.2)\n",
            "Requirement already satisfied: websocket-client~=1.8 in /usr/local/lib/python3.10/dist-packages (from selenium==4.26.1) (1.8.0)\n",
            "Requirement already satisfied: attrs>=23.2.0 in /usr/local/lib/python3.10/dist-packages (from trio~=0.17->selenium==4.26.1) (24.2.0)\n",
            "Collecting sortedcontainers (from trio~=0.17->selenium==4.26.1)\n",
            "  Downloading sortedcontainers-2.4.0-py2.py3-none-any.whl.metadata (10 kB)\n",
            "Requirement already satisfied: idna in /usr/local/lib/python3.10/dist-packages (from trio~=0.17->selenium==4.26.1) (3.10)\n",
            "Collecting outcome (from trio~=0.17->selenium==4.26.1)\n",
            "  Downloading outcome-1.3.0.post0-py2.py3-none-any.whl.metadata (2.6 kB)\n",
            "Requirement already satisfied: sniffio>=1.3.0 in /usr/local/lib/python3.10/dist-packages (from trio~=0.17->selenium==4.26.1) (1.3.1)\n",
            "Requirement already satisfied: exceptiongroup in /usr/local/lib/python3.10/dist-packages (from trio~=0.17->selenium==4.26.1) (1.2.2)\n",
            "Collecting wsproto>=0.14 (from trio-websocket~=0.9->selenium==4.26.1)\n",
            "  Downloading wsproto-1.2.0-py3-none-any.whl.metadata (5.6 kB)\n",
            "Requirement already satisfied: pysocks!=1.5.7,<2.0,>=1.5.6 in /usr/local/lib/python3.10/dist-packages (from urllib3[socks]<3,>=1.26->selenium==4.26.1) (1.7.1)\n",
            "Requirement already satisfied: h11<1,>=0.9.0 in /usr/local/lib/python3.10/dist-packages (from wsproto>=0.14->trio-websocket~=0.9->selenium==4.26.1) (0.14.0)\n",
            "Downloading selenium-4.26.1-py3-none-any.whl (9.7 MB)\n",
            "\u001b[2K   \u001b[90m━━━━━━━━━━━━━━━━━━━━━━━━━━━━━━━━━━━━━━━━\u001b[0m \u001b[32m9.7/9.7 MB\u001b[0m \u001b[31m57.8 MB/s\u001b[0m eta \u001b[36m0:00:00\u001b[0m\n",
            "\u001b[?25hDownloading trio-0.27.0-py3-none-any.whl (481 kB)\n",
            "\u001b[2K   \u001b[90m━━━━━━━━━━━━━━━━━━━━━━━━━━━━━━━━━━━━━━━━\u001b[0m \u001b[32m481.7/481.7 kB\u001b[0m \u001b[31m24.0 MB/s\u001b[0m eta \u001b[36m0:00:00\u001b[0m\n",
            "\u001b[?25hDownloading trio_websocket-0.11.1-py3-none-any.whl (17 kB)\n",
            "Downloading wsproto-1.2.0-py3-none-any.whl (24 kB)\n",
            "Downloading outcome-1.3.0.post0-py2.py3-none-any.whl (10 kB)\n",
            "Downloading sortedcontainers-2.4.0-py2.py3-none-any.whl (29 kB)\n",
            "Installing collected packages: sortedcontainers, wsproto, outcome, trio, trio-websocket, selenium\n",
            "Successfully installed outcome-1.3.0.post0 selenium-4.26.1 sortedcontainers-2.4.0 trio-0.27.0 trio-websocket-0.11.1 wsproto-1.2.0\n"
          ]
        }
      ],
      "source": [
        "!apt-get update\n",
        "!apt install chromium-chromedriver\n",
        "!pip install selenium==4.26.1"
      ]
    },
    {
      "cell_type": "code",
      "execution_count": 3,
      "metadata": {
        "colab": {
          "base_uri": "https://localhost:8080/"
        },
        "id": "S7ZKVcd9wLaK",
        "outputId": "1e660e41-1908-4eaa-dd6d-01e098266b63"
      },
      "outputs": [
        {
          "output_type": "stream",
          "name": "stdout",
          "text": [
            "Reading package lists... Done\n",
            "Building dependency tree... Done\n",
            "Reading state information... Done\n",
            "chromium-chromedriver is already the newest version (1:85.0.4183.83-0ubuntu2.22.04.1).\n",
            "0 upgraded, 0 newly installed, 0 to remove and 48 not upgraded.\n",
            "Collecting chromedriver-autoinstaller\n",
            "  Downloading chromedriver_autoinstaller-0.6.4-py3-none-any.whl.metadata (2.1 kB)\n",
            "Requirement already satisfied: packaging>=23.1 in /usr/local/lib/python3.10/dist-packages (from chromedriver-autoinstaller) (24.2)\n",
            "Downloading chromedriver_autoinstaller-0.6.4-py3-none-any.whl (7.6 kB)\n",
            "Installing collected packages: chromedriver-autoinstaller\n",
            "Successfully installed chromedriver-autoinstaller-0.6.4\n"
          ]
        }
      ],
      "source": [
        "# (최초 1회)\n",
        "!apt install chromium-chromedriver\n",
        "!cp /usr/lib/chromium-browser/chromedriver '/content/drive/MyDrive/Colab Notebooks' #\n",
        "!pip install chromedriver-autoinstaller"
      ]
    },
    {
      "cell_type": "code",
      "execution_count": 4,
      "metadata": {
        "id": "hjIt3ESHwLez"
      },
      "outputs": [],
      "source": [
        "# Import modules\n",
        "import chromedriver_autoinstaller\n",
        "from selenium import webdriver\n",
        "from selenium.webdriver.chrome.options import Options\n",
        "from selenium.webdriver.common.by import By\n",
        "from selenium.webdriver.support.ui import WebDriverWait\n",
        "from selenium.webdriver.support import expected_conditions as EC\n",
        "import time\n",
        "from google.colab import drive\n",
        "import os\n",
        "import json"
      ]
    },
    {
      "cell_type": "code",
      "execution_count": 5,
      "metadata": {
        "id": "AByVTHwWwLhZ"
      },
      "outputs": [],
      "source": [
        "# Install the correct version of chromedriver\n",
        "chromedriver_autoinstaller.install()"
      ]
    },
    {
      "cell_type": "code",
      "execution_count": 6,
      "metadata": {
        "id": "rR7M5WXGwLj8"
      },
      "outputs": [],
      "source": [
        "# Set up the Chrome driver\n",
        "options = Options()\n",
        "options.add_argument('--headless')  # Run in headless mode\n",
        "options.add_argument('--no-sandbox')\n",
        "options.add_argument('--disable-dev-shm-usage')"
      ]
    },
    {
      "cell_type": "code",
      "execution_count": 14,
      "metadata": {
        "id": "bJDjCPPrwX9i"
      },
      "outputs": [],
      "source": [
        "driver = webdriver.Chrome(options=options)"
      ]
    },
    {
      "cell_type": "code",
      "execution_count": 8,
      "metadata": {
        "id": "GyXDwcg7wX_9"
      },
      "outputs": [],
      "source": [
        "# JSON 파일 로드\n",
        "with open('/content/drive/MyDrive/[인공지능기초]/sns/youtube/comment/harris_youtube_url_title_date.json', 'r') as f:\n",
        "    video_data = json.load(f)"
      ]
    },
    {
      "cell_type": "code",
      "execution_count": 9,
      "metadata": {
        "id": "ZDMCF16nwYE-"
      },
      "outputs": [],
      "source": [
        "# 결과를 저장할 리스트와 파일 경로 설정\n",
        "output_data = []\n",
        "output_file_path = '/content/drive/MyDrive/[인공지능기초]/sns/youtube/comment/comments_data.jsonl'\n",
        "processed_videos_path = '/content/drive/MyDrive/[인공지능기초]/sns/youtube/comment/processed_videos.json'"
      ]
    },
    {
      "cell_type": "code",
      "execution_count": 10,
      "metadata": {
        "id": "xgdh4m3lwYHf"
      },
      "outputs": [],
      "source": [
        "# 이미 처리된 비디오 URL 로드\n",
        "if os.path.exists(processed_videos_path):\n",
        "    with open(processed_videos_path, 'r', encoding='utf-8') as f:\n",
        "        processed_videos = set(json.load(f))\n",
        "else:\n",
        "    processed_videos = set()"
      ]
    },
    {
      "cell_type": "code",
      "execution_count": 11,
      "metadata": {
        "colab": {
          "base_uri": "https://localhost:8080/",
          "height": 621
        },
        "id": "eVO84JZ6wYKG",
        "outputId": "6857bf03-12e6-41d0-dca4-1edc398f4fa1"
      },
      "outputs": [
        {
          "output_type": "stream",
          "name": "stdout",
          "text": [
            "Processing video 1/126: Good Sense | Harris-Walz 2024\n",
            "Found 179 comments\n",
            "Finished processing video 1/126\n",
            "Processing video 2/126: This Time | Harris-Walz 2024\n",
            "Found 262 comments\n",
            "Finished processing video 2/126\n",
            "Processing video 3/126: Promise | Harris-Walz 2024\n",
            "Found 101 comments\n",
            "Finished processing video 3/126\n",
            "Processing video 4/126: Different | Harris-Walz 2024\n",
            "Found 184 comments\n",
            "Finished processing video 4/126\n",
            "Processing video 5/126: We Rise | Harris-Walz 2024\n",
            "Found 688 comments\n",
            "Finished processing video 5/126\n",
            "Processing video 6/126: Mother | Narrated by Viola Davis for Kamala Harris\n",
            "Found 336 comments\n",
            "Finished processing video 6/126\n",
            "Processing video 7/126: Election Night Preview with Kamala Harris' Campaign Chair Jen O'Malley Dillon\n",
            "Found 335 comments\n",
            "Finished processing video 7/126\n",
            "Processing video 8/126: That Means You | Will Ferrell for Kamala Harris\n"
          ]
        },
        {
          "output_type": "error",
          "ename": "KeyboardInterrupt",
          "evalue": "",
          "traceback": [
            "\u001b[0;31m---------------------------------------------------------------------------\u001b[0m",
            "\u001b[0;31mKeyboardInterrupt\u001b[0m                         Traceback (most recent call last)",
            "\u001b[0;32m<ipython-input-11-41524631d1ca>\u001b[0m in \u001b[0;36m<cell line: 2>\u001b[0;34m()\u001b[0m\n\u001b[1;32m     24\u001b[0m         \u001b[0;32mwhile\u001b[0m \u001b[0;32mTrue\u001b[0m\u001b[0;34m:\u001b[0m\u001b[0;34m\u001b[0m\u001b[0;34m\u001b[0m\u001b[0m\n\u001b[1;32m     25\u001b[0m             \u001b[0mdriver\u001b[0m\u001b[0;34m.\u001b[0m\u001b[0mexecute_script\u001b[0m\u001b[0;34m(\u001b[0m\u001b[0;34m\"window.scrollTo(0, document.documentElement.scrollHeight);\"\u001b[0m\u001b[0;34m)\u001b[0m\u001b[0;34m\u001b[0m\u001b[0;34m\u001b[0m\u001b[0m\n\u001b[0;32m---> 26\u001b[0;31m             \u001b[0mtime\u001b[0m\u001b[0;34m.\u001b[0m\u001b[0msleep\u001b[0m\u001b[0;34m(\u001b[0m\u001b[0;36m2\u001b[0m\u001b[0;34m)\u001b[0m\u001b[0;34m\u001b[0m\u001b[0;34m\u001b[0m\u001b[0m\n\u001b[0m\u001b[1;32m     27\u001b[0m             \u001b[0mnew_height\u001b[0m \u001b[0;34m=\u001b[0m \u001b[0mdriver\u001b[0m\u001b[0;34m.\u001b[0m\u001b[0mexecute_script\u001b[0m\u001b[0;34m(\u001b[0m\u001b[0;34m\"return document.documentElement.scrollHeight\"\u001b[0m\u001b[0;34m)\u001b[0m\u001b[0;34m\u001b[0m\u001b[0;34m\u001b[0m\u001b[0m\n\u001b[1;32m     28\u001b[0m             \u001b[0;32mif\u001b[0m \u001b[0mnew_height\u001b[0m \u001b[0;34m==\u001b[0m \u001b[0mlast_height\u001b[0m\u001b[0;34m:\u001b[0m\u001b[0;34m\u001b[0m\u001b[0;34m\u001b[0m\u001b[0m\n",
            "\u001b[0;31mKeyboardInterrupt\u001b[0m: "
          ]
        }
      ],
      "source": [
        "# 각 비디오에 대해 댓글 스크래핑\n",
        "for idx, video in enumerate(video_data):\n",
        "    url = video['url']\n",
        "    video_title = video['title']\n",
        "    video_date = video['date']\n",
        "\n",
        "    if url in processed_videos:\n",
        "        print(f\"Skipping already processed video {idx+1}/{len(video_data)}: {video_title}\")\n",
        "        continue\n",
        "\n",
        "    try:\n",
        "        print(f\"Processing video {idx+1}/{len(video_data)}: {video_title}\")\n",
        "\n",
        "        driver.get(url)\n",
        "        time.sleep(2)  # 페이지 로드 대기\n",
        "\n",
        "        # 댓글 로드를 위한 스크롤 다운\n",
        "        driver.execute_script(\"window.scrollTo(0, 600);\")\n",
        "        time.sleep(2)\n",
        "\n",
        "        # 모든 댓글을 로드하기 위한 스크롤\n",
        "        last_height = driver.execute_script(\"return document.documentElement.scrollHeight\")\n",
        "        scroll_attempts = 0\n",
        "        while True:\n",
        "            driver.execute_script(\"window.scrollTo(0, document.documentElement.scrollHeight);\")\n",
        "            time.sleep(2)\n",
        "            new_height = driver.execute_script(\"return document.documentElement.scrollHeight\")\n",
        "            if new_height == last_height:\n",
        "                scroll_attempts += 1\n",
        "                if scroll_attempts >= 3:\n",
        "                    break\n",
        "            else:\n",
        "                last_height = new_height\n",
        "                scroll_attempts = 0\n",
        "\n",
        "        # 댓글 요소 찾기\n",
        "        comments = driver.find_elements(By.CSS_SELECTOR, 'ytd-comment-thread-renderer')\n",
        "        print(f\"Found {len(comments)} comments\")\n",
        "\n",
        "        for comment in comments:\n",
        "            try:\n",
        "                # 댓글 텍스트 추출\n",
        "                comment_text = comment.find_element(By.CSS_SELECTOR, '#content-text').text.strip()\n",
        "\n",
        "                # 댓글 작성 날짜 추출\n",
        "                date_element = comment.find_element(By.CSS_SELECTOR, '#published-time-text')\n",
        "                date = date_element.text.strip()\n",
        "\n",
        "                # 좋아요 수 추출 (파싱 없이 원본 그대로 저장)\n",
        "                likes_element = comment.find_element(By.CSS_SELECTOR, '#vote-count-middle')\n",
        "                likes_text = likes_element.text.strip()\n",
        "\n",
        "                # 데이터 저장\n",
        "                output_data.append({\n",
        "                    'video_url': url,\n",
        "                    'video_title': video_title,\n",
        "                    'video_date': video_date,\n",
        "                    'comment_text': comment_text,\n",
        "                    'comment_date': date,\n",
        "                    'comment_likes': likes_text  # 원본 텍스트 그대로 저장\n",
        "                })\n",
        "            except Exception as e:\n",
        "                print(f\"Error processing a comment: {e}\")\n",
        "                continue\n",
        "\n",
        "        # 중간 결과 저장\n",
        "        with open(output_file_path, 'a', encoding='utf-8') as f_out:\n",
        "            for data in output_data:\n",
        "                json_record = json.dumps(data, ensure_ascii=False)\n",
        "                f_out.write(json_record + '\\n')\n",
        "            output_data = []  # 리스트 초기화\n",
        "\n",
        "        # 처리된 비디오 URL 저장\n",
        "        processed_videos.add(url)\n",
        "        with open(processed_videos_path, 'w', encoding='utf-8') as f_processed:\n",
        "            json.dump(list(processed_videos), f_processed, ensure_ascii=False)\n",
        "\n",
        "        print(f\"Finished processing video {idx+1}/{len(video_data)}\")\n",
        "    except Exception as e:\n",
        "        print(f\"Error processing video {url}: {e}\")\n",
        "        continue"
      ]
    },
    {
      "cell_type": "code",
      "execution_count": 15,
      "metadata": {
        "id": "0okpoITh0mgC"
      },
      "outputs": [],
      "source": [
        "# 이미 처리된 비디오 URL 로드\n",
        "if os.path.exists(processed_videos_path):\n",
        "    with open(processed_videos_path, 'r', encoding='utf-8') as f:\n",
        "        processed_videos = set(json.load(f))\n",
        "else:\n",
        "    processed_videos = set()"
      ]
    },
    {
      "cell_type": "code",
      "source": [
        "# 각 비디오에 대해 댓글 스크래핑\n",
        "for idx, video in enumerate(video_data):\n",
        "    url = video['url']\n",
        "    video_title = video['title']\n",
        "    video_date = video['date']\n",
        "\n",
        "    if url in processed_videos:\n",
        "        print(f\"Skipping already processed video {idx+1}/{len(video_data)}: {video_title}\")\n",
        "        continue\n",
        "\n",
        "    try:\n",
        "        print(f\"Processing video {idx+1}/{len(video_data)}: {video_title}\")\n",
        "\n",
        "        driver.get(url)\n",
        "        time.sleep(2)  # 페이지 로드 대기\n",
        "\n",
        "        # 댓글 로드를 위한 스크롤 다운\n",
        "        driver.execute_script(\"window.scrollTo(0, 600);\")\n",
        "        time.sleep(2)\n",
        "\n",
        "        # 모든 댓글을 로드하기 위한 스크롤\n",
        "        last_height = driver.execute_script(\"return document.documentElement.scrollHeight\")\n",
        "        scroll_attempts = 0\n",
        "        while True:\n",
        "            driver.execute_script(\"window.scrollTo(0, document.documentElement.scrollHeight);\")\n",
        "            time.sleep(2)\n",
        "            new_height = driver.execute_script(\"return document.documentElement.scrollHeight\")\n",
        "            if new_height == last_height:\n",
        "                scroll_attempts += 1\n",
        "                if scroll_attempts >= 3:\n",
        "                    break\n",
        "            else:\n",
        "                last_height = new_height\n",
        "                scroll_attempts = 0\n",
        "\n",
        "        # 댓글 요소 찾기\n",
        "        comments = driver.find_elements(By.CSS_SELECTOR, 'ytd-comment-thread-renderer')\n",
        "        print(f\"Found {len(comments)} comments\")\n",
        "\n",
        "        for comment in comments:\n",
        "            try:\n",
        "                # 댓글 텍스트 추출\n",
        "                comment_text = comment.find_element(By.CSS_SELECTOR, '#content-text').text.strip()\n",
        "\n",
        "                # 댓글 작성 날짜 추출\n",
        "                date_element = comment.find_element(By.CSS_SELECTOR, '#published-time-text')\n",
        "                date = date_element.text.strip()\n",
        "\n",
        "                # 좋아요 수 추출 (파싱 없이 원본 그대로 저장)\n",
        "                likes_element = comment.find_element(By.CSS_SELECTOR, '#vote-count-middle')\n",
        "                likes_text = likes_element.text.strip()\n",
        "\n",
        "                # 데이터 저장\n",
        "                output_data.append({\n",
        "                    'video_url': url,\n",
        "                    'video_title': video_title,\n",
        "                    'video_date': video_date,\n",
        "                    'comment_text': comment_text,\n",
        "                    'comment_date': date,\n",
        "                    'comment_likes': likes_text  # 원본 텍스트 그대로 저장\n",
        "                })\n",
        "            except Exception as e:\n",
        "                print(f\"Error processing a comment: {e}\")\n",
        "                continue\n",
        "\n",
        "        # 중간 결과 저장\n",
        "        with open(output_file_path, 'a', encoding='utf-8') as f_out:\n",
        "            for data in output_data:\n",
        "                json_record = json.dumps(data, ensure_ascii=False)\n",
        "                f_out.write(json_record + '\\n')\n",
        "            output_data = []  # 리스트 초기화\n",
        "\n",
        "        # 처리된 비디오 URL 저장\n",
        "        processed_videos.add(url)\n",
        "        with open(processed_videos_path, 'w', encoding='utf-8') as f_processed:\n",
        "            json.dump(list(processed_videos), f_processed, ensure_ascii=False)\n",
        "\n",
        "        print(f\"Finished processing video {idx+1}/{len(video_data)}\")\n",
        "    except Exception as e:\n",
        "        print(f\"Error processing video {url}: {e}\")\n",
        "        continue"
      ],
      "metadata": {
        "colab": {
          "base_uri": "https://localhost:8080/"
        },
        "id": "5Daa08rQy7d3",
        "outputId": "e130c833-f328-41ba-e293-be3da4e56973"
      },
      "execution_count": 16,
      "outputs": [
        {
          "output_type": "stream",
          "name": "stdout",
          "text": [
            "Skipping already processed video 1/126: Good Sense | Harris-Walz 2024\n",
            "Skipping already processed video 2/126: This Time | Harris-Walz 2024\n",
            "Skipping already processed video 3/126: Promise | Harris-Walz 2024\n",
            "Skipping already processed video 4/126: Different | Harris-Walz 2024\n",
            "Skipping already processed video 5/126: We Rise | Harris-Walz 2024\n",
            "Skipping already processed video 6/126: Mother | Narrated by Viola Davis for Kamala Harris\n",
            "Skipping already processed video 7/126: Election Night Preview with Kamala Harris' Campaign Chair Jen O'Malley Dillon\n",
            "Processing video 8/126: That Means You | Will Ferrell for Kamala Harris\n",
            "Found 968 comments\n",
            "Finished processing video 8/126\n",
            "Processing video 9/126: Brighter Future | Kamala Harris’ Closing Ad\n",
            "Found 926 comments\n",
            "Finished processing video 9/126\n",
            "Processing video 10/126: A Day in Philadelphia with Kamala Harris | Harris-Walz 2024\n",
            "Found 241 comments\n",
            "Finished processing video 10/126\n",
            "Processing video 11/126: Cardi B On Why She's Supporting Kamala Harris For President\n",
            "Found 973 comments\n",
            "Finished processing video 11/126\n",
            "Processing video 12/126: Philly vs. Trump | Harris-Walz 2024\n",
            "Found 144 comments\n",
            "Finished processing video 12/126\n",
            "Processing video 13/126: Kamala Harris Visits a Barbershop in Philadelphia\n",
            "Found 1134 comments\n",
            "Finished processing video 13/126\n",
            "Processing video 14/126: Jennifer Lopez Endorses Kamala Harris for President of the United States\n",
            "Found 889 comments\n",
            "Finished processing video 14/126\n",
            "Processing video 15/126: America | Harris-Walz 2024\n",
            "Found 295 comments\n",
            "Finished processing video 15/126\n",
            "Processing video 16/126: Think | Harris-Walz 2024\n",
            "Found 343 comments\n",
            "Finished processing video 16/126\n",
            "Processing video 17/126: Kamala Harris Explains Why Restoring Reproductive Freedom Matters\n",
            "Found 175 comments\n",
            "Finished processing video 17/126\n",
            "Processing video 18/126: Our Next Chapter | Kamala Harris' Closing Argument\n",
            "Found 377 comments\n",
            "Finished processing video 18/126\n",
            "Processing video 19/126: Vice President Kamala Harris' Closing Argument Speech to American Voters\n",
            "Found 899 comments\n",
            "Finished processing video 19/126\n",
            "Processing video 20/126: Kamala Harris' Campaign Chair Jen O'Malley Dillon Breaks Down the State of the Race\n",
            "Found 363 comments\n",
            "Finished processing video 20/126\n",
            "Processing video 21/126: Kamala Harris Debunks Myth About Trump & Stimulus Checks | Club Shay Shay Interview\n",
            "Found 363 comments\n",
            "Finished processing video 21/126\n",
            "Processing video 22/126: Vice President Kamala Harris' Plan for the U.S. Border\n",
            "Found 514 comments\n",
            "Finished processing video 22/126\n",
            "Processing video 23/126: Pay the Price | Harris-Walz 2024\n",
            "Found 200 comments\n",
            "Finished processing video 23/126\n",
            "Processing video 24/126: Yinzer | Harris-Walz 2024\n",
            "Found 86 comments\n",
            "Finished processing video 24/126\n",
            "Processing video 25/126: He Ain't Me | Harris-Walz 2024\n",
            "Found 286 comments\n",
            "Finished processing video 25/126\n",
            "Processing video 26/126: OFFICIAL TRAILER: Introducing the Harris-Walz Fortnite Map | Kamala Harris x Fortnite\n",
            "Found 934 comments\n",
            "Finished processing video 26/126\n",
            "Processing video 27/126: Michelle Obama Delivers a Message to Men at a Kamala Harris Rally\n",
            "Found 466 comments\n",
            "Finished processing video 27/126\n",
            "Processing video 28/126: Kamala Harris Announces Plan to Build an Opportunity Economy for Puerto Rico\n",
            "Found 867 comments\n",
            "Finished processing video 28/126\n",
            "Processing video 29/126: A Joyful Way Forward | Harris-Walz 2024\n",
            "Found 286 comments\n",
            "Finished processing video 29/126\n",
            "Processing video 30/126: Kelly Rowland Delivers Remarks at a Kamala Harris Rally in Houston, Texas\n",
            "Found 546 comments\n",
            "Finished processing video 30/126\n",
            "Processing video 31/126: Beyoncé Addresses the Crowd at a Kamala Harris Rally in Houston, Texas\n",
            "Found 983 comments\n",
            "Finished processing video 31/126\n",
            "Processing video 32/126: Kamala Harris Talks Mexican Food and Family with Chef | Phoenix, AZ\n",
            "Found 684 comments\n",
            "Finished processing video 32/126\n",
            "Processing video 33/126: Bruce Springsteen Endorses Kamala Harris for President\n",
            "Found 356 comments\n",
            "Finished processing video 33/126\n",
            "Processing video 34/126: Defend Those Principles | Harris-Walz 2024\n",
            "Found 189 comments\n",
            "Finished processing video 34/126\n",
            "Processing video 35/126: Your Family | Harris-Walz 2024\n",
            "Found 226 comments\n",
            "Finished processing video 35/126\n",
            "Processing video 36/126: Kamala Harris on Her Policy Goals and Working Across the Aisle | CNN's Presidential Town Hall\n",
            "Found 292 comments\n",
            "Finished processing video 36/126\n",
            "Processing video 37/126: Vice President Kamala Harris On Her Faith | CNN's Presidential Town Hall\n",
            "Found 395 comments\n",
            "Finished processing video 37/126\n",
            "Processing video 38/126: Vice President Kamala Harris' Message to Undecided Voters | CNN's Presidential Town Hall\n",
            "Found 329 comments\n",
            "Finished processing video 38/126\n",
            "Processing video 39/126: Mark Cuban & Kamala Harris on the Economy, Trump, and the American Dream\n",
            "Found 881 comments\n",
            "Finished processing video 39/126\n",
            "Processing video 40/126: Mark Cuban and Kamala Harris on Trump's Plans for the Economy (First Look)\n",
            "Found 223 comments\n",
            "Finished processing video 40/126\n",
            "Processing video 41/126: Ceasar | Harris-Walz 2024\n",
            "Found 56 comments\n",
            "Finished processing video 41/126\n",
            "Processing video 42/126: Ondrea's Story | Harris-Walz 2024\n",
            "Found 189 comments\n",
            "Finished processing video 42/126\n",
            "Processing video 43/126: You Will Be Protected | Harris-Walz 2024\n",
            "Found 253 comments\n",
            "Finished processing video 43/126\n",
            "Processing video 44/126: Amber Thurman | Harris-Walz 2024\n",
            "Found 118 comments\n",
            "Finished processing video 44/126\n",
            "Processing video 45/126: Vice President Kamala Harris on Expanding Medicare to Cover Home Care for Seniors\n",
            "Found 201 comments\n",
            "Finished processing video 45/126\n",
            "Processing video 46/126: Vice President Kamala Harris' Plan To Protect Reproductive Freedom\n",
            "Found 190 comments\n",
            "Finished processing video 46/126\n",
            "Processing video 47/126: Vice President Kamala Harris' Plan For Affordable Child & Elder Care\n",
            "Found 306 comments\n",
            "Finished processing video 47/126\n",
            "Processing video 48/126: Kamala Harris' 2024 Al Smith Dinner Message ft. Molly Shannon | Harris-Walz 2024\n",
            "Found 883 comments\n",
            "Finished processing video 48/126\n",
            "Processing video 49/126: Barbershop Roundtable with Kamala Harris' Principal Deputy Campaign Manager Quentin Fulks\n",
            "Found 319 comments\n",
            "Finished processing video 49/126\n",
            "Processing video 50/126: Kamala Harris Breaks Down Her Economic Policy | Rev. Al Sharpton Interview\n",
            "Found 696 comments\n",
            "Finished processing video 50/126\n",
            "Processing video 51/126: Vice President Kamala Harris Attends Sunday Service at a Georgia Church\n",
            "Found 598 comments\n",
            "Finished processing video 51/126\n",
            "Processing video 52/126: Vice President Harris On Delivering For Black Men | The Breakfast Club Interview\n",
            "Found 196 comments\n",
            "Finished processing video 52/126\n",
            "Processing video 53/126: Recuerdo | Marc Anthony for Harris-Walz 2024\n",
            "Found 1021 comments\n",
            "Finished processing video 53/126\n",
            "Processing video 54/126: 64,000 | Harris-Walz 2024\n",
            "Found 204 comments\n",
            "Finished processing video 54/126\n",
            "Processing video 55/126: Total Power | Harris-Walz 2024\n",
            "Found 146 comments\n",
            "Finished processing video 55/126\n",
            "Processing video 56/126: Vice President Kamala Harris' Fox News Interview: \"Donald Trump is unstable.\"\n",
            "Found 827 comments\n",
            "Finished processing video 56/126\n",
            "Processing video 57/126: Amber Nicole Thurman | Harris-Walz 2024\n",
            "Found 226 comments\n",
            "Finished processing video 57/126\n",
            "Processing video 58/126: Expanding The Child Tax Credit | Harris-Walz 2024\n",
            "Found 188 comments\n",
            "Finished processing video 58/126\n",
            "Processing video 59/126: Donald Trump's Record When It Comes To Black Men | Roland Martin Interview\n",
            "Found 206 comments\n",
            "Finished processing video 59/126\n",
            "Processing video 60/126: The Central Park Five | Harris-Walz 2024\n",
            "Found 162 comments\n",
            "Finished processing video 60/126\n",
            "Processing video 61/126: An Opportunity Economy For Black Men | The Shade Room Interview\n",
            "Found 195 comments\n",
            "Finished processing video 61/126\n",
            "Processing video 62/126: Enemy Within | Harris-Walz 2024\n",
            "Found 384 comments\n",
            "Finished processing video 62/126\n",
            "Processing video 63/126: Out of Michigan | Harris-Walz 2024\n",
            "Found 121 comments\n",
            "Finished processing video 63/126\n",
            "Processing video 64/126: Kamala Harris is Working to Lower Prescription Drug Prices | Harris-Walz 2024\n",
            "Found 138 comments\n",
            "Finished processing video 64/126\n",
            "Processing video 65/126: Vice President Kamala Harris | Hurricane Helene Response in Georgia and North Carolina\n",
            "Found 287 comments\n",
            "Finished processing video 65/126\n",
            "Processing video 66/126: Vice President Kamala Harris On Hurricane Response | Univision Town Hall\n",
            "Found 296 comments\n",
            "Finished processing video 66/126\n",
            "Processing video 67/126: Vice President Kamala Harris On Protecting Dreamers | Univision Town Hall\n",
            "Found 116 comments\n",
            "Finished processing video 67/126\n",
            "Processing video 68/126: Vice President Harris On Health Care | Univision Town Hall\n",
            "Found 93 comments\n",
            "Finished processing video 68/126\n",
            "Processing video 69/126: Vice President Kamala Harris On Inflation & The Cost Of Living | Univision Town Hall\n",
            "Found 318 comments\n",
            "Finished processing video 69/126\n",
            "Processing video 70/126: Like Detroit | Harris-Walz 2024\n",
            "Found 966 comments\n",
            "Finished processing video 70/126\n",
            "Processing video 71/126: Vice President Kamala Harris On Democracy & The Rule Of Law | Univision Town Hall\n",
            "Found 377 comments\n",
            "Finished processing video 71/126\n",
            "Processing video 72/126: Vice President Kamala Harris on the Border | Univision Town Hall\n",
            "Found 189 comments\n",
            "Finished processing video 72/126\n",
            "Processing video 73/126: Vice President Kamala Harris On Social Security & Disability Benefits | Univision Town Hall\n",
            "Found 332 comments\n",
            "Finished processing video 73/126\n",
            "Processing video 74/126: Stevie Wonder in Conversation with Spike Lee for Kamala Harris | Harris-Walz 2024\n",
            "Found 109 comments\n",
            "Finished processing video 74/126\n",
            "Processing video 75/126: Vice President Kamala Harris on Health Care Access: \"We speak her name.\" | Univision Town Hall\n",
            "Found 337 comments\n",
            "Finished processing video 75/126\n",
            "Processing video 76/126: Vice President Kamala Harris' Economic Policy for Down Payment Assistance | Harris-Walz 2024\n",
            "Found 183 comments\n",
            "Finished processing video 76/126\n",
            "Processing video 77/126: He Will Make it Worse | Harris-Walz 2024\n",
            "Found 273 comments\n",
            "Finished processing video 77/126\n",
            "Processing video 78/126: Vice President Kamala Harris Visits New Hampshire | Harris-Walz 2024\n",
            "Found 211 comments\n",
            "Finished processing video 78/126\n",
            "Processing video 79/126: Vice President Kamala Harris' message on preparations for Hurricane Milton\n",
            "Found 668 comments\n",
            "Finished processing video 79/126\n",
            "Processing video 80/126: Fit To Lead | Harris-Walz 2024\n",
            "Found 318 comments\n",
            "Finished processing video 80/126\n",
            "Processing video 81/126: Menace | Harris-Walz 2024\n",
            "Found 264 comments\n",
            "Finished processing video 81/126\n",
            "Processing video 82/126: Vice President Kamala Harris Live on The View: Her Mother's Story and Her Policy for Caregivers\n",
            "Found 217 comments\n",
            "Finished processing video 82/126\n",
            "Processing video 83/126: History | Harris-Walz 2024\n",
            "Found 234 comments\n",
            "Finished processing video 83/126\n",
            "Processing video 84/126: Your Plans | Harris-Walz 2024\n",
            "Found 84 comments\n",
            "Finished processing video 84/126\n",
            "Processing video 85/126: Mom | Harris-Walz 2024\n",
            "Found 71 comments\n",
            "Finished processing video 85/126\n",
            "Processing video 86/126: Believe | Harris 2024\n",
            "Found 133 comments\n",
            "Finished processing video 86/126\n",
            "Processing video 87/126: Taking A Gamble | Harris-Walz 2024\n",
            "Found 104 comments\n",
            "Finished processing video 87/126\n",
            "Processing video 88/126: Big Family | Harris-Walz 2024\n",
            "Found 107 comments\n",
            "Finished processing video 88/126\n",
            "Processing video 89/126: Bombshell | Harris-Walz 2024\n",
            "Found 410 comments\n",
            "Finished processing video 89/126\n",
            "Processing video 90/126: Has Our Backs | Harris-Walz 2024\n",
            "Found 170 comments\n",
            "Finished processing video 90/126\n",
            "Processing video 91/126: Simple Math | Harris-Walz 2024\n",
            "Found 139 comments\n",
            "Finished processing video 91/126\n",
            "Processing video 92/126: Matt McCaffery | Harris-Walz 2024\n",
            "Found 92 comments\n",
            "Finished processing video 92/126\n",
            "Processing video 93/126: Who Does That? | Harris-Walz 2024\n",
            "Found 91 comments\n",
            "Finished processing video 93/126\n",
            "Processing video 94/126: Protect | Harris-Walz 2024\n",
            "Found 0 comments\n",
            "Finished processing video 94/126\n",
            "Processing video 95/126: Unstable Threat | Harris-Walz 2024\n",
            "Found 319 comments\n",
            "Finished processing video 95/126\n",
            "Processing video 96/126: Saved My Life | Harris-Walz 2024\n",
            "Found 102 comments\n",
            "Finished processing video 96/126\n",
            "Processing video 97/126: Better Off Dying | Harris-Walz 2024\n",
            "Found 465 comments\n",
            "Finished processing video 97/126\n",
            "Processing video 98/126: Governor Tim Walz VP Debate Watch Party\n",
            "Found 159 comments\n",
            "Finished processing video 98/126\n",
            "Processing video 99/126: Concepts Of A Plan | Harris-Walz 2024\n",
            "Found 413 comments\n",
            "Finished processing video 99/126\n",
            "Processing video 100/126: Vice President Kamala Harris Visits Savannah, Georgia | Harris-Walz 2024\n",
            "Found 654 comments\n",
            "Finished processing video 100/126\n",
            "Processing video 101/126: Say It To My Face | Harris-Walz 2024\n",
            "Found 759 comments\n",
            "Finished processing video 101/126\n",
            "Processing video 102/126: Never Backed Down | Harris-Walz 2024\n",
            "Found 318 comments\n",
            "Finished processing video 102/126\n",
            "Processing video 103/126: Common Sense | Harris-Walz 2024\n",
            "Found 450 comments\n",
            "Finished processing video 103/126\n",
            "Processing video 104/126: Not Again | Harris-Walz 2024\n",
            "Found 444 comments\n",
            "Finished processing video 104/126\n",
            "Processing video 105/126: Big Family | Harris-Walz 2024\n",
            "Found 243 comments\n",
            "Finished processing video 105/126\n",
            "Processing video 106/126: Both Wrong | Harris-Walz 2024\n",
            "Found 315 comments\n",
            "Finished processing video 106/126\n",
            "Processing video 107/126: Tougher | Harris-Walz 2024\n",
            "Found 529 comments\n",
            "Finished processing video 107/126\n",
            "Processing video 108/126: Monster | Harris-Walz 2024\n",
            "Found 792 comments\n",
            "Finished processing video 108/126\n",
            "Processing video 109/126: All Americans | Harris-Walz 2024\n",
            "Found 533 comments\n",
            "Finished processing video 109/126\n",
            "Processing video 110/126: Wanted | Harris-Walz 2024\n",
            "Found 552 comments\n",
            "Finished processing video 110/126\n",
            "Processing video 111/126: Leadership | Harris-Walz 2024\n",
            "Found 353 comments\n",
            "Finished processing video 111/126\n",
            "Processing video 112/126: Crowd Size | Harris-Walz 2024\n",
            "Found 614 comments\n",
            "Finished processing video 112/126\n",
            "Processing video 113/126: The Best People | Harris-Walz 2024\n",
            "Found 782 comments\n",
            "Finished processing video 113/126\n",
            "Processing video 114/126: Fearless | Harris-Walz 2024\n",
            "Found 466 comments\n",
            "Finished processing video 114/126\n",
            "Processing video 115/126: Focused | Harris-Walz 2024\n",
            "Found 449 comments\n",
            "Finished processing video 115/126\n",
            "Processing video 116/126: A Look Into The 2024 Democratic National Convention | Harris-Walz 2024\n",
            "Found 489 comments\n",
            "Finished processing video 116/126\n",
            "Processing video 117/126: Control | Harris-Walz 2024\n",
            "Found 762 comments\n",
            "Finished processing video 117/126\n",
            "Processing video 118/126: Kamala Harris accepts the nomination for President of the United States | Harris-Walz 2024\n",
            "Found 798 comments\n",
            "Finished processing video 118/126\n",
            "Processing video 119/126: Kamala Harris and Tim Walz on tacos, music, and the future of America\n",
            "Found 855 comments\n",
            "Finished processing video 119/126\n",
            "Processing video 120/126: Knows | Harris-Walz 2024\n",
            "Found 748 comments\n",
            "Finished processing video 120/126\n",
            "Processing video 121/126: Meet Tim Walz | Harris-Walz 2024\n",
            "Found 994 comments\n",
            "Finished processing video 121/126\n",
            "Processing video 122/126: Blocked | Harris-Walz 2024\n",
            "Found 689 comments\n",
            "Finished processing video 122/126\n",
            "Processing video 123/126: Fearless | Harris-Walz 2024\n",
            "Found 794 comments\n",
            "Finished processing video 123/126\n",
            "Processing video 124/126: 100 Days Out | Harris-Walz 2024\n",
            "Found 979 comments\n",
            "Finished processing video 124/126\n",
            "Processing video 125/126: Barack and Michelle Obama Endorse Kamala Harris for President\n",
            "Found 900 comments\n",
            "Finished processing video 125/126\n",
            "Processing video 126/126: Kamala Harris Launches Her Campaign for President\n",
            "Found 787 comments\n",
            "Finished processing video 126/126\n"
          ]
        }
      ]
    },
    {
      "cell_type": "code",
      "source": [
        "import pandas as pd\n",
        "\n",
        "file_path = \"/content/drive/MyDrive/[인공지능기초]/sns/youtube/comment/harris_youtube_comment_commentdate_likes.jsonl\"\n",
        "\n",
        "df = pd.read_json(file_path, lines=True)"
      ],
      "metadata": {
        "id": "DQv2jDIky_-y"
      },
      "execution_count": 4,
      "outputs": []
    },
    {
      "cell_type": "code",
      "source": [
        "len(df)"
      ],
      "metadata": {
        "colab": {
          "base_uri": "https://localhost:8080/"
        },
        "id": "W73vW6xnGK34",
        "outputId": "77b7f67e-3cd7-45bd-808d-83861e8ef804"
      },
      "execution_count": 5,
      "outputs": [
        {
          "output_type": "execute_result",
          "data": {
            "text/plain": [
              "52436"
            ]
          },
          "metadata": {},
          "execution_count": 5
        }
      ]
    },
    {
      "cell_type": "code",
      "source": [
        "print(df.head(5))"
      ],
      "metadata": {
        "colab": {
          "base_uri": "https://localhost:8080/"
        },
        "id": "ZkhnelP_GmpC",
        "outputId": "c482f9b4-0ace-454d-e2e2-4590ab878c72"
      },
      "execution_count": 8,
      "outputs": [
        {
          "output_type": "stream",
          "name": "stdout",
          "text": [
            "                                     video_url                    video_title  \\\n",
            "0  https://www.youtube.com/watch?v=_v_4IgeVQ8M  Good Sense | Harris-Walz 2024   \n",
            "1  https://www.youtube.com/watch?v=_v_4IgeVQ8M  Good Sense | Harris-Walz 2024   \n",
            "2  https://www.youtube.com/watch?v=_v_4IgeVQ8M  Good Sense | Harris-Walz 2024   \n",
            "3  https://www.youtube.com/watch?v=_v_4IgeVQ8M  Good Sense | Harris-Walz 2024   \n",
            "4  https://www.youtube.com/watch?v=_v_4IgeVQ8M  Good Sense | Harris-Walz 2024   \n",
            "\n",
            "    video_date                                       comment_text  \\\n",
            "0  Nov 4, 2024                                   HARRIS WALZ 2024   \n",
            "1  Nov 4, 2024                     Yes who won again?\\nTrump gang   \n",
            "2  Nov 4, 2024  Voting for \"kamala Harris\" the greatest vote o...   \n",
            "3  Nov 4, 2024             Kamala , love you \\nAlways support you   \n",
            "4  Nov 4, 2024                              Harris-Walz 2024 🇺🇸🇺🇸   \n",
            "\n",
            "  comment_date comment_likes  \n",
            "0  13 days ago            19  \n",
            "1  12 days ago             8  \n",
            "2  10 days ago             2  \n",
            "3  13 days ago            11  \n",
            "4  13 days ago             1  \n"
          ]
        }
      ]
    },
    {
      "cell_type": "code",
      "source": [
        "# comment_date 컬럼의 고유한 값 확인\n",
        "unique_dates = df['comment_date'].unique()\n",
        "\n",
        "# 고유한 값 출력\n",
        "print(unique_dates)"
      ],
      "metadata": {
        "colab": {
          "base_uri": "https://localhost:8080/"
        },
        "id": "y0rkKndkGs-b",
        "outputId": "4b920fa8-dfd6-47c2-dfbe-21dce0e3bb36"
      },
      "execution_count": 7,
      "outputs": [
        {
          "output_type": "stream",
          "name": "stdout",
          "text": [
            "['13 days ago' '12 days ago' '10 days ago' '2 weeks ago' '11 days ago'\n",
            " '8 days ago' '5 days ago' '2 weeks ago (edited)' '1 month ago'\n",
            " '4 days ago' '2 days ago' '23 hours ago' '13 days ago (edited)'\n",
            " '3 days ago' '14 hours ago' '4 hours ago' '6 days ago'\n",
            " '12 days ago (edited)' '7 days ago' '7 hours ago' '9 days ago'\n",
            " '1 day ago' '11 days ago (edited)' '4 days ago (edited)' '19 hours ago'\n",
            " '12 hours ago' '1 hour ago' '6 days ago (edited)' '10 hours ago'\n",
            " '21 hours ago' '2 hours ago' '18 hours ago' '15 hours ago'\n",
            " '10 days ago (edited)' '3 weeks ago' '3 weeks ago (edited)'\n",
            " '5 days ago (edited)' '3 days ago (edited)' '11 hours ago' '4 weeks ago'\n",
            " '4 weeks ago (edited)' '16 hours ago' '9 hours ago' '8 days ago (edited)'\n",
            " '7 days ago (edited)' '5 hours ago' '3 hours ago' '1 month ago (edited)'\n",
            " '20 hours ago (edited)' '56 minutes ago' '20 hours ago' '2 months ago'\n",
            " '2 months ago (edited)' '3 months ago' '3 months ago (edited)'\n",
            " '13 hours ago' '6 hours ago' '22 hours ago']\n"
          ]
        }
      ]
    },
    {
      "cell_type": "code",
      "source": [
        "# comment_date 컬럼의 고유한 값 확인\n",
        "unique_video_dates = df['video_date'].unique()\n",
        "\n",
        "# 고유한 값 출력\n",
        "print(unique_video_dates) #"
      ],
      "metadata": {
        "colab": {
          "base_uri": "https://localhost:8080/"
        },
        "id": "teOLK6QcQIge",
        "outputId": "89e94ef8-8d77-4843-eb2a-499410abb0ab"
      },
      "execution_count": 23,
      "outputs": [
        {
          "output_type": "stream",
          "name": "stdout",
          "text": [
            "['Nov 4, 2024' 'Nov 3, 2024' 'Nov 2, 2024' 'Nov 1, 2024' 'Oct 31, 2024'\n",
            " 'Oct 30, 2024' 'Oct 29, 2024' 'Oct 28, 2024' 'Oct 27, 2024'\n",
            " 'Oct 26, 2024' 'Oct 25, 2024' 'Oct 24, 2024' 'Oct 23, 2024'\n",
            " 'Oct 22, 2024' 'Oct 21, 2024' 'Oct 20, 2024' 'Oct 19, 2024'\n",
            " 'Oct 18, 2024' 'Oct 17, 2024' 'Oct 16, 2024' 'Oct 15, 2024'\n",
            " 'Oct 14, 2024' 'Oct 13, 2024' 'Oct 12, 2024' 'Oct 11, 2024'\n",
            " 'Oct 10, 2024' 'Oct 9, 2024' 'Oct 8, 2024' 'Oct 7, 2024' 'Oct 6, 2024'\n",
            " 'Oct 3, 2024' 'Oct 2, 2024' 'Oct 1, 2024' 'Sep 30, 2024' 'Sep 28, 2024'\n",
            " 'Sep 27, 2024' 'Sep 24, 2024' 'Sep 23, 2024' 'Sep 20, 2024'\n",
            " 'Sep 19, 2024' 'Sep 18, 2024' 'Sep 13, 2024' 'Sep 12, 2024'\n",
            " 'Sep 10, 2024' 'Sep 9, 2024' 'Sep 4, 2024' 'Sep 3, 2024' 'Aug 31, 2024'\n",
            " 'Aug 28, 2024' 'Aug 23, 2024' 'Aug 15, 2024' 'Aug 11, 2024' 'Aug 6, 2024'\n",
            " 'Jul 30, 2024' 'Jul 27, 2024' 'Jul 26, 2024' 'Jul 25, 2024']\n"
          ]
        }
      ]
    },
    {
      "cell_type": "code",
      "source": [
        "# 현재 2024년 11월 25일 기준"
      ],
      "metadata": {
        "id": "VzQ08BmEOCQ_"
      },
      "execution_count": 9,
      "outputs": []
    },
    {
      "cell_type": "code",
      "source": [
        "def parse_comment_date(comment_date):\n",
        "    try:\n",
        "        # \"(edited)\" 제거\n",
        "        comment_date = re.sub(r\"\\(edited\\)\", \"\", comment_date).strip()\n",
        "\n",
        "        # \"days ago\" 형식 처리\n",
        "        if \"day\" in comment_date:\n",
        "            days_ago = int(re.search(r\"\\d+\", comment_date).group())\n",
        "            result_date = datetime.now() - timedelta(days=days_ago)\n",
        "\n",
        "        # \"week\" 형식 처리\n",
        "        elif \"week\" in comment_date:\n",
        "            weeks_ago = int(re.search(r\"\\d+\", comment_date).group())\n",
        "            result_date = datetime.now() - timedelta(weeks=weeks_ago)\n",
        "\n",
        "        # \"month\" 형식 처리\n",
        "        elif \"month\" in comment_date:\n",
        "            months_ago = int(re.search(r\"\\d+\", comment_date).group())\n",
        "            result_date = datetime.now() - timedelta(days=months_ago * 30)  # 대략 30일 기준\n",
        "\n",
        "        # \"hour\" 형식 처리\n",
        "        elif \"hour\" in comment_date:\n",
        "            hours_ago = int(re.search(r\"\\d+\", comment_date).group())\n",
        "            result_date = datetime.now() - timedelta(hours=hours_ago)\n",
        "\n",
        "        # \"minute\" 형식 처리\n",
        "        elif \"minute\" in comment_date:\n",
        "            minutes_ago = int(re.search(r\"\\d+\", comment_date).group())\n",
        "            result_date = datetime.now() - timedelta(minutes=minutes_ago)\n",
        "\n",
        "        # 기본적으로 None 반환 (기타 형식에 대해 처리할 수 없을 경우)\n",
        "        else:\n",
        "            return None\n",
        "\n",
        "        # 날짜만 반환 (시간과 마이크로초 제거)\n",
        "        return result_date.date()\n",
        "\n",
        "    except Exception as e:\n",
        "        print(f\"Error parsing comment_date '{comment_date}': {e}\")\n",
        "        return None\n"
      ],
      "metadata": {
        "id": "p7keiEnaNCP3"
      },
      "execution_count": 16,
      "outputs": []
    },
    {
      "cell_type": "code",
      "source": [
        "# 'comment_date'를 datetime으로 변환하여 새로운 컬럼 생성\n",
        "df['parsed_comment_date'] = df['comment_date'].apply(parse_comment_date)"
      ],
      "metadata": {
        "id": "WRt_xeRpN0b8"
      },
      "execution_count": 17,
      "outputs": []
    },
    {
      "cell_type": "code",
      "source": [
        "# 결과 출력 (테스트용)\n",
        "print(df[['comment_date', 'parsed_comment_date']].head(10))"
      ],
      "metadata": {
        "colab": {
          "base_uri": "https://localhost:8080/"
        },
        "id": "pzs_01gbN0eT",
        "outputId": "1b6ff8fe-a722-4a04-b257-7cfbe9c3170b"
      },
      "execution_count": 18,
      "outputs": [
        {
          "output_type": "stream",
          "name": "stdout",
          "text": [
            "  comment_date parsed_comment_date\n",
            "0  13 days ago          2024-11-11\n",
            "1  12 days ago          2024-11-12\n",
            "2  10 days ago          2024-11-14\n",
            "3  13 days ago          2024-11-11\n",
            "4  13 days ago          2024-11-11\n",
            "5  2 weeks ago          2024-11-10\n",
            "6  12 days ago          2024-11-12\n",
            "7  13 days ago          2024-11-11\n",
            "8  2 weeks ago          2024-11-10\n",
            "9  11 days ago          2024-11-13\n"
          ]
        }
      ]
    },
    {
      "cell_type": "code",
      "source": [
        "# comment_date 컬럼의 고유한 값 확인\n",
        "unique_dates = df['parsed_comment_date'].unique()\n",
        "\n",
        "# 고유한 값 출력\n",
        "print(unique_dates)\n",
        "\n",
        "# 마지막 비디오 영상이 Jul 25, 2024이며, 크롤링한 2024년 11월 24일 기준 3 month ago 보다 이전의 댓글 날짜는 없다.\n",
        "# 즉 7월 25일 ~ 8월 26일 -> 8월 26일로 통일된다. (마찬가지로 2024, 8, 27 ~ 2024, 9, 25는 2024, 9, 25로 통일됨.)\n",
        "# 어차피 댓글 날짜를 추출한 이유는 필터링이 목적이므로 크게 상관없다."
      ],
      "metadata": {
        "colab": {
          "base_uri": "https://localhost:8080/"
        },
        "id": "fmbjT3MlN0gz",
        "outputId": "8e5cd80c-023f-418c-e5cb-c7f0ece346cd"
      },
      "execution_count": 19,
      "outputs": [
        {
          "output_type": "stream",
          "name": "stdout",
          "text": [
            "[datetime.date(2024, 11, 11) datetime.date(2024, 11, 12)\n",
            " datetime.date(2024, 11, 14) datetime.date(2024, 11, 10)\n",
            " datetime.date(2024, 11, 13) datetime.date(2024, 11, 16)\n",
            " datetime.date(2024, 11, 19) datetime.date(2024, 10, 25)\n",
            " datetime.date(2024, 11, 20) datetime.date(2024, 11, 22)\n",
            " datetime.date(2024, 11, 23) datetime.date(2024, 11, 21)\n",
            " datetime.date(2024, 11, 24) datetime.date(2024, 11, 18)\n",
            " datetime.date(2024, 11, 17) datetime.date(2024, 11, 15)\n",
            " datetime.date(2024, 11, 3) datetime.date(2024, 10, 27)\n",
            " datetime.date(2024, 9, 25) datetime.date(2024, 8, 26)]\n"
          ]
        }
      ]
    },
    {
      "cell_type": "code",
      "source": [
        "print(df.head(5))"
      ],
      "metadata": {
        "colab": {
          "base_uri": "https://localhost:8080/"
        },
        "id": "_rdGAS_rONLH",
        "outputId": "ed662e79-926b-40a3-adf1-c724a6e639e5"
      },
      "execution_count": 25,
      "outputs": [
        {
          "output_type": "stream",
          "name": "stdout",
          "text": [
            "                                     video_url                    video_title  \\\n",
            "0  https://www.youtube.com/watch?v=_v_4IgeVQ8M  Good Sense | Harris-Walz 2024   \n",
            "1  https://www.youtube.com/watch?v=_v_4IgeVQ8M  Good Sense | Harris-Walz 2024   \n",
            "2  https://www.youtube.com/watch?v=_v_4IgeVQ8M  Good Sense | Harris-Walz 2024   \n",
            "3  https://www.youtube.com/watch?v=_v_4IgeVQ8M  Good Sense | Harris-Walz 2024   \n",
            "4  https://www.youtube.com/watch?v=_v_4IgeVQ8M  Good Sense | Harris-Walz 2024   \n",
            "\n",
            "    video_date                                       comment_text  \\\n",
            "0  Nov 4, 2024                                   HARRIS WALZ 2024   \n",
            "1  Nov 4, 2024                     Yes who won again?\\nTrump gang   \n",
            "2  Nov 4, 2024  Voting for \"kamala Harris\" the greatest vote o...   \n",
            "3  Nov 4, 2024             Kamala , love you \\nAlways support you   \n",
            "4  Nov 4, 2024                              Harris-Walz 2024 🇺🇸🇺🇸   \n",
            "\n",
            "  comment_date comment_likes parsed_comment_date  \n",
            "0  13 days ago            19          2024-11-11  \n",
            "1  12 days ago             8          2024-11-12  \n",
            "2  10 days ago             2          2024-11-14  \n",
            "3  13 days ago            11          2024-11-11  \n",
            "4  13 days ago             1          2024-11-11  \n"
          ]
        }
      ]
    },
    {
      "cell_type": "code",
      "source": [
        "# 'comment_date' 컬럼 삭제\n",
        "df = df.drop(columns=['comment_date'])"
      ],
      "metadata": {
        "id": "qv-MdCL7P14r"
      },
      "execution_count": 26,
      "outputs": []
    },
    {
      "cell_type": "code",
      "source": [
        "print(df.head(5))"
      ],
      "metadata": {
        "colab": {
          "base_uri": "https://localhost:8080/"
        },
        "id": "X8pOY5BxSFag",
        "outputId": "f7296915-ba47-4ae8-e510-34d01683f6b9"
      },
      "execution_count": 27,
      "outputs": [
        {
          "output_type": "stream",
          "name": "stdout",
          "text": [
            "                                     video_url                    video_title  \\\n",
            "0  https://www.youtube.com/watch?v=_v_4IgeVQ8M  Good Sense | Harris-Walz 2024   \n",
            "1  https://www.youtube.com/watch?v=_v_4IgeVQ8M  Good Sense | Harris-Walz 2024   \n",
            "2  https://www.youtube.com/watch?v=_v_4IgeVQ8M  Good Sense | Harris-Walz 2024   \n",
            "3  https://www.youtube.com/watch?v=_v_4IgeVQ8M  Good Sense | Harris-Walz 2024   \n",
            "4  https://www.youtube.com/watch?v=_v_4IgeVQ8M  Good Sense | Harris-Walz 2024   \n",
            "\n",
            "    video_date                                       comment_text  \\\n",
            "0  Nov 4, 2024                                   HARRIS WALZ 2024   \n",
            "1  Nov 4, 2024                     Yes who won again?\\nTrump gang   \n",
            "2  Nov 4, 2024  Voting for \"kamala Harris\" the greatest vote o...   \n",
            "3  Nov 4, 2024             Kamala , love you \\nAlways support you   \n",
            "4  Nov 4, 2024                              Harris-Walz 2024 🇺🇸🇺🇸   \n",
            "\n",
            "  comment_likes parsed_comment_date  \n",
            "0            19          2024-11-11  \n",
            "1             8          2024-11-12  \n",
            "2             2          2024-11-14  \n",
            "3            11          2024-11-11  \n",
            "4             1          2024-11-11  \n"
          ]
        }
      ]
    },
    {
      "cell_type": "code",
      "source": [
        "len(df)"
      ],
      "metadata": {
        "colab": {
          "base_uri": "https://localhost:8080/"
        },
        "id": "IJz_7RIXSGa5",
        "outputId": "2b6260ba-d2dd-42f4-91b5-806dc287b9e6"
      },
      "execution_count": 28,
      "outputs": [
        {
          "output_type": "execute_result",
          "data": {
            "text/plain": [
              "52436"
            ]
          },
          "metadata": {},
          "execution_count": 28
        }
      ]
    },
    {
      "cell_type": "code",
      "source": [
        "# 날짜 기준 설정 (2024-11-04 이후는 삭제)\n",
        "date_threshold = datetime(2024, 11, 4).date()"
      ],
      "metadata": {
        "id": "eY_Pf2wzSLEC"
      },
      "execution_count": 29,
      "outputs": []
    },
    {
      "cell_type": "code",
      "source": [
        "# 'parsed_comment_date'를 datetime 형식으로 변환하여 날짜만 비교\n",
        "df['parsed_comment_date'] = pd.to_datetime(df['parsed_comment_date']).dt.date"
      ],
      "metadata": {
        "id": "jv0gNekwS3rO"
      },
      "execution_count": 30,
      "outputs": []
    },
    {
      "cell_type": "code",
      "source": [
        "# 날짜 조건에 맞는 행만 남기기 (2024-11-04 이후의 데이터 삭제)\n",
        "df = df[df['parsed_comment_date'] <= date_threshold]"
      ],
      "metadata": {
        "id": "9XTirVt0S4_I"
      },
      "execution_count": 31,
      "outputs": []
    },
    {
      "cell_type": "code",
      "source": [
        "# comment_date 컬럼의 고유한 값 확인\n",
        "unique_dates = df['parsed_comment_date'].unique()\n",
        "\n",
        "# 고유한 값 출력\n",
        "print(unique_dates)"
      ],
      "metadata": {
        "colab": {
          "base_uri": "https://localhost:8080/"
        },
        "id": "s5XGmfCgS7F2",
        "outputId": "e787ace1-cb64-495f-d851-b5fbf94ae30d"
      },
      "execution_count": 32,
      "outputs": [
        {
          "output_type": "stream",
          "name": "stdout",
          "text": [
            "[datetime.date(2024, 10, 25) datetime.date(2024, 11, 3)\n",
            " datetime.date(2024, 10, 27) datetime.date(2024, 9, 25)\n",
            " datetime.date(2024, 8, 26)]\n"
          ]
        }
      ]
    },
    {
      "cell_type": "code",
      "source": [
        "len(df)"
      ],
      "metadata": {
        "colab": {
          "base_uri": "https://localhost:8080/"
        },
        "id": "_MgTHMs-TAbX",
        "outputId": "fe3c1df7-f65c-4219-8773-53ddb529f78d"
      },
      "execution_count": 33,
      "outputs": [
        {
          "output_type": "execute_result",
          "data": {
            "text/plain": [
              "43894"
            ]
          },
          "metadata": {},
          "execution_count": 33
        }
      ]
    },
    {
      "cell_type": "code",
      "source": [
        "print(df.head(5))"
      ],
      "metadata": {
        "colab": {
          "base_uri": "https://localhost:8080/"
        },
        "id": "FpOxWoRgTCsg",
        "outputId": "b55baef8-0557-4f94-c241-0c567879977e"
      },
      "execution_count": 34,
      "outputs": [
        {
          "output_type": "stream",
          "name": "stdout",
          "text": [
            "                                        video_url  \\\n",
            "149   https://www.youtube.com/watch?v=_v_4IgeVQ8M   \n",
            "3980  https://www.youtube.com/watch?v=81HpMyoXd0g   \n",
            "3981  https://www.youtube.com/watch?v=81HpMyoXd0g   \n",
            "3982  https://www.youtube.com/watch?v=81HpMyoXd0g   \n",
            "3987  https://www.youtube.com/watch?v=81HpMyoXd0g   \n",
            "\n",
            "                                            video_title   video_date  \\\n",
            "149                       Good Sense | Harris-Walz 2024  Nov 4, 2024   \n",
            "3980  A Day in Philadelphia with Kamala Harris | Har...  Nov 2, 2024   \n",
            "3981  A Day in Philadelphia with Kamala Harris | Har...  Nov 2, 2024   \n",
            "3982  A Day in Philadelphia with Kamala Harris | Har...  Nov 2, 2024   \n",
            "3987  A Day in Philadelphia with Kamala Harris | Har...  Nov 2, 2024   \n",
            "\n",
            "                                           comment_text comment_likes  \\\n",
            "149                             In the limelight again?             2   \n",
            "3980  Vote and bring friends, family or neighbors! F...            20   \n",
            "3981                               Lets win this ... !!            21   \n",
            "3982  WE MUST VOTE TO SAVE OUR COUNTRY= 2024 ??\\nOur...            38   \n",
            "3987  Kamala Harris was born to lead. She is the one...            47   \n",
            "\n",
            "     parsed_comment_date  \n",
            "149           2024-10-25  \n",
            "3980          2024-11-03  \n",
            "3981          2024-11-03  \n",
            "3982          2024-11-03  \n",
            "3987          2024-11-03  \n"
          ]
        }
      ]
    },
    {
      "cell_type": "code",
      "source": [
        "output_file_path = \"/content/drive/MyDrive/[인공지능기초]/sns/youtube/comment/harris_youtube_comment_filtered.jsonl\"\n",
        "df.to_json(output_file_path, orient='records', lines=True)"
      ],
      "metadata": {
        "id": "8vWjhfiVTRVh"
      },
      "execution_count": 35,
      "outputs": []
    },
    {
      "cell_type": "code",
      "source": [],
      "metadata": {
        "id": "iVC0Z5zeTcQQ"
      },
      "execution_count": null,
      "outputs": []
    }
  ],
  "metadata": {
    "colab": {
      "provenance": []
    },
    "kernelspec": {
      "display_name": "Python 3",
      "name": "python3"
    },
    "language_info": {
      "name": "python"
    }
  },
  "nbformat": 4,
  "nbformat_minor": 0
}