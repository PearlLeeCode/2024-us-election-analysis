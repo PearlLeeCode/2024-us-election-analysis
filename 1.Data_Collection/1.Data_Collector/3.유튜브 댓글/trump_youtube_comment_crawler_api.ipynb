{
  "nbformat": 4,
  "nbformat_minor": 0,
  "metadata": {
    "colab": {
      "provenance": []
    },
    "kernelspec": {
      "name": "python3",
      "display_name": "Python 3"
    },
    "language_info": {
      "name": "python"
    }
  },
  "cells": [
    {
      "cell_type": "code",
      "execution_count": 1,
      "metadata": {
        "id": "JSkG5mLkQKIB",
        "colab": {
          "base_uri": "https://localhost:8080/"
        },
        "outputId": "60a2ccc1-c81a-4424-da3f-c70bba1f8b5e"
      },
      "outputs": [
        {
          "output_type": "stream",
          "name": "stdout",
          "text": [
            "Mounted at /content/drive\n"
          ]
        }
      ],
      "source": [
        "from google.colab import drive\n",
        "drive.mount('/content/drive')"
      ]
    },
    {
      "cell_type": "code",
      "source": [
        "pip install google-api-python-client"
      ],
      "metadata": {
        "colab": {
          "base_uri": "https://localhost:8080/"
        },
        "id": "rXLEgaaeRoIv",
        "outputId": "26f30a11-7a74-4d85-c0a1-8ff44a4a83c4"
      },
      "execution_count": 2,
      "outputs": [
        {
          "output_type": "stream",
          "name": "stdout",
          "text": [
            "Requirement already satisfied: google-api-python-client in /usr/local/lib/python3.10/dist-packages (2.151.0)\n",
            "Requirement already satisfied: httplib2<1.dev0,>=0.19.0 in /usr/local/lib/python3.10/dist-packages (from google-api-python-client) (0.22.0)\n",
            "Requirement already satisfied: google-auth!=2.24.0,!=2.25.0,<3.0.0.dev0,>=1.32.0 in /usr/local/lib/python3.10/dist-packages (from google-api-python-client) (2.27.0)\n",
            "Requirement already satisfied: google-auth-httplib2<1.0.0,>=0.2.0 in /usr/local/lib/python3.10/dist-packages (from google-api-python-client) (0.2.0)\n",
            "Requirement already satisfied: google-api-core!=2.0.*,!=2.1.*,!=2.2.*,!=2.3.0,<3.0.0.dev0,>=1.31.5 in /usr/local/lib/python3.10/dist-packages (from google-api-python-client) (2.19.2)\n",
            "Requirement already satisfied: uritemplate<5,>=3.0.1 in /usr/local/lib/python3.10/dist-packages (from google-api-python-client) (4.1.1)\n",
            "Requirement already satisfied: googleapis-common-protos<2.0.dev0,>=1.56.2 in /usr/local/lib/python3.10/dist-packages (from google-api-core!=2.0.*,!=2.1.*,!=2.2.*,!=2.3.0,<3.0.0.dev0,>=1.31.5->google-api-python-client) (1.66.0)\n",
            "Requirement already satisfied: protobuf!=3.20.0,!=3.20.1,!=4.21.0,!=4.21.1,!=4.21.2,!=4.21.3,!=4.21.4,!=4.21.5,<6.0.0.dev0,>=3.19.5 in /usr/local/lib/python3.10/dist-packages (from google-api-core!=2.0.*,!=2.1.*,!=2.2.*,!=2.3.0,<3.0.0.dev0,>=1.31.5->google-api-python-client) (4.25.5)\n",
            "Requirement already satisfied: proto-plus<2.0.0dev,>=1.22.3 in /usr/local/lib/python3.10/dist-packages (from google-api-core!=2.0.*,!=2.1.*,!=2.2.*,!=2.3.0,<3.0.0.dev0,>=1.31.5->google-api-python-client) (1.25.0)\n",
            "Requirement already satisfied: requests<3.0.0.dev0,>=2.18.0 in /usr/local/lib/python3.10/dist-packages (from google-api-core!=2.0.*,!=2.1.*,!=2.2.*,!=2.3.0,<3.0.0.dev0,>=1.31.5->google-api-python-client) (2.32.3)\n",
            "Requirement already satisfied: cachetools<6.0,>=2.0.0 in /usr/local/lib/python3.10/dist-packages (from google-auth!=2.24.0,!=2.25.0,<3.0.0.dev0,>=1.32.0->google-api-python-client) (5.5.0)\n",
            "Requirement already satisfied: pyasn1-modules>=0.2.1 in /usr/local/lib/python3.10/dist-packages (from google-auth!=2.24.0,!=2.25.0,<3.0.0.dev0,>=1.32.0->google-api-python-client) (0.4.1)\n",
            "Requirement already satisfied: rsa<5,>=3.1.4 in /usr/local/lib/python3.10/dist-packages (from google-auth!=2.24.0,!=2.25.0,<3.0.0.dev0,>=1.32.0->google-api-python-client) (4.9)\n",
            "Requirement already satisfied: pyparsing!=3.0.0,!=3.0.1,!=3.0.2,!=3.0.3,<4,>=2.4.2 in /usr/local/lib/python3.10/dist-packages (from httplib2<1.dev0,>=0.19.0->google-api-python-client) (3.2.0)\n",
            "Requirement already satisfied: pyasn1<0.7.0,>=0.4.6 in /usr/local/lib/python3.10/dist-packages (from pyasn1-modules>=0.2.1->google-auth!=2.24.0,!=2.25.0,<3.0.0.dev0,>=1.32.0->google-api-python-client) (0.6.1)\n",
            "Requirement already satisfied: charset-normalizer<4,>=2 in /usr/local/lib/python3.10/dist-packages (from requests<3.0.0.dev0,>=2.18.0->google-api-core!=2.0.*,!=2.1.*,!=2.2.*,!=2.3.0,<3.0.0.dev0,>=1.31.5->google-api-python-client) (3.4.0)\n",
            "Requirement already satisfied: idna<4,>=2.5 in /usr/local/lib/python3.10/dist-packages (from requests<3.0.0.dev0,>=2.18.0->google-api-core!=2.0.*,!=2.1.*,!=2.2.*,!=2.3.0,<3.0.0.dev0,>=1.31.5->google-api-python-client) (3.10)\n",
            "Requirement already satisfied: urllib3<3,>=1.21.1 in /usr/local/lib/python3.10/dist-packages (from requests<3.0.0.dev0,>=2.18.0->google-api-core!=2.0.*,!=2.1.*,!=2.2.*,!=2.3.0,<3.0.0.dev0,>=1.31.5->google-api-python-client) (2.2.3)\n",
            "Requirement already satisfied: certifi>=2017.4.17 in /usr/local/lib/python3.10/dist-packages (from requests<3.0.0.dev0,>=2.18.0->google-api-core!=2.0.*,!=2.1.*,!=2.2.*,!=2.3.0,<3.0.0.dev0,>=1.31.5->google-api-python-client) (2024.8.30)\n"
          ]
        }
      ]
    },
    {
      "cell_type": "code",
      "source": [
        "import json\n",
        "import requests\n",
        "from datetime import datetime"
      ],
      "metadata": {
        "id": "bPH_K26DQk7v"
      },
      "execution_count": 3,
      "outputs": []
    },
    {
      "cell_type": "code",
      "source": [
        "# YouTube Data API 키 설정\n",
        "API_KEY = \"\""
      ],
      "metadata": {
        "id": "Vb4QGrX5Qk-N"
      },
      "execution_count": 21,
      "outputs": []
    },
    {
      "cell_type": "code",
      "source": [
        "# 수집할 기준 날짜 (UTC 기준으로 2024-11-05 이전)\n",
        "CUTOFF_DATE = datetime(2024, 11, 5, 0, 0, 0)"
      ],
      "metadata": {
        "id": "z4qbL-x3QlBD"
      },
      "execution_count": 10,
      "outputs": []
    },
    {
      "cell_type": "code",
      "source": [
        "# JSONL 출력 파일명\n",
        "OUTPUT_FILE = \"trump_comments_api.jsonl\""
      ],
      "metadata": {
        "id": "qa4FK7HrQlDt"
      },
      "execution_count": 11,
      "outputs": []
    },
    {
      "cell_type": "code",
      "source": [
        "# 수집할 JSON 파일 로드\n",
        "with open(\"/content/drive/MyDrive/[인공지능기초]/data/sns/youtube/api/trump/trump_youtube_url_title_date.json\", \"r\", encoding=\"utf-8\") as f:\n",
        "    videos = json.load(f)"
      ],
      "metadata": {
        "id": "tOT4PvSSQlHz"
      },
      "execution_count": 12,
      "outputs": []
    },
    {
      "cell_type": "code",
      "source": [
        "def extract_video_id(url):\n",
        "    # \"watch?v=\" 뒤의 값을 추출\n",
        "    # 예: https://www.youtube.com/watch?v=_v_4IgeVQ8M -> _v_4IgeVQ8M 추출\n",
        "    # url은 일반적으로 다음 형태: https://www.youtube.com/watch?v=<VIDEO_ID>\n",
        "    if \"watch?v=\" in url:\n",
        "        return url.split(\"watch?v=\")[1].split(\"&\")[0]\n",
        "    return None"
      ],
      "metadata": {
        "id": "PckPTjB7RCWx"
      },
      "execution_count": 13,
      "outputs": []
    },
    {
      "cell_type": "code",
      "source": [
        "def get_comments(video_id, api_key):\n",
        "    # commentThreads API를 통해 댓글 조회\n",
        "    # 하나의 요청으로 최대 100개 가져올 수 있으므로 페이지네이션 처리 필요\n",
        "    # publishedAt이 cutoff 이전인 것만 필터링\n",
        "    comments = []\n",
        "    url = \"https://www.googleapis.com/youtube/v3/commentThreads\"\n",
        "    params = {\n",
        "        \"part\": \"snippet\",\n",
        "        \"videoId\": video_id,\n",
        "        \"key\": api_key,\n",
        "        \"maxResults\": 100,\n",
        "        \"textFormat\": \"plainText\",\n",
        "        \"order\": \"time\"\n",
        "    }\n",
        "\n",
        "    while True:\n",
        "        r = requests.get(url, params=params)\n",
        "        if r.status_code != 200:\n",
        "            print(f\"Error fetching comments for video {video_id}: {r.text}\")\n",
        "            break\n",
        "\n",
        "        data = r.json()\n",
        "        items = data.get(\"items\", [])\n",
        "        if not items:\n",
        "            break\n",
        "\n",
        "        for item in items:\n",
        "            # 최상위 댓글\n",
        "            top_comment = item[\"snippet\"][\"topLevelComment\"][\"snippet\"]\n",
        "            published_at = top_comment[\"publishedAt\"]  # 예: \"2024-10-30T03:12:05Z\"\n",
        "            published_dt = datetime.strptime(published_at, \"%Y-%m-%dT%H:%M:%SZ\")\n",
        "\n",
        "            if published_dt < CUTOFF_DATE:\n",
        "                comments.append({\n",
        "                    \"video_id\": video_id,\n",
        "                    \"comment_id\": item[\"snippet\"][\"topLevelComment\"][\"id\"],\n",
        "                    \"authorDisplayName\": top_comment[\"authorDisplayName\"],\n",
        "                    \"textDisplay\": top_comment[\"textDisplay\"],\n",
        "                    \"publishedAt\": published_at,\n",
        "                    \"likeCount\": top_comment.get(\"likeCount\", 0)\n",
        "                })\n",
        "            else:\n",
        "                # 현재 정렬 순서가 time(최신순)이므로 여기서부터는 모두 cutoff 이후이므로 중단\n",
        "                # 하지만 명시적 보장을 위해 전체를 확인할 수도 있음.\n",
        "                # 일단 넘어가기로 한다.\n",
        "                pass\n",
        "\n",
        "        # 다음 페이지 토큰 처리\n",
        "        if \"nextPageToken\" in data:\n",
        "            params[\"pageToken\"] = data[\"nextPageToken\"]\n",
        "        else:\n",
        "            break\n",
        "\n",
        "    return comments\n"
      ],
      "metadata": {
        "id": "F0shBlAGRCZB"
      },
      "execution_count": 15,
      "outputs": []
    },
    {
      "cell_type": "code",
      "source": [
        "all_comments = []"
      ],
      "metadata": {
        "id": "BwrK47hXRCbo"
      },
      "execution_count": 16,
      "outputs": []
    },
    {
      "cell_type": "code",
      "source": [
        "print(\"총 영상 수:\", len(videos))"
      ],
      "metadata": {
        "colab": {
          "base_uri": "https://localhost:8080/"
        },
        "id": "J68xNmRXRCeM",
        "outputId": "c1feb474-037f-41e6-e31b-ca0110847348"
      },
      "execution_count": 17,
      "outputs": [
        {
          "output_type": "stream",
          "name": "stdout",
          "text": [
            "총 영상 수: 113\n"
          ]
        }
      ]
    },
    {
      "cell_type": "code",
      "source": [
        "for idx, video_info in enumerate(videos, start=1):\n",
        "    vid_id = extract_video_id(video_info[\"url\"])\n",
        "    if not vid_id:\n",
        "        print(f\"[{idx}/{len(videos)}] 영상 URL에서 ID를 추출할 수 없습니다: {video_info['url']}\")\n",
        "        continue\n",
        "\n",
        "    print(f\"[{idx}/{len(videos)}] 영상(ID: {vid_id}) 댓글 수집 중...\")\n",
        "    video_comments = get_comments(vid_id, API_KEY)\n",
        "    print(f\" -> 수집된 댓글 수: {len(video_comments)}\")\n",
        "    all_comments.extend(video_comments)"
      ],
      "metadata": {
        "colab": {
          "base_uri": "https://localhost:8080/"
        },
        "id": "sWtearQuRCgu",
        "outputId": "754ec7a1-fd97-433c-fc63-785ad0defc59"
      },
      "execution_count": 18,
      "outputs": [
        {
          "output_type": "stream",
          "name": "stdout",
          "text": [
            "[1/113] 영상(ID: knkdSsAlDhc) 댓글 수집 중...\n",
            " -> 수집된 댓글 수: 2284\n",
            "[2/113] 영상(ID: A3Wy6x3DohI) 댓글 수집 중...\n",
            " -> 수집된 댓글 수: 2907\n",
            "[3/113] 영상(ID: XSZS8idtKmI) 댓글 수집 중...\n",
            " -> 수집된 댓글 수: 5680\n",
            "[4/113] 영상(ID: uP08OUoVj0o) 댓글 수집 중...\n",
            " -> 수집된 댓글 수: 1223\n",
            "[5/113] 영상(ID: d608OHI_muM) 댓글 수집 중...\n",
            " -> 수집된 댓글 수: 900\n",
            "[6/113] 영상(ID: BGyVZePe7Ow) 댓글 수집 중...\n",
            " -> 수집된 댓글 수: 861\n",
            "[7/113] 영상(ID: z1Awk3PSIJo) 댓글 수집 중...\n",
            " -> 수집된 댓글 수: 1040\n",
            "[8/113] 영상(ID: ckXcyoOPP3A) 댓글 수집 중...\n",
            " -> 수집된 댓글 수: 861\n",
            "[9/113] 영상(ID: iHgU6hBorg0) 댓글 수집 중...\n",
            " -> 수집된 댓글 수: 960\n",
            "[10/113] 영상(ID: S71JUf4CwLA) 댓글 수집 중...\n",
            " -> 수집된 댓글 수: 2408\n",
            "[11/113] 영상(ID: AAEjxpm_J18) 댓글 수집 중...\n",
            " -> 수집된 댓글 수: 508\n",
            "[12/113] 영상(ID: T5W_Bzrv4Tk) 댓글 수집 중...\n",
            " -> 수집된 댓글 수: 748\n",
            "[13/113] 영상(ID: A46L7BumIjY) 댓글 수집 중...\n",
            " -> 수집된 댓글 수: 658\n",
            "[14/113] 영상(ID: i6Ge7ealpZk) 댓글 수집 중...\n",
            " -> 수집된 댓글 수: 1480\n",
            "[15/113] 영상(ID: _dPSxHInMko) 댓글 수집 중...\n",
            " -> 수집된 댓글 수: 1969\n",
            "[16/113] 영상(ID: Ipi5JpqkTfY) 댓글 수집 중...\n",
            " -> 수집된 댓글 수: 2009\n",
            "[17/113] 영상(ID: aeCxvtayMX4) 댓글 수집 중...\n",
            " -> 수집된 댓글 수: 1808\n",
            "[18/113] 영상(ID: 1QswT4pC0ao) 댓글 수집 중...\n",
            " -> 수집된 댓글 수: 2521\n",
            "[19/113] 영상(ID: aQb9tlDQ3hE) 댓글 수집 중...\n",
            " -> 수집된 댓글 수: 763\n",
            "[20/113] 영상(ID: IHeKMV1-6rI) 댓글 수집 중...\n",
            " -> 수집된 댓글 수: 1236\n",
            "[21/113] 영상(ID: n5LDxSrrI1k) 댓글 수집 중...\n",
            " -> 수집된 댓글 수: 479\n",
            "[22/113] 영상(ID: jqP3OrutGcg) 댓글 수집 중...\n",
            " -> 수집된 댓글 수: 1054\n",
            "[23/113] 영상(ID: AFcrA3EeVp4) 댓글 수집 중...\n",
            " -> 수집된 댓글 수: 1984\n",
            "[24/113] 영상(ID: kwbBxC8lIw8) 댓글 수집 중...\n",
            " -> 수집된 댓글 수: 724\n",
            "[25/113] 영상(ID: b0Vj9-eQl8Q) 댓글 수집 중...\n",
            " -> 수집된 댓글 수: 898\n",
            "[26/113] 영상(ID: okYJBEwE4ho) 댓글 수집 중...\n",
            " -> 수집된 댓글 수: 884\n",
            "[27/113] 영상(ID: _yAt7DPm7YQ) 댓글 수집 중...\n",
            " -> 수집된 댓글 수: 1653\n",
            "[28/113] 영상(ID: rC0rhy8rVeo) 댓글 수집 중...\n",
            " -> 수집된 댓글 수: 994\n",
            "[29/113] 영상(ID: FLY4cI77_FU) 댓글 수집 중...\n",
            " -> 수집된 댓글 수: 1198\n",
            "[30/113] 영상(ID: dcwpdPfQvJU) 댓글 수집 중...\n",
            " -> 수집된 댓글 수: 465\n",
            "[31/113] 영상(ID: yWYIk9tmuCQ) 댓글 수집 중...\n",
            " -> 수집된 댓글 수: 1070\n",
            "[32/113] 영상(ID: maEhujLw3_g) 댓글 수집 중...\n",
            " -> 수집된 댓글 수: 678\n",
            "[33/113] 영상(ID: nUw2aeNK2tw) 댓글 수집 중...\n",
            " -> 수집된 댓글 수: 3392\n",
            "[34/113] 영상(ID: ivGgBk9Qb7Y) 댓글 수집 중...\n",
            " -> 수집된 댓글 수: 1047\n",
            "[35/113] 영상(ID: aLC2XjW_Z08) 댓글 수집 중...\n",
            " -> 수집된 댓글 수: 15682\n",
            "[36/113] 영상(ID: 209dcOaClzQ) 댓글 수집 중...\n",
            " -> 수집된 댓글 수: 4023\n",
            "[37/113] 영상(ID: aJjsh9-U7HI) 댓글 수집 중...\n",
            " -> 수집된 댓글 수: 1424\n",
            "[38/113] 영상(ID: ek2tGSCWtFM) 댓글 수집 중...\n",
            " -> 수집된 댓글 수: 2446\n",
            "[39/113] 영상(ID: HlWT6nYZ4OU) 댓글 수집 중...\n",
            " -> 수집된 댓글 수: 2453\n",
            "[40/113] 영상(ID: x8hAFHB54gE) 댓글 수집 중...\n",
            " -> 수집된 댓글 수: 1546\n",
            "[41/113] 영상(ID: A7rp0YjcqwM) 댓글 수집 중...\n",
            " -> 수집된 댓글 수: 1149\n",
            "[42/113] 영상(ID: PRICVzZTDkg) 댓글 수집 중...\n",
            " -> 수집된 댓글 수: 477\n",
            "[43/113] 영상(ID: evvBpjFf_t4) 댓글 수집 중...\n",
            " -> 수집된 댓글 수: 629\n",
            "[44/113] 영상(ID: huVbwk3I8Y0) 댓글 수집 중...\n",
            " -> 수집된 댓글 수: 165\n",
            "[45/113] 영상(ID: a1UDFPa_mnk) 댓글 수집 중...\n",
            " -> 수집된 댓글 수: 313\n",
            "[46/113] 영상(ID: ppTEmtYFRs0) 댓글 수집 중...\n",
            " -> 수집된 댓글 수: 730\n",
            "[47/113] 영상(ID: LrQCFZHgQr0) 댓글 수집 중...\n",
            " -> 수집된 댓글 수: 4372\n",
            "[48/113] 영상(ID: kZ6Fq-eMJio) 댓글 수집 중...\n",
            " -> 수집된 댓글 수: 1023\n",
            "[49/113] 영상(ID: G6suxE2lA0M) 댓글 수집 중...\n",
            " -> 수집된 댓글 수: 1177\n",
            "[50/113] 영상(ID: BilYizY7-0c) 댓글 수집 중...\n",
            " -> 수집된 댓글 수: 3607\n",
            "[51/113] 영상(ID: VbQXthtjUPo) 댓글 수집 중...\n",
            " -> 수집된 댓글 수: 1730\n",
            "[52/113] 영상(ID: rnWx6znh9PQ) 댓글 수집 중...\n",
            " -> 수집된 댓글 수: 777\n",
            "[53/113] 영상(ID: 7a6rrBlzjTI) 댓글 수집 중...\n",
            " -> 수집된 댓글 수: 768\n",
            "[54/113] 영상(ID: _Mn3o1Pgi5c) 댓글 수집 중...\n",
            " -> 수집된 댓글 수: 1077\n",
            "[55/113] 영상(ID: vfcWO0Mi8fo) 댓글 수집 중...\n",
            " -> 수집된 댓글 수: 783\n",
            "[56/113] 영상(ID: D6fyGDA61Hs) 댓글 수집 중...\n",
            " -> 수집된 댓글 수: 1024\n",
            "[57/113] 영상(ID: n7lwIaw8xVM) 댓글 수집 중...\n",
            " -> 수집된 댓글 수: 1190\n",
            "[58/113] 영상(ID: pe9u10E-uZg) 댓글 수집 중...\n",
            " -> 수집된 댓글 수: 760\n",
            "[59/113] 영상(ID: z50jzYUCj_Q) 댓글 수집 중...\n",
            " -> 수집된 댓글 수: 506\n",
            "[60/113] 영상(ID: _vHL853Ciy8) 댓글 수집 중...\n",
            " -> 수집된 댓글 수: 952\n",
            "[61/113] 영상(ID: bh7yy1wYBNw) 댓글 수집 중...\n",
            " -> 수집된 댓글 수: 1655\n",
            "[62/113] 영상(ID: stU88CSenBM) 댓글 수집 중...\n",
            " -> 수집된 댓글 수: 1278\n",
            "[63/113] 영상(ID: EerTs1z5qKc) 댓글 수집 중...\n",
            " -> 수집된 댓글 수: 1055\n",
            "[64/113] 영상(ID: XYDRWu0Dvj0) 댓글 수집 중...\n",
            " -> 수집된 댓글 수: 1464\n",
            "[65/113] 영상(ID: 5OVOSIQOfpM) 댓글 수집 중...\n",
            " -> 수집된 댓글 수: 4096\n",
            "[66/113] 영상(ID: zDp24JwcyDI) 댓글 수집 중...\n",
            " -> 수집된 댓글 수: 4031\n",
            "[67/113] 영상(ID: 92Gx6NAZPsM) 댓글 수집 중...\n",
            " -> 수집된 댓글 수: 513\n",
            "[68/113] 영상(ID: pi0opLmCXmc) 댓글 수집 중...\n",
            " -> 수집된 댓글 수: 460\n",
            "[69/113] 영상(ID: x7VNr_3i_9w) 댓글 수집 중...\n",
            " -> 수집된 댓글 수: 365\n",
            "[70/113] 영상(ID: mk_YQ6SnM6Q) 댓글 수집 중...\n",
            " -> 수집된 댓글 수: 1871\n",
            "[71/113] 영상(ID: JeP9LtKq_3A) 댓글 수집 중...\n",
            " -> 수집된 댓글 수: 1324\n",
            "[72/113] 영상(ID: dsW-16JKhWE) 댓글 수집 중...\n",
            " -> 수집된 댓글 수: 1520\n",
            "[73/113] 영상(ID: U3EYJv35Tz0) 댓글 수집 중...\n",
            " -> 수집된 댓글 수: 517\n",
            "[74/113] 영상(ID: A1b1FKaojoM) 댓글 수집 중...\n",
            " -> 수집된 댓글 수: 375\n",
            "[75/113] 영상(ID: qqJ26b83PEU) 댓글 수집 중...\n",
            " -> 수집된 댓글 수: 756\n",
            "[76/113] 영상(ID: sl2KiO9cPv8) 댓글 수집 중...\n",
            " -> 수집된 댓글 수: 690\n",
            "[77/113] 영상(ID: OWPoE3mf4VA) 댓글 수집 중...\n",
            " -> 수집된 댓글 수: 1896\n",
            "[78/113] 영상(ID: tNGBB52inSk) 댓글 수집 중...\n",
            " -> 수집된 댓글 수: 9256\n",
            "[79/113] 영상(ID: OrveuS6P7T4) 댓글 수집 중...\n",
            " -> 수집된 댓글 수: 909\n",
            "[80/113] 영상(ID: hnjo7H7xipc) 댓글 수집 중...\n",
            " -> 수집된 댓글 수: 758\n",
            "[81/113] 영상(ID: 0zabPAbtZ9A) 댓글 수집 중...\n",
            " -> 수집된 댓글 수: 4787\n",
            "[82/113] 영상(ID: 7QbzKhQ4Z8k) 댓글 수집 중...\n",
            " -> 수집된 댓글 수: 671\n",
            "[83/113] 영상(ID: yeE2D71KwiQ) 댓글 수집 중...\n",
            " -> 수집된 댓글 수: 980\n",
            "[84/113] 영상(ID: MsYxjlIjxuo) 댓글 수집 중...\n",
            " -> 수집된 댓글 수: 622\n",
            "[85/113] 영상(ID: 0l46PUAQu90) 댓글 수집 중...\n",
            " -> 수집된 댓글 수: 2897\n",
            "[86/113] 영상(ID: NV62aJFT0EA) 댓글 수집 중...\n",
            " -> 수집된 댓글 수: 691\n",
            "[87/113] 영상(ID: dWrWGoTOZ34) 댓글 수집 중...\n",
            " -> 수집된 댓글 수: 1440\n",
            "[88/113] 영상(ID: BEd_LhA_FW0) 댓글 수집 중...\n",
            " -> 수집된 댓글 수: 2787\n",
            "[89/113] 영상(ID: eogqB6779Eg) 댓글 수집 중...\n",
            " -> 수집된 댓글 수: 1207\n",
            "[90/113] 영상(ID: PLjhQ2gDfk4) 댓글 수집 중...\n",
            " -> 수집된 댓글 수: 2171\n",
            "[91/113] 영상(ID: b81bXmg6JAc) 댓글 수집 중...\n",
            " -> 수집된 댓글 수: 1263\n",
            "[92/113] 영상(ID: UTR_qkBI3VY) 댓글 수집 중...\n",
            " -> 수집된 댓글 수: 5416\n",
            "[93/113] 영상(ID: oZa5WIPGR-A) 댓글 수집 중...\n",
            " -> 수집된 댓글 수: 2797\n",
            "[94/113] 영상(ID: TczYVTAlwgw) 댓글 수집 중...\n",
            " -> 수집된 댓글 수: 1202\n",
            "[95/113] 영상(ID: cBa31Q6nQus) 댓글 수집 중...\n",
            " -> 수집된 댓글 수: 1825\n",
            "[96/113] 영상(ID: DgZNvUrpYM4) 댓글 수집 중...\n",
            " -> 수집된 댓글 수: 2400\n",
            "[97/113] 영상(ID: fyv2_trt8c0) 댓글 수집 중...\n",
            " -> 수집된 댓글 수: 1636\n",
            "[98/113] 영상(ID: ZbUfGKqt4u4) 댓글 수집 중...\n",
            " -> 수집된 댓글 수: 1241\n",
            "[99/113] 영상(ID: YdOwha5dbKM) 댓글 수집 중...\n",
            " -> 수집된 댓글 수: 1023\n",
            "[100/113] 영상(ID: XwXE23NKXgU) 댓글 수집 중...\n",
            " -> 수집된 댓글 수: 932\n",
            "[101/113] 영상(ID: kbD8RzF1HpQ) 댓글 수집 중...\n",
            " -> 수집된 댓글 수: 2946\n",
            "[102/113] 영상(ID: Jm8bMfQEIps) 댓글 수집 중...\n",
            " -> 수집된 댓글 수: 1603\n",
            "[103/113] 영상(ID: QzWjFzRMQNA) 댓글 수집 중...\n",
            " -> 수집된 댓글 수: 13746\n",
            "[104/113] 영상(ID: E_KLBGbuufw) 댓글 수집 중...\n",
            " -> 수집된 댓글 수: 5996\n",
            "[105/113] 영상(ID: ads5eekhHXg) 댓글 수집 중...\n",
            " -> 수집된 댓글 수: 2543\n",
            "[106/113] 영상(ID: Esw_4g1efZY) 댓글 수집 중...\n",
            " -> 수집된 댓글 수: 2179\n",
            "[107/113] 영상(ID: 293rHiqejk8) 댓글 수집 중...\n",
            " -> 수집된 댓글 수: 1783\n",
            "[108/113] 영상(ID: wt1IYMb3dLE) 댓글 수집 중...\n",
            " -> 수집된 댓글 수: 1689\n",
            "[109/113] 영상(ID: olRj4cE_aW8) 댓글 수집 중...\n",
            " -> 수집된 댓글 수: 2956\n",
            "[110/113] 영상(ID: speJ-hLqZ-M) 댓글 수집 중...\n",
            " -> 수집된 댓글 수: 2546\n",
            "[111/113] 영상(ID: YUavP949ZKU) 댓글 수집 중...\n",
            " -> 수집된 댓글 수: 3185\n",
            "[112/113] 영상(ID: c9_WHRFLDsM) 댓글 수집 중...\n",
            " -> 수집된 댓글 수: 3469\n",
            "[113/113] 영상(ID: 0RLhu9Ngchc) 댓글 수집 중...\n",
            " -> 수집된 댓글 수: 6033\n"
          ]
        }
      ]
    },
    {
      "cell_type": "code",
      "source": [
        "print(f\"총 수집된 댓글 수: {len(all_comments)}\")"
      ],
      "metadata": {
        "colab": {
          "base_uri": "https://localhost:8080/"
        },
        "id": "PFuTVdtWRCjV",
        "outputId": "a3efcb77-c152-404f-f5f4-5fe23864fda8"
      },
      "execution_count": 19,
      "outputs": [
        {
          "output_type": "stream",
          "name": "stdout",
          "text": [
            "총 수집된 댓글 수: 223578\n"
          ]
        }
      ]
    },
    {
      "cell_type": "code",
      "source": [
        "# jsonl로 저장\n",
        "print(\"jsonl 파일로 저장 중...\")\n",
        "with open(OUTPUT_FILE, \"w\", encoding=\"utf-8\") as f:\n",
        "    for comment in all_comments:\n",
        "        f.write(json.dumps(comment, ensure_ascii=False) + \"\\n\")\n",
        "\n",
        "print(\"저장 완료:\", OUTPUT_FILE)"
      ],
      "metadata": {
        "colab": {
          "base_uri": "https://localhost:8080/"
        },
        "id": "yVwwlpHMRCl7",
        "outputId": "d60b4c16-d765-488f-b6ba-9f0540241aca"
      },
      "execution_count": 20,
      "outputs": [
        {
          "output_type": "stream",
          "name": "stdout",
          "text": [
            "jsonl 파일로 저장 중...\n",
            "저장 완료: trump_comments_api.jsonl\n"
          ]
        }
      ]
    },
    {
      "cell_type": "code",
      "source": [],
      "metadata": {
        "id": "OhTk9KwsRCrG"
      },
      "execution_count": null,
      "outputs": []
    }
  ]
}