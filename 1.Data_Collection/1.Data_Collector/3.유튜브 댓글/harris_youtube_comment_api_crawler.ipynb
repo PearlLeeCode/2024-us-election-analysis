{
  "nbformat": 4,
  "nbformat_minor": 0,
  "metadata": {
    "colab": {
      "provenance": []
    },
    "kernelspec": {
      "name": "python3",
      "display_name": "Python 3"
    },
    "language_info": {
      "name": "python"
    }
  },
  "cells": [
    {
      "cell_type": "code",
      "execution_count": null,
      "metadata": {
        "id": "JSkG5mLkQKIB"
      },
      "outputs": [],
      "source": [
        "from google.colab import drive\n",
        "drive.mount('/content/drive')"
      ]
    },
    {
      "cell_type": "code",
      "source": [
        "pip install google-api-python-client"
      ],
      "metadata": {
        "colab": {
          "base_uri": "https://localhost:8080/"
        },
        "id": "rXLEgaaeRoIv",
        "outputId": "e7f29cab-9349-401d-9f97-be2d31967b5f"
      },
      "execution_count": 7,
      "outputs": [
        {
          "output_type": "stream",
          "name": "stdout",
          "text": [
            "Requirement already satisfied: google-api-python-client in /usr/local/lib/python3.10/dist-packages (2.151.0)\n",
            "Requirement already satisfied: httplib2<1.dev0,>=0.19.0 in /usr/local/lib/python3.10/dist-packages (from google-api-python-client) (0.22.0)\n",
            "Requirement already satisfied: google-auth!=2.24.0,!=2.25.0,<3.0.0.dev0,>=1.32.0 in /usr/local/lib/python3.10/dist-packages (from google-api-python-client) (2.27.0)\n",
            "Requirement already satisfied: google-auth-httplib2<1.0.0,>=0.2.0 in /usr/local/lib/python3.10/dist-packages (from google-api-python-client) (0.2.0)\n",
            "Requirement already satisfied: google-api-core!=2.0.*,!=2.1.*,!=2.2.*,!=2.3.0,<3.0.0.dev0,>=1.31.5 in /usr/local/lib/python3.10/dist-packages (from google-api-python-client) (2.19.2)\n",
            "Requirement already satisfied: uritemplate<5,>=3.0.1 in /usr/local/lib/python3.10/dist-packages (from google-api-python-client) (4.1.1)\n",
            "Requirement already satisfied: googleapis-common-protos<2.0.dev0,>=1.56.2 in /usr/local/lib/python3.10/dist-packages (from google-api-core!=2.0.*,!=2.1.*,!=2.2.*,!=2.3.0,<3.0.0.dev0,>=1.31.5->google-api-python-client) (1.66.0)\n",
            "Requirement already satisfied: protobuf!=3.20.0,!=3.20.1,!=4.21.0,!=4.21.1,!=4.21.2,!=4.21.3,!=4.21.4,!=4.21.5,<6.0.0.dev0,>=3.19.5 in /usr/local/lib/python3.10/dist-packages (from google-api-core!=2.0.*,!=2.1.*,!=2.2.*,!=2.3.0,<3.0.0.dev0,>=1.31.5->google-api-python-client) (4.25.5)\n",
            "Requirement already satisfied: proto-plus<2.0.0dev,>=1.22.3 in /usr/local/lib/python3.10/dist-packages (from google-api-core!=2.0.*,!=2.1.*,!=2.2.*,!=2.3.0,<3.0.0.dev0,>=1.31.5->google-api-python-client) (1.25.0)\n",
            "Requirement already satisfied: requests<3.0.0.dev0,>=2.18.0 in /usr/local/lib/python3.10/dist-packages (from google-api-core!=2.0.*,!=2.1.*,!=2.2.*,!=2.3.0,<3.0.0.dev0,>=1.31.5->google-api-python-client) (2.32.3)\n",
            "Requirement already satisfied: cachetools<6.0,>=2.0.0 in /usr/local/lib/python3.10/dist-packages (from google-auth!=2.24.0,!=2.25.0,<3.0.0.dev0,>=1.32.0->google-api-python-client) (5.5.0)\n",
            "Requirement already satisfied: pyasn1-modules>=0.2.1 in /usr/local/lib/python3.10/dist-packages (from google-auth!=2.24.0,!=2.25.0,<3.0.0.dev0,>=1.32.0->google-api-python-client) (0.4.1)\n",
            "Requirement already satisfied: rsa<5,>=3.1.4 in /usr/local/lib/python3.10/dist-packages (from google-auth!=2.24.0,!=2.25.0,<3.0.0.dev0,>=1.32.0->google-api-python-client) (4.9)\n",
            "Requirement already satisfied: pyparsing!=3.0.0,!=3.0.1,!=3.0.2,!=3.0.3,<4,>=2.4.2 in /usr/local/lib/python3.10/dist-packages (from httplib2<1.dev0,>=0.19.0->google-api-python-client) (3.2.0)\n",
            "Requirement already satisfied: pyasn1<0.7.0,>=0.4.6 in /usr/local/lib/python3.10/dist-packages (from pyasn1-modules>=0.2.1->google-auth!=2.24.0,!=2.25.0,<3.0.0.dev0,>=1.32.0->google-api-python-client) (0.6.1)\n",
            "Requirement already satisfied: charset-normalizer<4,>=2 in /usr/local/lib/python3.10/dist-packages (from requests<3.0.0.dev0,>=2.18.0->google-api-core!=2.0.*,!=2.1.*,!=2.2.*,!=2.3.0,<3.0.0.dev0,>=1.31.5->google-api-python-client) (3.4.0)\n",
            "Requirement already satisfied: idna<4,>=2.5 in /usr/local/lib/python3.10/dist-packages (from requests<3.0.0.dev0,>=2.18.0->google-api-core!=2.0.*,!=2.1.*,!=2.2.*,!=2.3.0,<3.0.0.dev0,>=1.31.5->google-api-python-client) (3.10)\n",
            "Requirement already satisfied: urllib3<3,>=1.21.1 in /usr/local/lib/python3.10/dist-packages (from requests<3.0.0.dev0,>=2.18.0->google-api-core!=2.0.*,!=2.1.*,!=2.2.*,!=2.3.0,<3.0.0.dev0,>=1.31.5->google-api-python-client) (2.2.3)\n",
            "Requirement already satisfied: certifi>=2017.4.17 in /usr/local/lib/python3.10/dist-packages (from requests<3.0.0.dev0,>=2.18.0->google-api-core!=2.0.*,!=2.1.*,!=2.2.*,!=2.3.0,<3.0.0.dev0,>=1.31.5->google-api-python-client) (2024.8.30)\n"
          ]
        }
      ]
    },
    {
      "cell_type": "code",
      "source": [
        "import json\n",
        "import requests\n",
        "from datetime import datetime"
      ],
      "metadata": {
        "id": "bPH_K26DQk7v"
      },
      "execution_count": 8,
      "outputs": []
    },
    {
      "cell_type": "code",
      "source": [
        "# YouTube Data API 키 설정\n",
        "API_KEY = \"\""
      ],
      "metadata": {
        "id": "Vb4QGrX5Qk-N"
      },
      "execution_count": 29,
      "outputs": []
    },
    {
      "cell_type": "code",
      "source": [
        "# 수집할 기준 날짜 (UTC 기준으로 2024-11-05 이전)\n",
        "CUTOFF_DATE = datetime(2024, 11, 5, 0, 0, 0)"
      ],
      "metadata": {
        "id": "z4qbL-x3QlBD"
      },
      "execution_count": 18,
      "outputs": []
    },
    {
      "cell_type": "code",
      "source": [
        "# JSONL 출력 파일명\n",
        "OUTPUT_FILE = \"harris_comments_api.jsonl\""
      ],
      "metadata": {
        "id": "qa4FK7HrQlDt"
      },
      "execution_count": 19,
      "outputs": []
    },
    {
      "cell_type": "code",
      "source": [
        "# 수집할 JSON 파일 로드\n",
        "with open(\"/content/drive/MyDrive/[인공지능기초]/data/sns/youtube/api/harris/harris_youtube_url_title_date.json\", \"r\", encoding=\"utf-8\") as f:\n",
        "    videos = json.load(f)"
      ],
      "metadata": {
        "id": "tOT4PvSSQlHz"
      },
      "execution_count": 20,
      "outputs": []
    },
    {
      "cell_type": "code",
      "source": [
        "def extract_video_id(url):\n",
        "    # \"watch?v=\" 뒤의 값을 추출\n",
        "    # 예: https://www.youtube.com/watch?v=_v_4IgeVQ8M -> _v_4IgeVQ8M 추출\n",
        "    # url은 일반적으로 다음 형태: https://www.youtube.com/watch?v=<VIDEO_ID>\n",
        "    if \"watch?v=\" in url:\n",
        "        return url.split(\"watch?v=\")[1].split(\"&\")[0]\n",
        "    return None"
      ],
      "metadata": {
        "id": "PckPTjB7RCWx"
      },
      "execution_count": 21,
      "outputs": []
    },
    {
      "cell_type": "code",
      "source": [
        "def get_comments(video_id, api_key):\n",
        "    # commentThreads API를 통해 댓글 조회\n",
        "    # 하나의 요청으로 최대 100개 가져올 수 있으므로 페이지네이션 처리 필요\n",
        "    # publishedAt이 cutoff 이전인 것만 필터링\n",
        "    comments = []\n",
        "    url = \"https://www.googleapis.com/youtube/v3/commentThreads\"\n",
        "    params = {\n",
        "        \"part\": \"snippet\",\n",
        "        \"videoId\": video_id,\n",
        "        \"key\": api_key,\n",
        "        \"maxResults\": 100,\n",
        "        \"textFormat\": \"plainText\",\n",
        "        \"order\": \"time\"\n",
        "    }\n",
        "\n",
        "    while True:\n",
        "        r = requests.get(url, params=params)\n",
        "        if r.status_code != 200:\n",
        "            print(f\"Error fetching comments for video {video_id}: {r.text}\")\n",
        "            break\n",
        "\n",
        "        data = r.json()\n",
        "        items = data.get(\"items\", [])\n",
        "        if not items:\n",
        "            break\n",
        "\n",
        "        for item in items:\n",
        "            # 최상위 댓글\n",
        "            top_comment = item[\"snippet\"][\"topLevelComment\"][\"snippet\"]\n",
        "            published_at = top_comment[\"publishedAt\"]  # 예: \"2024-10-30T03:12:05Z\"\n",
        "            published_dt = datetime.strptime(published_at, \"%Y-%m-%dT%H:%M:%SZ\")\n",
        "\n",
        "            if published_dt < CUTOFF_DATE:\n",
        "                comments.append({\n",
        "                    \"video_id\": video_id,\n",
        "                    \"comment_id\": item[\"snippet\"][\"topLevelComment\"][\"id\"],\n",
        "                    \"authorDisplayName\": top_comment[\"authorDisplayName\"],\n",
        "                    \"textDisplay\": top_comment[\"textDisplay\"],\n",
        "                    \"publishedAt\": published_at,\n",
        "                    \"likeCount\": top_comment.get(\"likeCount\", 0)\n",
        "                })\n",
        "            else:\n",
        "                # 현재 정렬 순서가 time(최신순)라면 여기서부터는 모두 cutoff 이후이므로 중단\n",
        "                # 하지만 명시적 보장을 위해 전체를 확인할 수도 있음.\n",
        "                # 일단 넘어가기로 한다.\n",
        "                pass\n",
        "\n",
        "        # 다음 페이지 토큰 처리\n",
        "        if \"nextPageToken\" in data:\n",
        "            params[\"pageToken\"] = data[\"nextPageToken\"]\n",
        "        else:\n",
        "            break\n",
        "\n",
        "    return comments\n"
      ],
      "metadata": {
        "id": "F0shBlAGRCZB"
      },
      "execution_count": 22,
      "outputs": []
    },
    {
      "cell_type": "code",
      "source": [
        "all_comments = []"
      ],
      "metadata": {
        "id": "BwrK47hXRCbo"
      },
      "execution_count": 23,
      "outputs": []
    },
    {
      "cell_type": "code",
      "source": [
        "print(\"총 영상 수:\", len(videos))"
      ],
      "metadata": {
        "colab": {
          "base_uri": "https://localhost:8080/"
        },
        "id": "J68xNmRXRCeM",
        "outputId": "4bcabe7b-5d16-4c4f-acad-db44301e5209"
      },
      "execution_count": 24,
      "outputs": [
        {
          "output_type": "stream",
          "name": "stdout",
          "text": [
            "총 영상 수: 126\n"
          ]
        }
      ]
    },
    {
      "cell_type": "code",
      "source": [
        "for idx, video_info in enumerate(videos, start=1):\n",
        "    vid_id = extract_video_id(video_info[\"url\"])\n",
        "    if not vid_id:\n",
        "        print(f\"[{idx}/{len(videos)}] 영상 URL에서 ID를 추출할 수 없습니다: {video_info['url']}\")\n",
        "        continue\n",
        "\n",
        "    print(f\"[{idx}/{len(videos)}] 영상(ID: {vid_id}) 댓글 수집 중...\")\n",
        "    video_comments = get_comments(vid_id, API_KEY)\n",
        "    print(f\" -> 수집된 댓글 수: {len(video_comments)}\")\n",
        "    all_comments.extend(video_comments)"
      ],
      "metadata": {
        "colab": {
          "base_uri": "https://localhost:8080/"
        },
        "id": "sWtearQuRCgu",
        "outputId": "62475c4c-1e3c-4e3e-e017-508381c38e4e"
      },
      "execution_count": 25,
      "outputs": [
        {
          "output_type": "stream",
          "name": "stdout",
          "text": [
            "[1/126] 영상(ID: _v_4IgeVQ8M) 댓글 수집 중...\n",
            " -> 수집된 댓글 수: 142\n",
            "[2/126] 영상(ID: t9suRUZGIdg) 댓글 수집 중...\n",
            " -> 수집된 댓글 수: 157\n",
            "[3/126] 영상(ID: OwFWgewAAXc) 댓글 수집 중...\n",
            " -> 수집된 댓글 수: 76\n",
            "[4/126] 영상(ID: Cb0AothNHiw) 댓글 수집 중...\n",
            " -> 수집된 댓글 수: 181\n",
            "[5/126] 영상(ID: oU9IVXyGBYI) 댓글 수집 중...\n",
            " -> 수집된 댓글 수: 655\n",
            "[6/126] 영상(ID: ShwoUTax4B0) 댓글 수집 중...\n",
            " -> 수집된 댓글 수: 217\n",
            "[7/126] 영상(ID: icMONoEE61M) 댓글 수집 중...\n",
            " -> 수집된 댓글 수: 277\n",
            "[8/126] 영상(ID: Wo7KwWIg-7o) 댓글 수집 중...\n",
            " -> 수집된 댓글 수: 935\n",
            "[9/126] 영상(ID: U6bv6jYEVAs) 댓글 수집 중...\n",
            " -> 수집된 댓글 수: 1105\n",
            "[10/126] 영상(ID: 81HpMyoXd0g) 댓글 수집 중...\n",
            " -> 수집된 댓글 수: 274\n",
            "[11/126] 영상(ID: -XINcrcvrMU) 댓글 수집 중...\n",
            " -> 수집된 댓글 수: 1929\n",
            "[12/126] 영상(ID: gL0IFZk44hM) 댓글 수집 중...\n",
            " -> 수집된 댓글 수: 172\n",
            "[13/126] 영상(ID: 9W826GfFwak) 댓글 수집 중...\n",
            " -> 수집된 댓글 수: 2932\n",
            "[14/126] 영상(ID: pWdwTgxGl_U) 댓글 수집 중...\n",
            " -> 수집된 댓글 수: 1228\n",
            "[15/126] 영상(ID: kBqPu-FetF4) 댓글 수집 중...\n",
            " -> 수집된 댓글 수: 361\n",
            "[16/126] 영상(ID: 3_Z7ucCx2_w) 댓글 수집 중...\n",
            " -> 수집된 댓글 수: 378\n",
            "[17/126] 영상(ID: GRtF4lwBTgQ) 댓글 수집 중...\n",
            " -> 수집된 댓글 수: 200\n",
            "[18/126] 영상(ID: zGrPO3-hDk4) 댓글 수집 중...\n",
            " -> 수집된 댓글 수: 451\n",
            "[19/126] 영상(ID: Z5t7EmrrGs4) 댓글 수집 중...\n",
            " -> 수집된 댓글 수: 2475\n",
            "[20/126] 영상(ID: iLt1k2_iv4Y) 댓글 수집 중...\n",
            " -> 수집된 댓글 수: 413\n",
            "[21/126] 영상(ID: zAiJEQE-7e0) 댓글 수집 중...\n",
            " -> 수집된 댓글 수: 483\n",
            "[22/126] 영상(ID: Mt-y2_Q1EkU) 댓글 수집 중...\n",
            " -> 수집된 댓글 수: 622\n",
            "[23/126] 영상(ID: MsYCHXWH6M8) 댓글 수집 중...\n",
            " -> 수집된 댓글 수: 261\n",
            "[24/126] 영상(ID: JIIjoNOvWh0) 댓글 수집 중...\n",
            " -> 수집된 댓글 수: 104\n",
            "[25/126] 영상(ID: npxb6vytkZg) 댓글 수집 중...\n",
            " -> 수집된 댓글 수: 259\n",
            "[26/126] 영상(ID: wRv2fIx7-II) 댓글 수집 중...\n",
            " -> 수집된 댓글 수: 1140\n",
            "[27/126] 영상(ID: rXPxO0EKykA) 댓글 수집 중...\n",
            " -> 수집된 댓글 수: 518\n",
            "[28/126] 영상(ID: 7aBzFcXwA1g) 댓글 수집 중...\n",
            " -> 수집된 댓글 수: 1016\n",
            "[29/126] 영상(ID: OYj7L64s4p4) 댓글 수집 중...\n",
            " -> 수집된 댓글 수: 342\n",
            "[30/126] 영상(ID: idLESS8r_AY) 댓글 수집 중...\n",
            " -> 수집된 댓글 수: 585\n",
            "[31/126] 영상(ID: aL3uJqSBIxo) 댓글 수집 중...\n",
            " -> 수집된 댓글 수: 1236\n",
            "[32/126] 영상(ID: XP3QSD_kHQE) 댓글 수집 중...\n",
            " -> 수집된 댓글 수: 749\n",
            "[33/126] 영상(ID: 0h_jeS3xBk0) 댓글 수집 중...\n",
            " -> 수집된 댓글 수: 376\n",
            "[34/126] 영상(ID: 0_K1nmJ7wU8) 댓글 수집 중...\n",
            " -> 수집된 댓글 수: 217\n",
            "[35/126] 영상(ID: yH636h_XR4c) 댓글 수집 중...\n",
            " -> 수집된 댓글 수: 269\n",
            "[36/126] 영상(ID: 7oz36l2neKE) 댓글 수집 중...\n",
            " -> 수집된 댓글 수: 379\n",
            "[37/126] 영상(ID: vQo4nVPcTg4) 댓글 수집 중...\n",
            " -> 수집된 댓글 수: 441\n",
            "[38/126] 영상(ID: MPcc9m7jFPc) 댓글 수집 중...\n",
            " -> 수집된 댓글 수: 428\n",
            "[39/126] 영상(ID: eRQQuLKcNt0) 댓글 수집 중...\n",
            " -> 수집된 댓글 수: 2218\n",
            "[40/126] 영상(ID: VkcwpTFAhQg) 댓글 수집 중...\n",
            " -> 수집된 댓글 수: 269\n",
            "[41/126] 영상(ID: 1JBCiz4jJeA) 댓글 수집 중...\n",
            " -> 수집된 댓글 수: 77\n",
            "[42/126] 영상(ID: WGCVxgcxJRo) 댓글 수집 중...\n",
            " -> 수집된 댓글 수: 229\n",
            "[43/126] 영상(ID: 4zNmmiYjDgQ) 댓글 수집 중...\n",
            " -> 수집된 댓글 수: 310\n",
            "[44/126] 영상(ID: umKCFu7eL0k) 댓글 수집 중...\n",
            " -> 수집된 댓글 수: 154\n",
            "[45/126] 영상(ID: lYJCud8JcgY) 댓글 수집 중...\n",
            " -> 수집된 댓글 수: 257\n",
            "[46/126] 영상(ID: N_z2baFHtmQ) 댓글 수집 중...\n",
            " -> 수집된 댓글 수: 256\n",
            "[47/126] 영상(ID: kKHpV17hYQ8) 댓글 수집 중...\n",
            " -> 수집된 댓글 수: 384\n",
            "[48/126] 영상(ID: 0fT98PV3Bm0) 댓글 수집 중...\n",
            " -> 수집된 댓글 수: 941\n",
            "[49/126] 영상(ID: aU0pw_wLiJw) 댓글 수집 중...\n",
            " -> 수집된 댓글 수: 395\n",
            "[50/126] 영상(ID: lpZn2MjbdRw) 댓글 수집 중...\n",
            " -> 수집된 댓글 수: 819\n",
            "[51/126] 영상(ID: FKxSTAhUjDE) 댓글 수집 중...\n",
            " -> 수집된 댓글 수: 698\n",
            "[52/126] 영상(ID: QyKKzOygtfk) 댓글 수집 중...\n",
            " -> 수집된 댓글 수: 254\n",
            "[53/126] 영상(ID: fWEm-Jr212M) 댓글 수집 중...\n",
            " -> 수집된 댓글 수: 1467\n",
            "[54/126] 영상(ID: -Kwbd-Duzmg) 댓글 수집 중...\n",
            " -> 수집된 댓글 수: 244\n",
            "[55/126] 영상(ID: MEcdRWHiU_Y) 댓글 수집 중...\n",
            " -> 수집된 댓글 수: 186\n",
            "[56/126] 영상(ID: jujCV86WEPE) 댓글 수집 중...\n",
            " -> 수집된 댓글 수: 2099\n",
            "[57/126] 영상(ID: ZXcW9GJlAJM) 댓글 수집 중...\n",
            " -> 수집된 댓글 수: 260\n",
            "[58/126] 영상(ID: gZ1tu_mx3qk) 댓글 수집 중...\n",
            " -> 수집된 댓글 수: 260\n",
            "[59/126] 영상(ID: LhEjYoezUbU) 댓글 수집 중...\n",
            " -> 수집된 댓글 수: 297\n",
            "[60/126] 영상(ID: _zpkuocRLHQ) 댓글 수집 중...\n",
            " -> 수집된 댓글 수: 212\n",
            "[61/126] 영상(ID: oEThJ8Gr42E) 댓글 수집 중...\n",
            " -> 수집된 댓글 수: 256\n",
            "[62/126] 영상(ID: YQnugO8SEx0) 댓글 수집 중...\n",
            " -> 수집된 댓글 수: 562\n",
            "[63/126] 영상(ID: 4_sHEqe_5LQ) 댓글 수집 중...\n",
            " -> 수집된 댓글 수: 162\n",
            "[64/126] 영상(ID: cg_79er5nwg) 댓글 수집 중...\n",
            " -> 수집된 댓글 수: 193\n",
            "[65/126] 영상(ID: yVNNg0a5siI) 댓글 수집 중...\n",
            " -> 수집된 댓글 수: 363\n",
            "[66/126] 영상(ID: vS5SfqI1eVc) 댓글 수집 중...\n",
            " -> 수집된 댓글 수: 377\n",
            "[67/126] 영상(ID: 6PXnF2MUA8s) 댓글 수집 중...\n",
            " -> 수집된 댓글 수: 147\n",
            "[68/126] 영상(ID: P_bbfBTtFP4) 댓글 수집 중...\n",
            " -> 수집된 댓글 수: 118\n",
            "[69/126] 영상(ID: XOQ_yudmgAM) 댓글 수집 중...\n",
            " -> 수집된 댓글 수: 405\n",
            "[70/126] 영상(ID: BPgQp2VuZwQ) 댓글 수집 중...\n",
            " -> 수집된 댓글 수: 1296\n",
            "[71/126] 영상(ID: RXTYhNfFhKU) 댓글 수집 중...\n",
            " -> 수집된 댓글 수: 530\n",
            "[72/126] 영상(ID: KQZRZ8989P4) 댓글 수집 중...\n",
            " -> 수집된 댓글 수: 269\n",
            "[73/126] 영상(ID: wqPcMKgI8ko) 댓글 수집 중...\n",
            " -> 수집된 댓글 수: 428\n",
            "[74/126] 영상(ID: 3nCdEf2TNR4) 댓글 수집 중...\n",
            " -> 수집된 댓글 수: 117\n",
            "[75/126] 영상(ID: -j7X6mjrJ3M) 댓글 수집 중...\n",
            " -> 수집된 댓글 수: 415\n",
            "[76/126] 영상(ID: 4r-RioTaigs) 댓글 수집 중...\n",
            " -> 수집된 댓글 수: 229\n",
            "[77/126] 영상(ID: VLySUFVAR-k) 댓글 수집 중...\n",
            " -> 수집된 댓글 수: 364\n",
            "[78/126] 영상(ID: dvrRLiS2Bio) 댓글 수집 중...\n",
            " -> 수집된 댓글 수: 239\n",
            "[79/126] 영상(ID: E1XIGOmyq_w) 댓글 수집 중...\n",
            " -> 수집된 댓글 수: 785\n",
            "[80/126] 영상(ID: ZobWPTtxziQ) 댓글 수집 중...\n",
            " -> 수집된 댓글 수: 395\n",
            "[81/126] 영상(ID: CbblxOpQPSw) 댓글 수집 중...\n",
            " -> 수집된 댓글 수: 419\n",
            "[82/126] 영상(ID: otXg1iCkvE0) 댓글 수집 중...\n",
            " -> 수집된 댓글 수: 250\n",
            "[83/126] 영상(ID: 8HGYSVBDryQ) 댓글 수집 중...\n",
            " -> 수집된 댓글 수: 284\n",
            "[84/126] 영상(ID: EHRoa_5x_CA) 댓글 수집 중...\n",
            " -> 수집된 댓글 수: 97\n",
            "[85/126] 영상(ID: ng4KCtfc9VQ) 댓글 수집 중...\n",
            " -> 수집된 댓글 수: 88\n",
            "[86/126] 영상(ID: yt4Dp12_Wc0) 댓글 수집 중...\n",
            " -> 수집된 댓글 수: 168\n",
            "[87/126] 영상(ID: 6xWujCula1c) 댓글 수집 중...\n",
            " -> 수집된 댓글 수: 130\n",
            "[88/126] 영상(ID: rdX_9ySuU_s) 댓글 수집 중...\n",
            " -> 수집된 댓글 수: 124\n",
            "[89/126] 영상(ID: -vEE44TNMqE) 댓글 수집 중...\n",
            " -> 수집된 댓글 수: 551\n",
            "[90/126] 영상(ID: N2uB5wCm6kQ) 댓글 수집 중...\n",
            " -> 수집된 댓글 수: 251\n",
            "[91/126] 영상(ID: rV8IgxBb5MI) 댓글 수집 중...\n",
            " -> 수집된 댓글 수: 175\n",
            "[92/126] 영상(ID: C9uzn8eEp08) 댓글 수집 중...\n",
            " -> 수집된 댓글 수: 117\n",
            "[93/126] 영상(ID: k3qoE-F_X8w) 댓글 수집 중...\n",
            " -> 수집된 댓글 수: 119\n",
            "[94/126] 영상(ID: AJIPyi5tmdk) 댓글 수집 중...\n",
            "Error fetching comments for video AJIPyi5tmdk: {\n",
            "  \"error\": {\n",
            "    \"code\": 403,\n",
            "    \"message\": \"The video identified by the \\u003ccode\\u003e\\u003ca href=\\\"/youtube/v3/docs/commentThreads/list#videoId\\\"\\u003evideoId\\u003c/a\\u003e\\u003c/code\\u003e parameter has disabled comments.\",\n",
            "    \"errors\": [\n",
            "      {\n",
            "        \"message\": \"The video identified by the \\u003ccode\\u003e\\u003ca href=\\\"/youtube/v3/docs/commentThreads/list#videoId\\\"\\u003evideoId\\u003c/a\\u003e\\u003c/code\\u003e parameter has disabled comments.\",\n",
            "        \"domain\": \"youtube.commentThread\",\n",
            "        \"reason\": \"commentsDisabled\",\n",
            "        \"location\": \"videoId\",\n",
            "        \"locationType\": \"parameter\"\n",
            "      }\n",
            "    ]\n",
            "  }\n",
            "}\n",
            "\n",
            " -> 수집된 댓글 수: 0\n",
            "[95/126] 영상(ID: DiIN7vPvbdQ) 댓글 수집 중...\n",
            " -> 수집된 댓글 수: 437\n",
            "[96/126] 영상(ID: yPlz-Qf-pJU) 댓글 수집 중...\n",
            " -> 수집된 댓글 수: 135\n",
            "[97/126] 영상(ID: tfZzGFzFFRY) 댓글 수집 중...\n",
            " -> 수집된 댓글 수: 593\n",
            "[98/126] 영상(ID: VJXxW5b90IM) 댓글 수집 중...\n",
            " -> 수집된 댓글 수: 184\n",
            "[99/126] 영상(ID: oPk8d1jA34k) 댓글 수집 중...\n",
            " -> 수집된 댓글 수: 517\n",
            "[100/126] 영상(ID: lJoa2SV8LsE) 댓글 수집 중...\n",
            " -> 수집된 댓글 수: 749\n",
            "[101/126] 영상(ID: YEOVT4DhZC0) 댓글 수집 중...\n",
            " -> 수집된 댓글 수: 887\n",
            "[102/126] 영상(ID: vS2lOVuFHn0) 댓글 수집 중...\n",
            " -> 수집된 댓글 수: 410\n",
            "[103/126] 영상(ID: maV7hlF_ufQ) 댓글 수집 중...\n",
            " -> 수집된 댓글 수: 566\n",
            "[104/126] 영상(ID: 5iwvu-CNU7Q) 댓글 수집 중...\n",
            " -> 수집된 댓글 수: 542\n",
            "[105/126] 영상(ID: SYGc5HG-kHo) 댓글 수집 중...\n",
            " -> 수집된 댓글 수: 319\n",
            "[106/126] 영상(ID: qFKkKJi7698) 댓글 수집 중...\n",
            " -> 수집된 댓글 수: 406\n",
            "[107/126] 영상(ID: i2F9qGxTKcU) 댓글 수집 중...\n",
            " -> 수집된 댓글 수: 683\n",
            "[108/126] 영상(ID: XHYeqeWl5-Q) 댓글 수집 중...\n",
            " -> 수집된 댓글 수: 1867\n",
            "[109/126] 영상(ID: mf9jGS_zjhI) 댓글 수집 중...\n",
            " -> 수집된 댓글 수: 659\n",
            "[110/126] 영상(ID: jgX5RDcKcao) 댓글 수집 중...\n",
            " -> 수집된 댓글 수: 661\n",
            "[111/126] 영상(ID: yR4ZzLZcW8E) 댓글 수집 중...\n",
            " -> 수집된 댓글 수: 419\n",
            "[112/126] 영상(ID: tlOC0tc7x88) 댓글 수집 중...\n",
            " -> 수집된 댓글 수: 739\n",
            "[113/126] 영상(ID: m6oQXN2WNtU) 댓글 수집 중...\n",
            " -> 수집된 댓글 수: 1015\n",
            "[114/126] 영상(ID: r2UIo_iiIrI) 댓글 수집 중...\n",
            " -> 수집된 댓글 수: 622\n",
            "[115/126] 영상(ID: pjTjb63DgY8) 댓글 수집 중...\n",
            " -> 수집된 댓글 수: 599\n",
            "[116/126] 영상(ID: Xu1Y9lLh9Hg) 댓글 수집 중...\n",
            " -> 수집된 댓글 수: 559\n",
            "[117/126] 영상(ID: rkuOOfpDyWg) 댓글 수집 중...\n",
            " -> 수집된 댓글 수: 1014\n",
            "[118/126] 영상(ID: 1aZLL63wlTU) 댓글 수집 중...\n",
            " -> 수집된 댓글 수: 1729\n",
            "[119/126] 영상(ID: WkwZ_A49hb8) 댓글 수집 중...\n",
            " -> 수집된 댓글 수: 14754\n",
            "[120/126] 영상(ID: LQ9a-x_gqQ0) 댓글 수집 중...\n",
            " -> 수집된 댓글 수: 926\n",
            "[121/126] 영상(ID: eF6sMbRVRYw) 댓글 수집 중...\n",
            " -> 수집된 댓글 수: 1693\n",
            "[122/126] 영상(ID: hamD7RueuvA) 댓글 수집 중...\n",
            " -> 수집된 댓글 수: 2532\n",
            "[123/126] 영상(ID: q7Yr4U5Clls) 댓글 수집 중...\n",
            " -> 수집된 댓글 수: 1535\n",
            "[124/126] 영상(ID: tI_FqaAotA8) 댓글 수집 중...\n",
            " -> 수집된 댓글 수: 2338\n",
            "[125/126] 영상(ID: l2D4P02HfGk) 댓글 수집 중...\n",
            " -> 수집된 댓글 수: 1497\n",
            "[126/126] 영상(ID: sHky_Xopyrw) 댓글 수집 중...\n",
            " -> 수집된 댓글 수: 8709\n"
          ]
        }
      ]
    },
    {
      "cell_type": "code",
      "source": [
        "print(f\"총 수집된 댓글 수: {len(all_comments)}\")"
      ],
      "metadata": {
        "colab": {
          "base_uri": "https://localhost:8080/"
        },
        "id": "PFuTVdtWRCjV",
        "outputId": "e2da4f42-3a58-4da6-8332-173ff826e1df"
      },
      "execution_count": 26,
      "outputs": [
        {
          "output_type": "stream",
          "name": "stdout",
          "text": [
            "총 수집된 댓글 수: 96987\n"
          ]
        }
      ]
    },
    {
      "cell_type": "code",
      "source": [
        "# jsonl로 저장\n",
        "print(\"jsonl 파일로 저장 중...\")\n",
        "with open(OUTPUT_FILE, \"w\", encoding=\"utf-8\") as f:\n",
        "    for comment in all_comments:\n",
        "        f.write(json.dumps(comment, ensure_ascii=False) + \"\\n\")"
      ],
      "metadata": {
        "colab": {
          "base_uri": "https://localhost:8080/"
        },
        "id": "yVwwlpHMRCl7",
        "outputId": "25ac79a2-50a2-4a19-da75-fa3720f620e6"
      },
      "execution_count": 27,
      "outputs": [
        {
          "output_type": "stream",
          "name": "stdout",
          "text": [
            "jsonl 파일로 저장 중...\n"
          ]
        }
      ]
    },
    {
      "cell_type": "code",
      "source": [
        "print(\"저장 완료:\", OUTPUT_FILE)"
      ],
      "metadata": {
        "colab": {
          "base_uri": "https://localhost:8080/"
        },
        "id": "wjFyHd0vRCog",
        "outputId": "4ec7bdbf-a980-40a8-80f3-0714543d96fa"
      },
      "execution_count": 28,
      "outputs": [
        {
          "output_type": "stream",
          "name": "stdout",
          "text": [
            "저장 완료: harris_comments_api.jsonl\n"
          ]
        }
      ]
    },
    {
      "cell_type": "code",
      "source": [],
      "metadata": {
        "id": "OhTk9KwsRCrG"
      },
      "execution_count": null,
      "outputs": []
    }
  ]
}